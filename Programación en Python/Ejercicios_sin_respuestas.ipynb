{
 "cells": [
  {
   "cell_type": "markdown",
   "metadata": {},
   "source": [
    "<font color = #000066 size=6.5> Facultad de Ciencias</font> \n",
    "\n",
    "<br><font color = #CC9933 size=6.5> UNAM </font> \n",
    "\n",
    " <br><font color = silver size=7> Ejercicios: Programación en Python</font> "
   ]
  },
  {
   "cell_type": "markdown",
   "metadata": {},
   "source": [
    "***"
   ]
  },
  {
   "cell_type": "markdown",
   "metadata": {},
   "source": [
    "## Ejercicio 1. \n",
    "\n",
    "Importa la librería `numpy` y utilízala para generar un arreglo de 100 números aleatorios de una distribución N(0,1). Cuenta cuántos de esos números son negativos. ¿Son 50? ¿Cuántos son? "
   ]
  },
  {
   "cell_type": "code",
   "execution_count": 1,
   "metadata": {},
   "outputs": [],
   "source": [
    "# Tu código aquí "
   ]
  },
  {
   "cell_type": "markdown",
   "metadata": {},
   "source": [
    "## Ejercicio 2.\n",
    "\n",
    "Escribe un programa de python que haga la conversión de grados fahrenheit $F$ a grados celsius $C$. Recuerda que $$C=\\dfrac{5}{9}(F-32)$$."
   ]
  },
  {
   "cell_type": "code",
   "execution_count": 2,
   "metadata": {},
   "outputs": [],
   "source": [
    "# Tu programa va aquí"
   ]
  },
  {
   "cell_type": "markdown",
   "metadata": {},
   "source": [
    "## Ejercicio 3.\n",
    "\n",
    "Crea un programa que reciba del usuario dos enteros $a$ y $b$ (inputs). Calcula y muestra lo siguiente:\n",
    "> * La suma de $a$ y $b$\n",
    "> * La diferencia de $b$ menos $a$\n",
    "> * El valor absoluto de la diferencia entre $a$ y $b$\n",
    "> * El resultado de multiplicar $a$ y $b$\n",
    "> * El resultado de dividir $a$ y $b$\n",
    "> * El número $a$ elevado a la $b$"
   ]
  },
  {
   "cell_type": "code",
   "execution_count": 3,
   "metadata": {},
   "outputs": [],
   "source": [
    "# Tu código aquí"
   ]
  },
  {
   "cell_type": "markdown",
   "metadata": {},
   "source": [
    "## Ejercicio 4. \n",
    "\n",
    "El siguiente código crea la gráfica de tres ecuaciones cuadráticas en un dominio de -10 a 10 unidades. \n",
    "\n",
    "Agrega el código necesario a la celda para que la gráfica tenga los siguientes elementos: un título adecuado, una leyenda que diga qué ecuación es cada línea (se verá mejor si lo escribes con código latex), el nombre del eje x, nombre del eje y. Además, cambia los colores de las líneas y aumenta el tamaño de la gráfica, guárdala con el nombre 'mi_grafica.png'."
   ]
  },
  {
   "cell_type": "code",
   "execution_count": 4,
   "metadata": {},
   "outputs": [
    {
     "data": {
      "text/plain": [
       "[<matplotlib.lines.Line2D at 0x7f99eeb0ceb0>]"
      ]
     },
     "execution_count": 4,
     "metadata": {},
     "output_type": "execute_result"
    },
    {
     "data": {
      "image/png": "[encoded data removed]",
      "text/plain": [
       "<Figure size 432x288 with 1 Axes>"
      ]
     },
     "metadata": {
      "needs_background": "light"
     },
     "output_type": "display_data"
    }
   ],
   "source": [
    "import matplotlib.pyplot as plt \n",
    "import numpy as np\n",
    "\n",
    "x = np.linspace(-10,10,50)\n",
    "y1 = x**2\n",
    "y2 = -x**2\n",
    "y3 = (x-5)**2\n",
    "plt.plot(x,y1)\n",
    "plt.plot(x,y2)\n",
    "plt.plot(x,y3)"
   ]
  },
  {
   "cell_type": "markdown",
   "metadata": {},
   "source": [
    "Ahora, separa cada una de las funciones en un gráfico diferente, formando un arreglo de 3x1 gráficas. Recomendación, utiliza el método `subplot( )`"
   ]
  },
  {
   "cell_type": "code",
   "execution_count": 5,
   "metadata": {},
   "outputs": [
    {
     "data": {
      "text/plain": [
       "<matplotlib.axes._subplots.AxesSubplot at 0x7f99eeb84460>"
      ]
     },
     "execution_count": 5,
     "metadata": {},
     "output_type": "execute_result"
    },
    {
     "data": {
      "image/png": "[encoded data removed]",
      "text/plain": [
       "<Figure size 720x576 with 1 Axes>"
      ]
     },
     "metadata": {
      "needs_background": "light"
     },
     "output_type": "display_data"
    }
   ],
   "source": [
    "# Aquí hay un cascarón del código\n",
    "\n",
    "plt.figure(1, figsize=(10,8)) # la dimensión de la figura completa\n",
    "\n",
    "x = np.linspace(-10,10,50)\n",
    "y1 = x**2\n",
    "y2 = -x**2\n",
    "y3 = (x-5)**2\n",
    "\n",
    "plt.subplot(3,1, 1) \n",
    "# aquí va más código\n",
    "# ..."
   ]
  },
  {
   "cell_type": "markdown",
   "metadata": {},
   "source": [
    "## Ejercicio 5. \n",
    "\n",
    "La sintaxis para escribir un condicional **if-else** es la siguiente:\n",
    "\n",
    "<span style=\"color:blue\">if</span> logical:\n",
    "\n",
    "    Code to run if logical true\n",
    "    \n",
    "<span style=\"color:blue\">else</span> logical:\n",
    "\n",
    "    Code to run if logical false \n",
    "    \n",
    "Escribe un código que le pida al usuario un número entero entre 0 y 10 (incluyendo 0 y 10) y que **devuelva el siguente número entero** para el caso de que el usuario dio un numero mayor que 5, y que **devuelva el número entero anterior** si el usuario dio un número menor o igual que 5.\n",
    "\n",
    "*Hint.* Investiga y utiliza el método `input( )`"
   ]
  },
  {
   "cell_type": "code",
   "execution_count": 6,
   "metadata": {},
   "outputs": [],
   "source": [
    "# Tu código aquí"
   ]
  },
  {
   "cell_type": "markdown",
   "metadata": {},
   "source": [
    "## Ejercicio 6.\n",
    "\n",
    "Extrae una serie de tiempo histórica de tu acción favorita y grafica un histograma de los rendimientos usando la librería `seaborn`. Recuerda que puedes usar la librería `yahoo_fin.stock_info`.\n"
   ]
  },
  {
   "cell_type": "code",
   "execution_count": 7,
   "metadata": {},
   "outputs": [],
   "source": [
    "import seaborn\n",
    "import yahoo_fin.stock_info\n",
    "\n",
    "# El resto del código va aquí"
   ]
  },
  {
   "cell_type": "markdown",
   "metadata": {},
   "source": [
    "## Ejercicio 7.\n",
    "\n",
    "El siguiente código es un ejemplo de como se programa un **while** en python"
   ]
  },
  {
   "cell_type": "code",
   "execution_count": 8,
   "metadata": {},
   "outputs": [
    {
     "name": "stdout",
     "output_type": "stream",
     "text": [
      "1\n",
      "2\n",
      "3\n",
      "4\n",
      "5\n",
      "6\n",
      "7\n",
      "8\n",
      "9\n",
      "10\n",
      "fin\n"
     ]
    }
   ],
   "source": [
    "num = 1  # Se inicializa la variable num\n",
    "\n",
    "while(num <= 10):  # mientras num sea menor o igual que 10\n",
    "    print(num) # imprime num\n",
    "    num += 1     # sumale 1 a num y reeasigna el resultado a num\n",
    "    \n",
    "print(\"fin\") # imprime que es el final"
   ]
  },
  {
   "cell_type": "markdown",
   "metadata": {},
   "source": [
    "Supón que nos gustaría saber en cuántos años podemos duplicar una inversión de 1,000 pesos que estan invertidos en una cuenta de ahorros que te paga una tasa anual fija del 8.5%. Haz un programa que te muestre que debes esperar 9 años para llegar a tener 2,000 pesos en mi cuenta de ahorro."
   ]
  },
  {
   "cell_type": "code",
   "execution_count": 9,
   "metadata": {},
   "outputs": [],
   "source": [
    "# Tu código"
   ]
  },
  {
   "cell_type": "markdown",
   "metadata": {},
   "source": [
    "## Ejercicio 8.\n",
    "\n",
    "Suppose that you invest $\\Pi$ MXN today in a risk-free bank account.\n",
    "Considering **compound interest rate yields** the amount if one is earning  is\n",
    "\\begin{equation}\n",
    "\\Pi\\left(1+\\frac{r}{n}\\right)^{nT}.\n",
    "\\end{equation}\n",
    "over the period $[0,T]$, where $r$ is the annual nominal interest rate and $n$ the number of times the interest is compounded per year.\n",
    "For example, if $n=1$, this is a yearly rate, for $n=2$, this is a 6-month rate, and $n=252$ corresponds to a daily rate.\n",
    "\n",
    "**Question:** \n",
    "- Write a program computing  how much money will be compounded as a function of $\\Pi, r, T, n$.\n",
    "- As $n$ becomes large, compute the limit of above equation, and illustrate it numerically.\n"
   ]
  },
  {
   "cell_type": "code",
   "execution_count": 10,
   "metadata": {},
   "outputs": [],
   "source": [
    "# Tu función va aquí\n",
    "def returns(P, r, T, n):\n",
    "    \"\"\"\n",
    "    \n",
    "    \"\"\"\n",
    "    algo = []\n",
    "    \n",
    "    return algo\n",
    "\n",
    "# aquí va el resto de tu código"
   ]
  },
  {
   "cell_type": "markdown",
   "metadata": {},
   "source": [
    "<br><font color = #708090 size=1> El contenido de este documento fue inspirado en las notas de los cursos *Python for Finance* e *Introduction to Python Primer* impartidos por los doctores Antoine Jacquier, Aitor Murguraza Gonzalez y Riaz Ahmad. Para cualquier duda o comentario del contenido, escribir a marianne.toscano@ciencias.unam.mx  </font>  "
   ]
  }
 ],
 "metadata": {
  "kernelspec": {
   "display_name": "Python 3",
   "language": "python",
   "name": "python3"
  },
  "language_info": {
   "codemirror_mode": {
    "name": "ipython",
    "version": 3
   },
   "file_extension": ".py",
   "mimetype": "text/x-python",
   "name": "python",
   "nbconvert_exporter": "python",
   "pygments_lexer": "ipython3",
   "version": "3.8.3"
  }
 },
 "nbformat": 4,
 "nbformat_minor": 4
}
