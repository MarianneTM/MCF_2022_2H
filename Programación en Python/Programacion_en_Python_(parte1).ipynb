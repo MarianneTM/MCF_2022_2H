{
 "cells": [
  {
   "cell_type": "markdown",
   "metadata": {},
   "source": [
    "</br><font color = #000066 size=6.5> Facultad de Ciencias</font> \n",
    "\n",
    "<br><font color = #CC9933 size=6.5> UNAM </font> \n",
    "\n",
    " <br><font color = silver size=7> Programación en Python</font> "
   ]
  },
  {
   "cell_type": "markdown",
   "metadata": {},
   "source": [
    "***"
   ]
  },
  {
   "cell_type": "markdown",
   "metadata": {},
   "source": [
    "# Notas del curso Métodos Cuantitativos en Finanzas (Parte 1)\n",
    "\n",
    "\n",
    "El presente curso de programación está dividido en partes para mantener más legible, entendible y ordenado el contenido. \n",
    "\n",
    "<br><font color = #708090 size=1> El contenido de este documento fue inspirado en las notas de los cursos *Python for Finance* e *Introduction to Python Primer* impartidos por los doctores Antoine Jacquier, Aitor Murguraza Gonzalez y Riaz Ahmad. Para cualquier duda o comentario el contenido, escribir a marianne.toscano@ciencias.unam.mx  </font>  "
   ]
  },
  {
   "cell_type": "markdown",
   "metadata": {},
   "source": [
    "## Introducción a Python\n",
    "\n",
    "### ¿Por qué Python?\n",
    "\n",
    "* De acuerdo con *eFinancialCareers*, Python es el lenguaje de programación que te hará conseguir un trabajo en el sistema bancario - *The coding languages that will get you a job in banking, ranked* https://www.efinancialcareers.co.uk/news/finance/the-six-hottest-programming-languages-to-know-in-banking-technology\n",
    "\n",
    "<img src=\"./img/current_job_openings.png\" style=\"width:500px\">\n",
    "\n",
    "* *Python was also beginning to garner attention from the scientific community, particularly in neuroscience research, where it started to be used extensively. With the development of the library NumPy, Python started to be seen as an alternative to R, Matlab, and other scientific computing languages for research projects.* https://www.welcometothejungle.com/en/articles/btc-python-popular\n",
    "\n",
    "\n",
    "* *Python: El lenguaje del futuro* https://www.baoss.es/python-el-lenguaje-del-futuro/\n",
    "\n",
    "\n",
    "* La UNAM también difunde y promueve el aprendizaje de python https://unamglobal.unam.mx/la-unviersidad-de-michigan-ofrece-popular-curso-de-python-gratis-y-en-espanol/\n",
    "\n",
    "\n",
    "La historia de Python en wikipedia.   https://en.wikipedia.org/wiki/History_of_Python. La imagen siguiente ilustra una serie de televisión en la que se inspiraron los creadores de este leguaje para ponerle nombre.\n",
    "\n",
    "\n",
    "<img src=\"./img/Monty_pythons_flying_circus.jpeg\" style=\"width:500px\">\n",
    "\n",
    "\n",
    "Programamos por **necesidad**. La complexidad de muchos problemas de las áreas laborales, académicas o de investigación nos impide que utilicemos solo técnicas analyticas para modelar. Nos vemos muy limitados. Por ejemplo, en finanzas, a menos de que el problema sea muy básico om que incluya muchos supuestos, es altamente improbable que exista una solución de forma cerrada.\n",
    "\n",
    "###  Características del lenguaje de programación\n",
    "* Es simple para entender y fácil de recordar \n",
    "* El código se puede leer como si se estuviera leyendo algo escrito en inglés\n",
    "* Es código abierto \n",
    "\n",
    ">* Libre distribución\n",
    ">* El código fuente de todas las funciones debe estar incluido\n",
    ">* Cualquiera puede modificar/mejorar el código fuente\n",
    ">* Puede ejecutarse en diferentes dispositivos y sistemas operativos (Windows, IOS, Linux)\n",
    "\n",
    "* Popularmente usardo para Machine Learning y Data Science\n",
    "* Lenguaje interpretado\n",
    "\n",
    ">* A diferencia de los lenguajes compilados, son más lentos\n",
    ">* Más facil para aprender\n",
    ">* Menos estricto para los errores de programación\n",
    "\n",
    "* Alta polularidad y gran apoyo de la comunidad\n",
    "* Tiene una selección extensiva de bibliotecas y paquetes \n",
    ">* Keras, TensorFlow, Scikit-learn para machine learning\n",
    ">* NumPy para para computación científica de alto rendimiento y análisis de datos \n",
    ">* SciPy para computacióm científica avanzada\n",
    ">* Pandas para análisis de datos \n",
    ">* Seaborn para (fancy) visualización de datos\n",
    "\n"
   ]
  },
  {
   "cell_type": "markdown",
   "metadata": {},
   "source": [
    "***"
   ]
  },
  {
   "cell_type": "markdown",
   "metadata": {},
   "source": [
    "## Primeros pasos"
   ]
  },
  {
   "cell_type": "markdown",
   "metadata": {},
   "source": [
    "### Distribuciones de Python\n",
    "\n",
    "Python es un lenguaje de programación, entonces existen diferentes plataformas de distribución, compiladores e intérpretes para dar forma a los códigos y desarrollar los programas. Como ejemplos tenemos: Python official, Anaconda Python, Enthought Canopy, pythonxy,...\n",
    "\n",
    "Cada distribuidor proporciona diferentes y útiles herramientas, como editores, paqueterías preinstaladas, soporte en algunas plataformas.\n",
    "\n"
   ]
  },
  {
   "cell_type": "markdown",
   "metadata": {},
   "source": [
    "En Linux y Mac OS, Python viene pre-instalado con el sistema operativo, no obstante, muchas paquetes o módulos (por ejemplo, SciPy) se deben instalar manualmente. \n",
    "\n",
    "<img src=\"./img/linux_macOS_windows.png\" style=\"width:200px\">\n",
    "\n",
    "### Paso 1. Iniciamos con Anaconda\n",
    "<img src=\"./img/Anaconda_logo.png\" style=\"width:200px\">\n",
    "\n",
    "Usaremos Anaconda por su fácil y amigable interfaz https://www.anaconda.com/download/\n",
    "\n",
    "\n",
    "\n",
    "Por facilidad, Anaconda es la herramienta que usaremos. Anaconda es una plataforma de código abierto que tiene diversas herramientas; incluyendo una distribución de Python, un administrador de paquetes conda, una forma de administrar el entorno y muchos módulos y paquetes preinstalados (por ejemplo, cuadernos NumPy, SciPy y Jupyter). \n",
    "\n",
    "<img src=\"./img/Anaconda_platform.png\" style=\"width:300px\">\n",
    "\n",
    "El uso de Anaconda facilita enormemente el proceso de aprendizaje y evita muchos problemas a los que se enfrentan los nuevos programadores de Python. Más importante aún, es excelente para enseñar en el aula.\n",
    "\n",
    "<img src=\"./img/Anaconda.png\" style=\"width:500px\">"
   ]
  },
  {
   "cell_type": "markdown",
   "metadata": {},
   "source": [
    "#### Paso 1.1 Instalación de Anaconda\n",
    "\n",
    "Para instalar Anaconda, primero tenemos que saber si la computadora o máquina con la que voy a trabajr tiene un procesador de 32 bits o de 64 bits.\n",
    "\n",
    "##### ¿Cómo saber si mi PC/laptop es de 32 o 64-bit?\n",
    "\n",
    "* **Linux** uname -a  (si ves x64 entonces 64-bit, si no, 32-bit)\n",
    "* **Mac OS** uname -a\n",
    "* Windows (viejito) - Click en Start > click derecho en My Computer > click en Properties > dirá 64-bit \n",
    "* **Windows 10** - En Search escribe \"device specifications\" > System Specifications\n",
    "\n",
    "\n",
    "Ahora instala de acuerdo a tu sistema operativo\n",
    "\n",
    "<img src=\"./img/Anaconda_installers.png\" style=\"width:600px\">\n",
    "\n",
    "Usaremos la versión *Python 3*"
   ]
  },
  {
   "cell_type": "markdown",
   "metadata": {},
   "source": [
    "### Paso 2.  Inicialización de Jupyter Notebook\n",
    "\n",
    "Una vez instalado todo, puedes ingresar a `Jupyter notebook` por diversas maneras, las más sencillas son las siguientes:\n",
    "\n",
    "* **Mac OS** En la terminal escribe `jupyther notebook`\n",
    "<img src=\"./img/Mac_terminal_jupyter.png\" style=\"width:600px\">\n",
    "\n",
    "\n",
    "* **Linux** En la terminal escribe `jupyther notebook`\n",
    "<img src=\"./img/Linux_terminal_jupyter.png\" style=\"width:600px\">\n",
    "\n",
    "\n",
    "* **Windows** En Anaconda prompt escribe `jupyther notebook`\n",
    "<img src=\"./img/Windows_terminal_jupyter.png\" style=\"width:600px\">\n",
    "\n",
    "\n",
    "* **Desde el Navegador de Anaconda** da click en el botón *Lounch Jupyter*\n",
    "<img src=\"./img/Anaconda_navigator.png\" style=\"width:600px\">\n",
    "\n",
    "\n",
    "Jupyter se ejecuta en su navegador web, pero no requiere una conexión a Internet para funcionar. Python y el IDE se ejecutan localmente en tu máquina, el navegador es solo una interfaz de usuario conveniente.\n",
    "\n",
    "<img src=\"./img/jupyter_inicio.png\" style=\"width:600px\">"
   ]
  },
  {
   "cell_type": "markdown",
   "metadata": {},
   "source": [
    "### Paso 3. Crear un notebook de Jupyter de Python\n",
    "\n",
    "Luego de instalar Anaconda y abrir Jupyter, un nuevo notebook puede abrirse seleccionando *New* > *Python 3*\n",
    "\n",
    "<img src=\"./img/new_python3.png\" style=\"width:400px\">\n",
    "\n",
    "<br><font color = #BB9963 size=5> ¡ojo! </font>  Dependiendo de la versión de Anaconda que instales (o ya tengas), habrán más opciones como `Python 2`o `Python 3`. La elección que hagas aquí define el lenguaje de programación del notebook. **En este curso, siempre usaremos Python 3**.\n",
    "\n",
    "Se pueden instalar otros lenguajes de programación en Jupyter. \n",
    "\n",
    "¿Cómo? con el comando `conda install -c r r-irkernel` en tu terminal o en Anaconda prompt. Una vez instalado, verás `R`en el menu *New*.\n",
    "<img src=\"./img/R_logo.png\" style=\"width:100px\">\n"
   ]
  },
  {
   "cell_type": "markdown",
   "metadata": {},
   "source": [
    "***"
   ]
  },
  {
   "cell_type": "markdown",
   "metadata": {},
   "source": [
    "## Introducción de IPython notebook\n",
    "\n",
    "### 1. Celdas `Cell` \n",
    "Una celda es como un ladrillo con el que se contruyen los notebooks de jupyter. Cada notebook consiste en múltiples celdas y se pueden añadir con hacer click en `Insert` o click en el botón con el símbolo `+`\n",
    "<img src=\"./img/insert_cell.png\" style=\"width:400px\">\n",
    "\n",
    "Para eliminar celdas le puedes dar click en `Edit`y luego seleccionar `Delete Cells`\n",
    "\n",
    "#### 1.1 Tipos de celdas\n",
    "\n",
    "En jupyther notebook hay fundamentalmente dos tipos de celdas:\n",
    "* `Markdown` se usa para escribir texto y formulas matemáticas como  \n"
   ]
  },
  {
   "cell_type": "markdown",
   "metadata": {},
   "source": [
    "$$\n",
    "\\frac{1}{2\\pi}\\int_{\\mathbb{R}}\\exp\\left(-\\frac{x^2}{2}\\right)dx = \\cdots\n",
    "$$"
   ]
  },
  {
   "cell_type": "markdown",
   "metadata": {},
   "source": [
    "<br><font color = red size=5> ¡ojo! </font>  Se recomienda que, siempre que entregues tareas en notebooks de python (y para aplicar a trabajos que soliciten códigos, para hacer tareas en equipo, proyectos, etc.), utilices `Markdown`. Esto hará más comprensible tu código.\n",
    "\n",
    "\n",
    "* `Code` se utiliza para ejecutar código"
   ]
  },
  {
   "cell_type": "code",
   "execution_count": 1,
   "metadata": {},
   "outputs": [
    {
     "name": "stdout",
     "output_type": "stream",
     "text": [
      "¡Hola estudiantes de Ciencias! Este es un ejemplo de celda tipo Code.\n"
     ]
    }
   ],
   "source": [
    "print(\"¡Hola estudiantes de Ciencias!\", \"Este es un ejemplo de celda tipo Code.\")"
   ]
  },
  {
   "cell_type": "markdown",
   "metadata": {},
   "source": [
    "#### 1.2 Modos de ejecución de las celdas\n",
    "\n",
    "Los notebooks tienen dos modos de ejecución de las celdas\n",
    "\n",
    "1. El modo de comando - la celda se pinta de un marco azul (tecla `Esc`). En ese modo se pueden añadir, borrar celdas, utilizar shortcuts.\n",
    "\n",
    "2. El modo de edición - la celdas se pintan de un marco verde (tecla `Enter`).\n",
    "\n",
    "Presionando con doble click en una celda puedes ver su contenido, ya sea código o contenido en Markdown."
   ]
  },
  {
   "cell_type": "markdown",
   "metadata": {},
   "source": [
    "### 2. El Kernel\n",
    "\n",
    "Una sesión o un *kernel* gestiona todo el código, las variables, los nombres,..., dentro de un notebook. El *kernel* puede ser reestablecido en cualquier momento de ser necesario \n",
    "\n",
    "<img src=\"./img/kernel_menu.png\" style=\"width:400px\">"
   ]
  },
  {
   "cell_type": "markdown",
   "metadata": {},
   "source": [
    "### 3. Python, versión y documentación\n",
    "\n",
    "Como practicantes de matemáticas, no hay necesidad de moemorizar decenas de resultados de cálculo diferencial e integral para ocupar esas técnicas, con tal de que sepamos los resultados básicos y los entendamos, para todo lo demás hay tablas o el propio *Google*. \n",
    "\n",
    "Lo mismo pasa con programar, nadie tiene el tiempo de memorizar cada uno de los funciones de Python y muy problablemente hay mucho que nunca tendrán que utilizar. Así, aparte de una pequeña cantidad de funciones que tendrás que memorizar, el resto las puedes buscar en las siguientes fuentes:\n",
    "\n",
    "* La principal documentación de Python está disponible en https://docs.python.org/3.8/reference/ \n",
    "* Stackoverflow es bastante útil https://stackoverflow.com/\n",
    "* Googléalo (obviamente)\n",
    "\n",
    "#### Versión de Python\n",
    "\n",
    "Para conocer la versión que estamos usando actualmente se ejecuta el código `!python3 --version`. "
   ]
  },
  {
   "cell_type": "code",
   "execution_count": 2,
   "metadata": {},
   "outputs": [
    {
     "name": "stdout",
     "output_type": "stream",
     "text": [
      "Python 3.8.3\r\n"
     ]
    }
   ],
   "source": [
    "!python --version"
   ]
  },
  {
   "cell_type": "markdown",
   "metadata": {},
   "source": [
    "#### Usar el elemento `!` \n",
    "\n",
    "En la celda anterior usamos `!` para conocer la versión que tenemos instalada de Python. `!` le dice al interprete que mande el código a la línea de comando o terminal o Anaconda prompt de mi computador. De esta manera podemos utilizar este tipo de código que se debe correr en la terminal, directamente aquí en una celda tipo `Code`.\n",
    "\n",
    "### 4. Instalar paquetes/librerías/módulos de Python\n",
    "\n",
    "Uno de los grandes beneficios de Python es que su comunidad desarrolladora es muy activa. Esto significa que, antes de que pienses en implementar un algoritmo por tu cuenta, vale la pena que revises si exite algun paquete de libre distribucón que realice la actividad que necesitas.\n",
    "\n",
    "**PIP (Pip Installs Packages)** es la herramienta para instalar dichos paquetes. \n",
    "\n",
    "Por ejemplo, YFinance es popular para obtener datos financieros desde Yahoo finance, podemos instalarla con `pip install yfinance` en la línea de comandos, terminal o Anaconda prompt.\n",
    "\n",
    "O bien, usando la *keyword* `!` en una celda `Code` de la siguiente manera:"
   ]
  },
  {
   "cell_type": "code",
   "execution_count": 3,
   "metadata": {},
   "outputs": [
    {
     "name": "stdout",
     "output_type": "stream",
     "text": [
      "Requirement already satisfied: yfinance in /usr/local/anaconda3/lib/python3.8/site-packages (0.1.55)\n",
      "Requirement already satisfied: numpy>=1.15 in /usr/local/anaconda3/lib/python3.8/site-packages (from yfinance) (1.19.4)\n",
      "Requirement already satisfied: multitasking>=0.0.7 in /usr/local/anaconda3/lib/python3.8/site-packages (from yfinance) (0.0.9)\n",
      "Requirement already satisfied: pandas>=0.24 in /usr/local/anaconda3/lib/python3.8/site-packages (from yfinance) (1.0.5)\n",
      "Requirement already satisfied: lxml>=4.5.1 in /usr/local/anaconda3/lib/python3.8/site-packages (from yfinance) (4.5.2)\n",
      "Requirement already satisfied: requests>=2.20 in /usr/local/anaconda3/lib/python3.8/site-packages (from yfinance) (2.24.0)\n",
      "Requirement already satisfied: pytz>=2017.2 in /usr/local/anaconda3/lib/python3.8/site-packages (from pandas>=0.24->yfinance) (2020.1)\n",
      "Requirement already satisfied: python-dateutil>=2.6.1 in /usr/local/anaconda3/lib/python3.8/site-packages (from pandas>=0.24->yfinance) (2.8.1)\n",
      "Requirement already satisfied: urllib3!=1.25.0,!=1.25.1,<1.26,>=1.21.1 in /usr/local/anaconda3/lib/python3.8/site-packages (from requests>=2.20->yfinance) (1.25.9)\n",
      "Requirement already satisfied: chardet<4,>=3.0.2 in /usr/local/anaconda3/lib/python3.8/site-packages (from requests>=2.20->yfinance) (3.0.4)\n",
      "Requirement already satisfied: idna<3,>=2.5 in /usr/local/anaconda3/lib/python3.8/site-packages (from requests>=2.20->yfinance) (2.10)\n",
      "Requirement already satisfied: certifi>=2017.4.17 in /usr/local/anaconda3/lib/python3.8/site-packages (from requests>=2.20->yfinance) (2020.6.20)\n",
      "Requirement already satisfied: six>=1.5 in /usr/local/anaconda3/lib/python3.8/site-packages (from python-dateutil>=2.6.1->pandas>=0.24->yfinance) (1.15.0)\n"
     ]
    }
   ],
   "source": [
    "!pip install yfinance"
   ]
  },
  {
   "cell_type": "markdown",
   "metadata": {},
   "source": [
    "#### Short cuts \n",
    "\n",
    "Jupyter tiene los siguientes Short cuts, para ahorrar tiempo al programar:\n",
    "\n",
    "* <mark>Shift + Enter</mark>: Run current cell and take cursor to the next one\n",
    "\n",
    "* <mark>Ctrl + Enter</mark>: Run current cell\n",
    "\n",
    "* <mark>Alt + Enter</mark>: Run current cell and insert new cell below\n",
    "\n",
    "* <mark>Esc+M</mark>: Convert current cell to markdown\n",
    "\n",
    "* <mark>Esc+Y</mark>: Convert current cell to code\n",
    "\n",
    "* <mark>Esc + A</mark>: Insert new cell above current cell\n",
    "\n",
    "* <mark>Esc + B</mark>: Insert new cell below current cell\n",
    "\n",
    "* <mark>Esc + H</mark>: Show shortcuts menu"
   ]
  },
  {
   "cell_type": "code",
   "execution_count": 4,
   "metadata": {},
   "outputs": [
    {
     "data": {
      "text/plain": [
       "437"
      ]
     },
     "execution_count": 4,
     "metadata": {},
     "output_type": "execute_result"
    }
   ],
   "source": [
    "432+5"
   ]
  },
  {
   "cell_type": "code",
   "execution_count": 5,
   "metadata": {},
   "outputs": [
    {
     "data": {
      "text/plain": [
       "95336"
      ]
     },
     "execution_count": 5,
     "metadata": {},
     "output_type": "execute_result"
    }
   ],
   "source": [
    "94793+543"
   ]
  },
  {
   "cell_type": "markdown",
   "metadata": {},
   "source": [
    "***"
   ]
  },
  {
   "cell_type": "markdown",
   "metadata": {},
   "source": [
    "## Operaciones básicas de Python y Tipos de datos"
   ]
  },
  {
   "cell_type": "code",
   "execution_count": 6,
   "metadata": {},
   "outputs": [
    {
     "name": "stdout",
     "output_type": "stream",
     "text": [
      "<class 'int'>\n",
      "<class 'float'>\n"
     ]
    }
   ],
   "source": [
    "a=5\n",
    "b=7\n",
    "c=2.\n",
    "\n",
    "print(type(a))\n",
    "print(type(c))"
   ]
  },
  {
   "cell_type": "markdown",
   "metadata": {},
   "source": [
    "El operador *potencia* en python se escribe con doble asterisco `** `"
   ]
  },
  {
   "cell_type": "code",
   "execution_count": 7,
   "metadata": {},
   "outputs": [
    {
     "data": {
      "text/plain": [
       "9"
      ]
     },
     "execution_count": 7,
     "metadata": {},
     "output_type": "execute_result"
    }
   ],
   "source": [
    "3+6"
   ]
  },
  {
   "cell_type": "code",
   "execution_count": 8,
   "metadata": {},
   "outputs": [
    {
     "name": "stdout",
     "output_type": "stream",
     "text": [
      "12\n",
      "78125\n",
      "<class 'int'>\n",
      "<class 'float'>\n"
     ]
    }
   ],
   "source": [
    "print(a+b)\n",
    "print(a**b) \n",
    "print(type(a+b))\n",
    "print(type(a*c))"
   ]
  },
  {
   "cell_type": "markdown",
   "metadata": {},
   "source": [
    "Para comentar tu código usa `#`, todo lo que le procesa al sìmbolo *gato* no será ejecutado."
   ]
  },
  {
   "cell_type": "code",
   "execution_count": 9,
   "metadata": {},
   "outputs": [
    {
     "name": "stdout",
     "output_type": "stream",
     "text": [
      "78125\n"
     ]
    }
   ],
   "source": [
    "print(a**b) # doble asterisco representa el operador potencia"
   ]
  },
  {
   "cell_type": "markdown",
   "metadata": {},
   "source": [
    "<br><font color = #BB9963 size=5> ¡ojo! </font> El operador `^` no indica una potencia, pero sí es el operador lógico XOR (veer https://es.wikipedia.org/wiki/Disyunción_exclusiva)."
   ]
  },
  {
   "cell_type": "markdown",
   "metadata": {},
   "source": [
    "### Keywords\n",
    "\n",
    "Las *keywords* son caracteres especiales que no pueden ser usados para darle nombre a una variable, ya que ellas tienen una implementación interna"
   ]
  },
  {
   "cell_type": "code",
   "execution_count": 10,
   "metadata": {},
   "outputs": [
    {
     "name": "stdout",
     "output_type": "stream",
     "text": [
      "['False', 'None', 'True', 'and', 'as', 'assert', 'async', 'await', 'break', 'class', 'continue', 'def', 'del', 'elif', 'else', 'except', 'finally', 'for', 'from', 'global', 'if', 'import', 'in', 'is', 'lambda', 'nonlocal', 'not', 'or', 'pass', 'raise', 'return', 'try', 'while', 'with', 'yield']\n"
     ]
    }
   ],
   "source": [
    "import keyword\n",
    "\n",
    "print(keyword.kwlist)"
   ]
  },
  {
   "cell_type": "markdown",
   "metadata": {},
   "source": [
    "### Guía de estilo para programar en Python\n",
    "\n",
    "PEP 8 -- Style Guide for Python Code (https://www.python.org/dev/peps/pep-0008/) hay convenciones recomendadas para escribir un buen código\n",
    "\n",
    "*Ejemplo*: Segun las reglas de estilo\n",
    "\n",
    "esto es correcto:\n",
    "\n",
    "`foo = long_function_name(var_one, var_two,\n",
    "                         var_three, var_four)`                         \n",
    "\n",
    "y esto no es correcto:                        \n",
    "                        \n",
    "`foo = long_function_name(var_one, var_two,\n",
    "    var_three, var_four)`\n",
    "                         \n",
    "Desde las notas del curso 'Introduction to Python' del Dr. Antoine Jacquier, esta tabla resume las voncenciones para nombrar variables."
   ]
  },
  {
   "cell_type": "markdown",
   "metadata": {},
   "source": [
    "|   Type   |                                                Naming Convention                                                |                 Examples                |\n",
    "|:--------:|:---------------------------------------------------------------------------------------------------------------:|:---------------------------------------:|\n",
    "| Function | Use a lowercase word or words. Separate words by underscores to improve readability.                            | function, my_function                   |\n",
    "| Variable | Use a lowercase single letter, word, or words. Separate words with underscores to improve readability.          | x, var, my_variable                     |\n",
    "| Class    | Start each word with a capital letter. Do not separate words with underscores. This style is called camel case. | Model, MyClass                          |\n",
    "| Method   | Use a lowercase word or words. Separate words with underscores to improve readability.                          | class_method, method                    |\n",
    "| Constant | Use an uppercase single letter, word, or words. Separate words with underscores to improve readability.         | CONSTANT, MY_CONSTANT, MY_LONG_CONSTANT |\n",
    "| Module   | Use a short, lowercase word or words. Separate words with underscores to improve readability.                   | module.py, my_module.py                 |\n",
    "| Package  | Use a short, lowercase word or words. Do not separate words with underscores.                                   | package, mypackage                      |"
   ]
  },
  {
   "cell_type": "markdown",
   "metadata": {},
   "source": [
    "### Importar módulos/paquetes/blibliotecas"
   ]
  },
  {
   "cell_type": "markdown",
   "metadata": {},
   "source": [
    "Para saber qué módulos hay actualmente en el directorio se ejecuta"
   ]
  },
  {
   "cell_type": "code",
   "execution_count": 11,
   "metadata": {},
   "outputs": [
    {
     "name": "stdout",
     "output_type": "stream",
     "text": [
      "['In', 'Out', '_', '_4', '_5', '_7', '__', '___', '__builtin__', '__builtins__', '__doc__', '__loader__', '__name__', '__package__', '__spec__', '_dh', '_exit_code', '_i', '_i1', '_i10', '_i11', '_i2', '_i3', '_i4', '_i5', '_i6', '_i7', '_i8', '_i9', '_ih', '_ii', '_iii', '_oh', 'a', 'b', 'c', 'exit', 'get_ipython', 'keyword', 'quit']\n"
     ]
    }
   ],
   "source": [
    "print(dir())"
   ]
  },
  {
   "cell_type": "markdown",
   "metadata": {},
   "source": [
    "Una característica importante de Python como ecosistema, en comparación con otro lenguaje de programación, es la disponibilidad de una gran cantidad de bibliotecas y herramientas. \n",
    "\n",
    "Estas bibliotecas y herramientas generalmente deben **importarse** cuando de necesiten (por ejemplo, una biblioteca para graficar). *Importar* `import` significa hacer que una biblioteca esté disponible para el espacio de nombres actual y el proceso de interpretación de Python actual. \n",
    "\n",
    "Python ya viene con un gran conjunto de bibliotecas que mejoran el intérprete básico, por ejemplo, para cálculos matemáticos básicos pyth. Sin embargo, si se requiere de operaciones matemáticas más complejas, deben importarse a través de la biblioteca `math`. \n",
    "\n",
    "Cuando se inicia un programa de Python, solo tiene acceso a funciones y clases básicas.\n",
    "(\"int\", \"dict\", \"len\", \"sum\", \"range\", ...) "
   ]
  },
  {
   "cell_type": "code",
   "execution_count": 12,
   "metadata": {},
   "outputs": [],
   "source": [
    "import matplotlib # graphics library\n",
    "import scipy # scientific python \n",
    "import nltk  # for natural language processing \n",
    "import numpy # numerical library and manipulating arrays - flagship\n",
    "import pandas # panel data - series and dataframes - also flagship"
   ]
  },
  {
   "cell_type": "markdown",
   "metadata": {},
   "source": [
    "Después de usar cualquier módulo, si ya no lo vamos a ocupar más se puede borrar con la palabra `del`"
   ]
  },
  {
   "cell_type": "code",
   "execution_count": 13,
   "metadata": {},
   "outputs": [
    {
     "name": "stdout",
     "output_type": "stream",
     "text": [
      "['In', 'Out', '_', '_4', '_5', '_7', '__', '___', '__builtin__', '__builtins__', '__doc__', '__loader__', '__name__', '__package__', '__spec__', '_dh', '_exit_code', '_i', '_i1', '_i10', '_i11', '_i12', '_i13', '_i2', '_i3', '_i4', '_i5', '_i6', '_i7', '_i8', '_i9', '_ih', '_ii', '_iii', '_oh', 'a', 'b', 'c', 'exit', 'get_ipython', 'keyword', 'matplotlib', 'numpy', 'pandas', 'quit', 'scipy']\n"
     ]
    }
   ],
   "source": [
    "del nltk\n",
    "print(dir())"
   ]
  },
  {
   "cell_type": "markdown",
   "metadata": {},
   "source": [
    "Se recomienda altamente usar la notación de objetos. Esa práctica le permite al programador tener mayor control y hacer más legible el código. Como ejemplo tenemos el módulo `numpy` y sar el objeto `np` que se ve como sigue:"
   ]
  },
  {
   "cell_type": "code",
   "execution_count": 14,
   "metadata": {},
   "outputs": [],
   "source": [
    "import numpy as np"
   ]
  },
  {
   "cell_type": "markdown",
   "metadata": {},
   "source": [
    "### El famoso 'hola mundo' en python\n",
    "\n"
   ]
  },
  {
   "cell_type": "code",
   "execution_count": 15,
   "metadata": {},
   "outputs": [
    {
     "name": "stdout",
     "output_type": "stream",
     "text": [
      "Hola mundo\n"
     ]
    }
   ],
   "source": [
    "print('Hola mundo')"
   ]
  },
  {
   "cell_type": "markdown",
   "metadata": {},
   "source": [
    "###  Tipos de variables\n",
    "\n",
    "#### None type\n",
    "`None`es comunmente utilizado como el resultado de una función que falló "
   ]
  },
  {
   "cell_type": "code",
   "execution_count": 16,
   "metadata": {},
   "outputs": [
    {
     "name": "stdout",
     "output_type": "stream",
     "text": [
      "<class 'NoneType'>\n"
     ]
    }
   ],
   "source": [
    "a = None\n",
    "print(type(a))"
   ]
  },
  {
   "cell_type": "code",
   "execution_count": 17,
   "metadata": {},
   "outputs": [
    {
     "data": {
      "text/plain": [
       "NoneType"
      ]
     },
     "execution_count": 17,
     "metadata": {},
     "output_type": "execute_result"
    }
   ],
   "source": [
    "type(a)"
   ]
  },
  {
   "cell_type": "markdown",
   "metadata": {},
   "source": [
    "### Keyword `is`\n",
    "\n",
    "Usamos `is` para verificar, por ejemplo, si dos variables son del mismo tipo"
   ]
  },
  {
   "cell_type": "code",
   "execution_count": 18,
   "metadata": {},
   "outputs": [
    {
     "data": {
      "text/plain": [
       "False"
      ]
     },
     "execution_count": 18,
     "metadata": {},
     "output_type": "execute_result"
    }
   ],
   "source": [
    "a = 5\n",
    "b = 3.14\n",
    "c = 10000.\n",
    "\n",
    "type(a) is type(c)"
   ]
  },
  {
   "cell_type": "code",
   "execution_count": 19,
   "metadata": {},
   "outputs": [
    {
     "data": {
      "text/plain": [
       "False"
      ]
     },
     "execution_count": 19,
     "metadata": {},
     "output_type": "execute_result"
    }
   ],
   "source": [
    "type(a) == type(c)"
   ]
  },
  {
   "cell_type": "code",
   "execution_count": 20,
   "metadata": {},
   "outputs": [
    {
     "data": {
      "text/plain": [
       "True"
      ]
     },
     "execution_count": 20,
     "metadata": {},
     "output_type": "execute_result"
    }
   ],
   "source": [
    "type(b) is type(c)"
   ]
  },
  {
   "cell_type": "markdown",
   "metadata": {},
   "source": [
    "### Listas, tuplas e índices\n",
    "\n",
    "Al programar, vamos a querer usar objetos que guarden múltiples variables como arreglos (piensa en la series de tiempo financieras). Las **listas** y las **tuplas** te permiten hacer eso. Para identificarlas, las primeras usan `[]`y las segundas `()`"
   ]
  },
  {
   "cell_type": "code",
   "execution_count": 21,
   "metadata": {},
   "outputs": [],
   "source": [
    "mi_lista = [3,1,4,1,6]\n",
    "mi_tupla = (3,1,4,1,6)"
   ]
  },
  {
   "cell_type": "markdown",
   "metadata": {},
   "source": [
    "Para acceder al los elementos de la lista o la tupla usamos su índice"
   ]
  },
  {
   "cell_type": "code",
   "execution_count": 22,
   "metadata": {},
   "outputs": [
    {
     "name": "stdout",
     "output_type": "stream",
     "text": [
      "El primer elemento de mi lista es 3\n",
      "El segundo elemento es 1\n",
      "El último elemento de mi tupla es 6\n",
      "El penúltimo elemento es 1\n"
     ]
    }
   ],
   "source": [
    "print(\"El primer elemento de mi lista es\", mi_lista[0])\n",
    "print(\"El segundo elemento es\", mi_lista[1])\n",
    "print(\"El último elemento de mi tupla es\", mi_tupla[-1])\n",
    "print(\"El penúltimo elemento es\", mi_tupla[-2])"
   ]
  },
  {
   "cell_type": "markdown",
   "metadata": {},
   "source": [
    "La forma de indizar los elementos de una lista, tupla o cadena de elementos cualquiera (por ejemplo, la cadena $\\mathbb{C}1\\varepsilon(\\eta)ci\\alpha\\int$ ) en python es iniciando con el cero y sumando uno por cada elemento al indizar de izquierda a derecha, o iniciando con el -1 y sumándole -1 a cada elemento si se indiza de derecha a izquiera\n",
    "\n",
    "<img src=\"./img/indices_en_ciencias.png\" style=\"width:400px\">\n",
    "\n",
    "Para acceder a más de un elemento de la lista o tupla hacemos lo siguiente\n",
    "\n",
    "`[ primer_indice : ultimo_indice+1 ]` \n",
    "\n",
    "o también podemos obtener todos los elementos entre dos índices cada *n* pasos \n",
    "\n",
    "`[ primer_indice : ultimo_indice+1 : numero_de_pasos ]`"
   ]
  },
  {
   "cell_type": "code",
   "execution_count": 23,
   "metadata": {},
   "outputs": [
    {
     "name": "stdout",
     "output_type": "stream",
     "text": [
      "Los primeros dos elementos de mi lista son [3, 1]\n",
      "También, los primeros dos elementos de mi lista son [3, 1]\n",
      "Los últimos dos elementos de mi lista son [1, 6]\n",
      "Los cinco primeros elementos de mi lista pero cada 2 pasos (uno sí y uno no) son [3, 4, 6]\n"
     ]
    },
    {
     "data": {
      "text/plain": [
       "[3, 1, 4, 1, 6]"
      ]
     },
     "execution_count": 23,
     "metadata": {},
     "output_type": "execute_result"
    }
   ],
   "source": [
    "print(\"Los primeros dos elementos de mi lista son\", mi_lista[0:2])\n",
    "print(\"También, los primeros dos elementos de mi lista son\", mi_lista[:2])\n",
    "\n",
    "print(\"Los últimos dos elementos de mi lista son\", mi_lista[-2:])\n",
    "print(\"Los cinco primeros elementos de mi lista pero cada 2 pasos (uno sí y uno no) son\",  mi_lista[0:5:2])\n",
    "mi_lista"
   ]
  },
  {
   "cell_type": "markdown",
   "metadata": {},
   "source": [
    "Tanto las listas como las tuplas pueden guardar diferentes tipos de datos"
   ]
  },
  {
   "cell_type": "code",
   "execution_count": 24,
   "metadata": {},
   "outputs": [
    {
     "name": "stdout",
     "output_type": "stream",
     "text": [
      "El primer elemento es <class 'int'>\n",
      "El segundo elemento es <class 'bool'>\n",
      "El tercer elemento es  <class 'float'>\n"
     ]
    }
   ],
   "source": [
    "mi_otra_lista = [100,True,3.1416]\n",
    "print(\"El primer elemento es\", type(mi_otra_lista[0]))\n",
    "print(\"El segundo elemento es\", type(mi_otra_lista[1]))\n",
    "print(\"El tercer elemento es \", type(mi_otra_lista[2]))"
   ]
  },
  {
   "cell_type": "markdown",
   "metadata": {},
   "source": [
    "La **diferencia** entre una lista y una tupla es que las listas son mutables y las tupplas no. Una vez que creas una tupla, no puedes modificar ese objeto, por el contrario, una lista sí puede ser modificada incluso después de haber sido creada.\n",
    "\n",
    "Podemos **añadir** elementos a `mi_lista`"
   ]
  },
  {
   "cell_type": "code",
   "execution_count": 25,
   "metadata": {},
   "outputs": [
    {
     "data": {
      "text/plain": [
       "[3, 1, 4, 1, 6]"
      ]
     },
     "execution_count": 25,
     "metadata": {},
     "output_type": "execute_result"
    }
   ],
   "source": [
    "mi_lista"
   ]
  },
  {
   "cell_type": "code",
   "execution_count": 26,
   "metadata": {},
   "outputs": [
    {
     "name": "stdout",
     "output_type": "stream",
     "text": [
      "[3, 4, 1, 6]\n"
     ]
    }
   ],
   "source": [
    "mi_lista.remove(1) # Como argumento el elemento que queremos borrar\n",
    "print(mi_lista)"
   ]
  },
  {
   "cell_type": "code",
   "execution_count": 27,
   "metadata": {},
   "outputs": [
    {
     "name": "stdout",
     "output_type": "stream",
     "text": [
      "[3, 4, 1, 6, 5]\n"
     ]
    }
   ],
   "source": [
    "mi_lista.append(5) # Como argumento el elemento que queremos añadir\n",
    "print(mi_lista)"
   ]
  },
  {
   "cell_type": "code",
   "execution_count": 28,
   "metadata": {},
   "outputs": [
    {
     "name": "stdout",
     "output_type": "stream",
     "text": [
      "[3, 4, 1, 6, 5, 9]\n"
     ]
    }
   ],
   "source": [
    "mi_lista.insert(100,9) # Primer argumento el índice y el segundo argumento el elemento a añadir\n",
    "print(mi_lista)"
   ]
  },
  {
   "cell_type": "markdown",
   "metadata": {},
   "source": [
    "<br><font color = #BB9963 size=5> ¡ojo! </font> Cuando hacemos una copia de una lista, lo que cambiamos en una, se cambia en las dos!!!"
   ]
  },
  {
   "cell_type": "code",
   "execution_count": 29,
   "metadata": {},
   "outputs": [
    {
     "name": "stdout",
     "output_type": "stream",
     "text": [
      "[10, 9, 7]\n",
      "[10, 9, 7]\n"
     ]
    }
   ],
   "source": [
    "mi_lista = [8,9,7] \n",
    "mi_copia = mi_lista\n",
    "mi_copia[0] = 10\n",
    "print(mi_copia)\n",
    "print(mi_lista)"
   ]
  },
  {
   "cell_type": "markdown",
   "metadata": {},
   "source": [
    "A continuación cómo podemos remediar esto"
   ]
  },
  {
   "cell_type": "code",
   "execution_count": 30,
   "metadata": {},
   "outputs": [
    {
     "data": {
      "text/plain": [
       "[10, 9, 7]"
      ]
     },
     "execution_count": 30,
     "metadata": {},
     "output_type": "execute_result"
    }
   ],
   "source": [
    "mi_copia"
   ]
  },
  {
   "cell_type": "code",
   "execution_count": 31,
   "metadata": {},
   "outputs": [
    {
     "name": "stdout",
     "output_type": "stream",
     "text": [
      "[8, 9, 6]\n",
      "[8, 9, 7]\n"
     ]
    }
   ],
   "source": [
    "import copy\n",
    "\n",
    "mi_lista = [8,9,7]\n",
    "mi_copia = copy.deepcopy(mi_lista)\n",
    "mi_copia[2] = 6\n",
    "print(mi_copia)\n",
    "print(mi_lista)"
   ]
  },
  {
   "cell_type": "markdown",
   "metadata": {},
   "source": [
    "### Ciclos\n",
    "\n",
    "Los *ciclos* son operaciones fundamentales en programación. El ejemplo siguiente es un ciclo sobre un arreglo.\n",
    "\n",
    "Presta atención en la identación, es la única manera de saber en dónde acaba el ciclo y continúa más código..."
   ]
  },
  {
   "cell_type": "code",
   "execution_count": 32,
   "metadata": {},
   "outputs": [
    {
     "name": "stdout",
     "output_type": "stream",
     "text": [
      "range(0, 10)\n"
     ]
    }
   ],
   "source": [
    "print(range(10))"
   ]
  },
  {
   "cell_type": "code",
   "execution_count": 33,
   "metadata": {},
   "outputs": [
    {
     "name": "stdout",
     "output_type": "stream",
     "text": [
      "Número de ciclo 0\n",
      "Número de ciclo 1\n",
      "Número de ciclo 2\n",
      "Número de ciclo 3\n",
      "Número de ciclo 4\n",
      "Número de ciclo 5\n",
      "Número de ciclo 6\n",
      "Número de ciclo 7\n",
      "Número de ciclo 8\n",
      "Número de ciclo 9\n",
      "-------\n",
      "Siempre iniciará en 0!!!\n"
     ]
    }
   ],
   "source": [
    "for i in range(10):\n",
    "    print(\"Número de ciclo\", i)\n",
    "\n",
    "    \n",
    "print(\"-------\")\n",
    "print(\"Siempre iniciará en 0!!!\")"
   ]
  },
  {
   "cell_type": "markdown",
   "metadata": {},
   "source": [
    "Por otra parte, `i`, fuera del ciclo conservará el último valor que le fue asignado"
   ]
  },
  {
   "cell_type": "code",
   "execution_count": 34,
   "metadata": {},
   "outputs": [
    {
     "data": {
      "text/plain": [
       "<enumerate at 0x7f9b6a5c7f80>"
      ]
     },
     "execution_count": 34,
     "metadata": {},
     "output_type": "execute_result"
    }
   ],
   "source": [
    "enumerate(['¡que ondi!',1,True,1000])"
   ]
  },
  {
   "cell_type": "markdown",
   "metadata": {},
   "source": [
    "Más ejemplos de ciclos, un ciclo usando `enumarete` y los ciclos escritos en una sola linea"
   ]
  },
  {
   "cell_type": "code",
   "execution_count": 35,
   "metadata": {},
   "outputs": [
    {
     "name": "stdout",
     "output_type": "stream",
     "text": [
      "¡que ondi!\n",
      "1\n",
      "True\n",
      "1000\n",
      "-------\n",
      "El elemento 0 en la lista es: ¡que ondi!\n",
      "El elemento 1 en la lista es: 1\n",
      "El elemento 2 en la lista es: True\n",
      "El elemento 3 en la lista es: 1000\n",
      "-------\n"
     ]
    }
   ],
   "source": [
    "for element in ['¡que ondi!',1,True,1000]: \n",
    "    print(element)\n",
    "print(\"-------\")\n",
    "\n",
    "for (index,element) in enumerate(['¡que ondi!',1,True,1000]): \n",
    "    print(\"El elemento\",index,\"en la lista es:\",element)\n",
    "print(\"-------\")"
   ]
  },
  {
   "cell_type": "code",
   "execution_count": 36,
   "metadata": {},
   "outputs": [
    {
     "name": "stdout",
     "output_type": "stream",
     "text": [
      "[1, 4, 9, 16, 25]\n"
     ]
    }
   ],
   "source": [
    "mi_lista = [1,2,3,4,5]\n",
    "# [1,4,9,16,25]\n",
    "\n",
    "mi_lista_cuadrada = [element**2 for element in mi_lista]\n",
    "print(mi_lista_cuadrada)"
   ]
  },
  {
   "cell_type": "markdown",
   "metadata": {},
   "source": [
    "¿Cuál es el código largo para escribir lo mismo?"
   ]
  },
  {
   "cell_type": "code",
   "execution_count": 37,
   "metadata": {},
   "outputs": [
    {
     "name": "stdout",
     "output_type": "stream",
     "text": [
      "[1, 4, 9, 16, 25]\n",
      "[1, 4, 9, 16, 25]\n"
     ]
    }
   ],
   "source": [
    "mi_lista = [1,2,3,4,5]\n",
    "mi_lista_cuadrada2 =[]\n",
    "\n",
    "for element in mi_lista:\n",
    "    mi_lista_cuadrada2.append(element**2)\n",
    "    \n",
    "print(mi_lista_cuadrada)\n",
    "print(mi_lista_cuadrada2)\n",
    "    "
   ]
  },
  {
   "cell_type": "markdown",
   "metadata": {},
   "source": [
    "### Expresiones condicionales\n",
    "\n",
    "Típicamente, las condiciones son `<, >, ==, !=`"
   ]
  },
  {
   "cell_type": "code",
   "execution_count": 38,
   "metadata": {},
   "outputs": [
    {
     "name": "stdout",
     "output_type": "stream",
     "text": [
      "la variable 'a' es mayor que 5\n",
      "la variable 'b' es menor o igual que 5\n"
     ]
    }
   ],
   "source": [
    "a = 10\n",
    "\n",
    "if a > 5:\n",
    "    print(\"la variable 'a' es mayor que 5\")\n",
    "else:\n",
    "    print(\"la variable 'a' es menor o igual que 5\")\n",
    "\n",
    "b = 5\n",
    "if b > 5:\n",
    "    print(\"la variable 'b' es mayor que 5\")\n",
    "else:\n",
    "    print(\"la variable 'b' es menor o igual que 5\")"
   ]
  },
  {
   "cell_type": "code",
   "execution_count": 39,
   "metadata": {},
   "outputs": [
    {
     "name": "stdout",
     "output_type": "stream",
     "text": [
      "1.0\n",
      "5\n"
     ]
    }
   ],
   "source": [
    "a = 10\n",
    "x = a/10 if a > 5 else a\n",
    "print(x)\n",
    "\n",
    "b = 5\n",
    "x = b/10 if b > 5 else b\n",
    "print(x)"
   ]
  },
  {
   "cell_type": "markdown",
   "metadata": {},
   "source": [
    "***"
   ]
  },
  {
   "cell_type": "markdown",
   "metadata": {},
   "source": [
    "## Funciones en Python\n",
    "\n",
    "Python te permite definir funciones, colocarle argumentos, ejecutar una tarea solicitada y devolver un resultado. La síntaxis de una función en python es"
   ]
  },
  {
   "cell_type": "code",
   "execution_count": 40,
   "metadata": {},
   "outputs": [],
   "source": [
    "def mi_funcion_suma(x, y):\n",
    "    \"\"\"Esta función devuelve la suma de los dos argumentos\n",
    "    x: primer argumento\n",
    "    y: segundo argumento\n",
    "    \n",
    "    output: suma de x y y\n",
    "    \"\"\"\n",
    "    return x+y"
   ]
  },
  {
   "cell_type": "markdown",
   "metadata": {},
   "source": [
    "Es importante escribir qué hace la función y que argumentos recibe o la naturaleza de ellos para hacer más entendibe el código.\n",
    "\n",
    "Una vez que se corrió la función, puede ser utilizada en cualquier momento."
   ]
  },
  {
   "cell_type": "code",
   "execution_count": 41,
   "metadata": {},
   "outputs": [
    {
     "data": {
      "text/plain": [
       "12"
      ]
     },
     "execution_count": 41,
     "metadata": {},
     "output_type": "execute_result"
    }
   ],
   "source": [
    "mi_funcion_suma(10,2)"
   ]
  },
  {
   "cell_type": "markdown",
   "metadata": {},
   "source": [
    "Otro ejemplo de función: \n",
    "\n",
    "La suma de los primeros n números naturales"
   ]
  },
  {
   "cell_type": "code",
   "execution_count": 42,
   "metadata": {},
   "outputs": [],
   "source": [
    "def sum_integ(n):\n",
    "    res = 0 # Inicializamos la variable res\n",
    "    for i in range(1, n+1): \n",
    "        res+=i # Operador de suma y asigna\n",
    "    return res\n",
    "\n",
    "# Alternativamente podemos escribir la función anterior en un par de lineas\n",
    "def sum_integ_alternative(n):\n",
    "    return sum([i for i in range(1, n+1)])\n",
    "\n",
    "# Y aquí con la fórmula teórica\n",
    "def sum_integ_formula(n):\n",
    "    return n*(n+1)/2"
   ]
  },
  {
   "cell_type": "markdown",
   "metadata": {},
   "source": [
    "Recuerda, para cada entero $n$:\n",
    "$$\n",
    "\\sum_{i=1}^{n} i  = \\frac{n(n+1)}{2}\n",
    "$$"
   ]
  },
  {
   "cell_type": "code",
   "execution_count": 43,
   "metadata": {},
   "outputs": [
    {
     "name": "stdout",
     "output_type": "stream",
     "text": [
      "Suma de los primeros n números: 55\n",
      "Suma (alternativa) de los primeros n números: 55\n",
      "Fórmula teórica de las suma de los primeros n números: 55.0\n"
     ]
    }
   ],
   "source": [
    "n = 10\n",
    "\n",
    "print(\"Suma de los primeros n números:\", sum_integ(n))\n",
    "print(\"Suma (alternativa) de los primeros n números:\", sum_integ_alternative(n))\n",
    "print(\"Fórmula teórica de las suma de los primeros n números:\", sum_integ_formula(n))"
   ]
  },
  {
   "cell_type": "markdown",
   "metadata": {},
   "source": [
    "Una función puede tener varios argumentos o tomar argumentos que son keywords:"
   ]
  },
  {
   "cell_type": "code",
   "execution_count": 44,
   "metadata": {},
   "outputs": [
    {
     "name": "stdout",
     "output_type": "stream",
     "text": [
      "1\n",
      "2\n",
      "3\n",
      "3\n"
     ]
    }
   ],
   "source": [
    "def my_function(x, a=1, b=0):\n",
    "    return a*x+b\n",
    "\n",
    "# Analicemos qué hace my_function en cada caso\n",
    "print(my_function(1))\n",
    "print(my_function(1, 2))\n",
    "print(my_function(1, 1, 2))\n",
    "print(my_function(1, b=2))"
   ]
  },
  {
   "cell_type": "markdown",
   "metadata": {},
   "source": [
    "### Ejercicios\n",
    "\n",
    "1. Dada una lista de enteros, por ejemplo a = [1,4,9,16,25,36], escribe una función de Python que tome como argumento esa lista 'a' y devuelva una lista que tenga únicamente sus elementos pares."
   ]
  },
  {
   "cell_type": "code",
   "execution_count": 45,
   "metadata": {},
   "outputs": [],
   "source": [
    "def get_even_numbers(input_list):\n",
    "    \"\"\" Esta función devuelve los numeros pares de una lista \n",
    "    input: lista de números enteros\n",
    "    output: lista de números pares\n",
    "    \n",
    "    \"\"\"\n",
    "    # Tu código va a continuación\n",
    "    even_numbers_list = []\n",
    "    for elemento in input_list:\n",
    "        if elemento%2==0:\n",
    "            even_numbers_list.append(elemento) \n",
    "    \n",
    "    return even_numbers_list\n",
    "\n",
    "# Forma alternativa de escribir la función\n",
    "def get_even_numbers_bis(input_list):\n",
    "    return [elemento for elemento in input_list if elemento%2==0]"
   ]
  },
  {
   "cell_type": "code",
   "execution_count": 46,
   "metadata": {},
   "outputs": [
    {
     "name": "stdout",
     "output_type": "stream",
     "text": [
      "[4, 16, 36]\n"
     ]
    }
   ],
   "source": [
    "lis=[1,4,9,16,25,36]\n",
    "\n",
    "print(get_even_numbers_bis(lis))"
   ]
  },
  {
   "cell_type": "markdown",
   "metadata": {},
   "source": [
    "Si corro estas dos líneas:\n",
    "\n",
    "`lis=[1,4,9,16,25,36]`\n",
    "\n",
    "`print(get_even_numbers(lis))`\n",
    "\n",
    "Yo espero ver como output:\n",
    "\n",
    "`[4,16,36]`"
   ]
  },
  {
   "cell_type": "markdown",
   "metadata": {},
   "source": [
    "2. Crea una función que reciba un número entero y devuelva todos los divisores de ese número en una lista. "
   ]
  },
  {
   "cell_type": "code",
   "execution_count": 47,
   "metadata": {},
   "outputs": [],
   "source": [
    "def get_divisors(input_integer):\n",
    "    \"\"\"Esta función devuelve todos los divisores de un número dado\n",
    "    input: integer\n",
    "    output: list of divisors\n",
    "    \n",
    "    \"\"\"\n",
    "    return [elemento for elemento in range(1,int(input_integer/2)+1) if input_integer%elemento==0]"
   ]
  },
  {
   "cell_type": "code",
   "execution_count": 48,
   "metadata": {},
   "outputs": [
    {
     "data": {
      "text/plain": [
       "[1, 2, 3, 6, 337, 674, 1011]"
      ]
     },
     "execution_count": 48,
     "metadata": {},
     "output_type": "execute_result"
    }
   ],
   "source": [
    "get_divisors(2022)"
   ]
  },
  {
   "cell_type": "markdown",
   "metadata": {},
   "source": [
    "Si corro esta línea:\n",
    "\n",
    "`get_divisors(2022)`\n",
    "\n",
    "Yo espero ver como output:\n",
    "\n",
    "`[1, 2, 3, 6, 337, 674, 1011]`"
   ]
  },
  {
   "cell_type": "markdown",
   "metadata": {},
   "source": [
    "3. Escribe una función que determine si un número es primo (número que no tiene divisores) o no. Hint: Usa la función get_divisors()."
   ]
  },
  {
   "cell_type": "code",
   "execution_count": 49,
   "metadata": {},
   "outputs": [],
   "source": [
    "def is_prime(input_integer):\n",
    "    \"\"\" Esta función devuelve True si el numero es primo, False si no es primo\n",
    "    input: un entero\n",
    "    output: un booleano (tipo de dato lógico)\n",
    "    \n",
    "    \"\"\"\n",
    "    \n",
    "    return True if len(get_divisors(input_integer))==1 else False"
   ]
  },
  {
   "cell_type": "code",
   "execution_count": 50,
   "metadata": {},
   "outputs": [
    {
     "data": {
      "text/plain": [
       "False"
      ]
     },
     "execution_count": 50,
     "metadata": {},
     "output_type": "execute_result"
    }
   ],
   "source": [
    "is_prime(2022)"
   ]
  },
  {
   "cell_type": "code",
   "execution_count": 51,
   "metadata": {},
   "outputs": [
    {
     "data": {
      "text/plain": [
       "True"
      ]
     },
     "execution_count": 51,
     "metadata": {},
     "output_type": "execute_result"
    }
   ],
   "source": [
    "is_prime(13)"
   ]
  },
  {
   "cell_type": "markdown",
   "metadata": {},
   "source": [
    "Si corro esta línea:\n",
    "\n",
    "`is_prime(2022)`\n",
    "\n",
    "Yo espero ver como output:\n",
    "\n",
    "`False`\n",
    "\n",
    "Pero si corro la línea\n",
    "\n",
    "`is_prime(13)`\n",
    "\n",
    "Yo espero ver como output:\n",
    "\n",
    "`True`"
   ]
  },
  {
   "cell_type": "markdown",
   "metadata": {},
   "source": [
    "4. Dadas dos listas, por ejemplo a = [5,2,87,23,45,8] y b = [4,3,5,7,8,42,65,8], escribe una función que devuelva una lista que contenga solo los elementos que se encuentran en las dos listas (elementos en común). Tu código debe funcionar para listas de distinto tamaño."
   ]
  },
  {
   "cell_type": "code",
   "execution_count": 52,
   "metadata": {},
   "outputs": [],
   "source": [
    "# Aquí va tu código"
   ]
  },
  {
   "cell_type": "markdown",
   "metadata": {},
   "source": [
    "Para las listas del ejemplo `a = [5,2,87,23,45,8]` y `b = [4,3,5,7,8,42,65,8]`, espero ver como output:\n",
    "\n",
    "`[8, 5]`"
   ]
  },
  {
   "cell_type": "markdown",
   "metadata": {},
   "source": [
    "### Otros tips:\n",
    "\n",
    "Si te lastima la retina el color blanco brillante de este tema de jupyter de notebook:\n",
    "\n",
    "1. Puedes instalar **jupyterthemes** corriendo las siguientes lineas directamente en la línea de comdandos (o anaconda prompt) \n",
    "\n",
    "`python -m pip install jupyterthemes`\n",
    "\n",
    "una vez que se instale todo, ejecutar el comando\n",
    "\n",
    "`python -m pip install --upgrade jupyterthemes`\n",
    "\n",
    "y posterior a esto con el comando `jt -l` apareceran las opciones de temas a elegir (por ejemplo: chesterish, grade3, gruvboxd, monokai, etc). Para elegir alguno ejecutas el comando \n",
    "\n",
    "`jt -t monokai`\n",
    "\n",
    "Para regresar al tema por default de jupyter se utiliza el comando `jt -r`\n",
    "\n",
    "\n",
    "2. De https://stackoverflow.com/questions/46510192/change-the-theme-in-jupyter-notebook, viene el siguiente consejo \n",
    "\n",
    "*Instead of installing a library inside Jupyter, I would recommend you use the 'Dark Reader' extension in Chrome (you can find 'Dark Reader' extension in other browsers, e.g. Firefox). You can play with it; filter the URL(s) you want to have dark theme, or even how define the Dark theme for yourself.*\n",
    "\n",
    "\n",
    "3. Personaliza los colores que presentan tu patalla, en Windows es en el menú Configuración de Windows > Personalización > Filtros de color\n"
   ]
  },
  {
   "cell_type": "markdown",
   "metadata": {},
   "source": [
    "### Relacionado con GitHub\n",
    "\n",
    "Recomiendo que vean el siguiente video *Git and GitHub explained for beginners* en la liga youtube.com/watch?v=8Dd7KRpKeaE para saber más de la herramienta."
   ]
  }
 ],
 "metadata": {
  "kernelspec": {
   "display_name": "Python 3",
   "language": "python",
   "name": "python3"
  },
  "language_info": {
   "codemirror_mode": {
    "name": "ipython",
    "version": 3
   },
   "file_extension": ".py",
   "mimetype": "text/x-python",
   "name": "python",
   "nbconvert_exporter": "python",
   "pygments_lexer": "ipython3",
   "version": "3.8.3"
  }
 },
 "nbformat": 4,
 "nbformat_minor": 4
}
