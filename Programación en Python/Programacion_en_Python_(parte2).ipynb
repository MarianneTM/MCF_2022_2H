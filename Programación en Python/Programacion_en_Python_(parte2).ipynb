{
 "cells": [
  {
   "cell_type": "markdown",
   "metadata": {},
   "source": [
    "</b><font color = #000066 size=6.5> Facultad de Ciencias</font> \n",
    "\n",
    "<br><font color = #CC9933 size=6.5> UNAM </font> \n",
    "\n",
    " <br><font color = silver size=7> Programación en Python</font> "
   ]
  },
  {
   "cell_type": "markdown",
   "metadata": {},
   "source": [
    "***"
   ]
  },
  {
   "cell_type": "markdown",
   "metadata": {},
   "source": [
    "# Notas del curso Métodos Cuantitativos en finanzas (Parte 2)\n",
    "\n",
    "\n",
    "El presente curso de programación está dividido en partes para mantener más legible, entendible y ordenado el contenido. \n",
    "\n",
    "<br><font color = #708090 size=1> El contenido de este documento fue inspirado en las notas de los cursos *Python for Finance* e *Introduction to Python Primer* impartidos por los doctores Antoine Jacquier, Aitor Murguraza Gonzalez y Riaz Ahmad. Para cualquier duda o comentario el contenido, escribir a marianne.toscano@ciencias.unam.mx  </font>  "
   ]
  },
  {
   "cell_type": "markdown",
   "metadata": {},
   "source": [
    "***"
   ]
  },
  {
   "cell_type": "markdown",
   "metadata": {},
   "source": [
    "### Operador lambda $\\lambda$\n",
    "\n",
    "Para los casos en que deseamos definir una función sin darle un nompre específico y queremos usar la función una sola vez. Es una función anónima"
   ]
  },
  {
   "cell_type": "code",
   "execution_count": 1,
   "metadata": {},
   "outputs": [
    {
     "data": {
      "text/plain": [
       "9"
      ]
     },
     "execution_count": 1,
     "metadata": {},
     "output_type": "execute_result"
    }
   ],
   "source": [
    "(lambda x: x**2)(3) # la función que devuelve el cuadrado de un número"
   ]
  },
  {
   "cell_type": "code",
   "execution_count": 2,
   "metadata": {},
   "outputs": [
    {
     "data": {
      "text/plain": [
       "6"
      ]
     },
     "execution_count": 2,
     "metadata": {},
     "output_type": "execute_result"
    }
   ],
   "source": [
    "(lambda x,y,z : x + y + z)(1,2,3) # función que recibe tres parámetros y los suma"
   ]
  },
  {
   "cell_type": "code",
   "execution_count": 3,
   "metadata": {},
   "outputs": [
    {
     "data": {
      "text/plain": [
       "8"
      ]
     },
     "execution_count": 3,
     "metadata": {},
     "output_type": "execute_result"
    }
   ],
   "source": [
    "potencia = lambda x, y: x ** y\n",
    "\n",
    "potencia(2, 3)\n",
    "\n",
    "def potencia(x,y):\n",
    "    return x**y\n",
    "\n",
    "potencia(2, 3)"
   ]
  },
  {
   "cell_type": "markdown",
   "metadata": {},
   "source": [
    "### `map()`\n",
    "Podemos usar `map()`en un operador `lambda` y guardamos los resultados en la variable `cuadrados`"
   ]
  },
  {
   "cell_type": "code",
   "execution_count": 4,
   "metadata": {},
   "outputs": [
    {
     "name": "stdout",
     "output_type": "stream",
     "text": [
      "<map object at 0x7fad5585f6a0>\n"
     ]
    }
   ],
   "source": [
    "numeros = [44,5,2,6]\n",
    "\n",
    "cuadrados = map(lambda num: num ** 2, numeros)\n",
    "\n",
    "print(cuadrados)"
   ]
  },
  {
   "cell_type": "markdown",
   "metadata": {},
   "source": [
    "`cuadrados`es un objeto de tipo *map*, para revelar el resultado de aplicar la función lambda, aplicamos la función `list()`"
   ]
  },
  {
   "cell_type": "code",
   "execution_count": 5,
   "metadata": {},
   "outputs": [
    {
     "name": "stdout",
     "output_type": "stream",
     "text": [
      "[1936, 25, 4, 36]\n"
     ]
    }
   ],
   "source": [
    "print(list(cuadrados))"
   ]
  },
  {
   "cell_type": "code",
   "execution_count": 6,
   "metadata": {},
   "outputs": [
    {
     "data": {
      "text/plain": [
       "[1, 4, 9, 16]"
      ]
     },
     "execution_count": 6,
     "metadata": {},
     "output_type": "execute_result"
    }
   ],
   "source": [
    "def eleva_cuadrado(x):\n",
    "    return x ** 2\n",
    "    \n",
    "list(map(eleva_cuadrado, [1, 2, 3, 4]))"
   ]
  },
  {
   "cell_type": "markdown",
   "metadata": {},
   "source": [
    "### Magics ! !\n",
    "\n",
    "Los notebooks vienen con comandos especiales incorporados llamados **magics**. Estos comandos proceden un `%`o dos`%%`.\n",
    "\n",
    "Carcteristicas:\n",
    "\n",
    "El primero (`%`) todo lo que siga de este símbolo será el argumento del magic (**line magics**)\n",
    "\n",
    "El segundo (`%%`) hace alusión a un magic que tiene como argumento toda la celda (**cell magics**)\n",
    "\n",
    "Una lista de los magics disponibles es la siguiente:"
   ]
  },
  {
   "cell_type": "code",
   "execution_count": 7,
   "metadata": {},
   "outputs": [
    {
     "data": {
      "application/json": {
       "cell": {
        "!": "OSMagics",
        "HTML": "Other",
        "SVG": "Other",
        "bash": "Other",
        "capture": "ExecutionMagics",
        "debug": "ExecutionMagics",
        "file": "Other",
        "html": "DisplayMagics",
        "javascript": "DisplayMagics",
        "js": "DisplayMagics",
        "latex": "DisplayMagics",
        "markdown": "DisplayMagics",
        "perl": "Other",
        "prun": "ExecutionMagics",
        "pypy": "Other",
        "python": "Other",
        "python2": "Other",
        "python3": "Other",
        "ruby": "Other",
        "script": "ScriptMagics",
        "sh": "Other",
        "svg": "DisplayMagics",
        "sx": "OSMagics",
        "system": "OSMagics",
        "time": "ExecutionMagics",
        "timeit": "ExecutionMagics",
        "writefile": "OSMagics"
       },
       "line": {
        "alias": "OSMagics",
        "alias_magic": "BasicMagics",
        "autoawait": "AsyncMagics",
        "autocall": "AutoMagics",
        "automagic": "AutoMagics",
        "autosave": "KernelMagics",
        "bookmark": "OSMagics",
        "cat": "Other",
        "cd": "OSMagics",
        "clear": "KernelMagics",
        "colors": "BasicMagics",
        "conda": "PackagingMagics",
        "config": "ConfigMagics",
        "connect_info": "KernelMagics",
        "cp": "Other",
        "debug": "ExecutionMagics",
        "dhist": "OSMagics",
        "dirs": "OSMagics",
        "doctest_mode": "BasicMagics",
        "ed": "Other",
        "edit": "KernelMagics",
        "env": "OSMagics",
        "gui": "BasicMagics",
        "hist": "Other",
        "history": "HistoryMagics",
        "killbgscripts": "ScriptMagics",
        "ldir": "Other",
        "less": "KernelMagics",
        "lf": "Other",
        "lk": "Other",
        "ll": "Other",
        "load": "CodeMagics",
        "load_ext": "ExtensionMagics",
        "loadpy": "CodeMagics",
        "logoff": "LoggingMagics",
        "logon": "LoggingMagics",
        "logstart": "LoggingMagics",
        "logstate": "LoggingMagics",
        "logstop": "LoggingMagics",
        "ls": "Other",
        "lsmagic": "BasicMagics",
        "lx": "Other",
        "macro": "ExecutionMagics",
        "magic": "BasicMagics",
        "man": "KernelMagics",
        "matplotlib": "PylabMagics",
        "mkdir": "Other",
        "more": "KernelMagics",
        "mv": "Other",
        "notebook": "BasicMagics",
        "page": "BasicMagics",
        "pastebin": "CodeMagics",
        "pdb": "ExecutionMagics",
        "pdef": "NamespaceMagics",
        "pdoc": "NamespaceMagics",
        "pfile": "NamespaceMagics",
        "pinfo": "NamespaceMagics",
        "pinfo2": "NamespaceMagics",
        "pip": "PackagingMagics",
        "popd": "OSMagics",
        "pprint": "BasicMagics",
        "precision": "BasicMagics",
        "prun": "ExecutionMagics",
        "psearch": "NamespaceMagics",
        "psource": "NamespaceMagics",
        "pushd": "OSMagics",
        "pwd": "OSMagics",
        "pycat": "OSMagics",
        "pylab": "PylabMagics",
        "qtconsole": "KernelMagics",
        "quickref": "BasicMagics",
        "recall": "HistoryMagics",
        "rehashx": "OSMagics",
        "reload_ext": "ExtensionMagics",
        "rep": "Other",
        "rerun": "HistoryMagics",
        "reset": "NamespaceMagics",
        "reset_selective": "NamespaceMagics",
        "rm": "Other",
        "rmdir": "Other",
        "run": "ExecutionMagics",
        "save": "CodeMagics",
        "sc": "OSMagics",
        "set_env": "OSMagics",
        "store": "StoreMagics",
        "sx": "OSMagics",
        "system": "OSMagics",
        "tb": "ExecutionMagics",
        "time": "ExecutionMagics",
        "timeit": "ExecutionMagics",
        "unalias": "OSMagics",
        "unload_ext": "ExtensionMagics",
        "who": "NamespaceMagics",
        "who_ls": "NamespaceMagics",
        "whos": "NamespaceMagics",
        "xdel": "NamespaceMagics",
        "xmode": "BasicMagics"
       }
      },
      "text/plain": [
       "Available line magics:\n",
       "%alias  %alias_magic  %autoawait  %autocall  %automagic  %autosave  %bookmark  %cat  %cd  %clear  %colors  %conda  %config  %connect_info  %cp  %debug  %dhist  %dirs  %doctest_mode  %ed  %edit  %env  %gui  %hist  %history  %killbgscripts  %ldir  %less  %lf  %lk  %ll  %load  %load_ext  %loadpy  %logoff  %logon  %logstart  %logstate  %logstop  %ls  %lsmagic  %lx  %macro  %magic  %man  %matplotlib  %mkdir  %more  %mv  %notebook  %page  %pastebin  %pdb  %pdef  %pdoc  %pfile  %pinfo  %pinfo2  %pip  %popd  %pprint  %precision  %prun  %psearch  %psource  %pushd  %pwd  %pycat  %pylab  %qtconsole  %quickref  %recall  %rehashx  %reload_ext  %rep  %rerun  %reset  %reset_selective  %rm  %rmdir  %run  %save  %sc  %set_env  %store  %sx  %system  %tb  %time  %timeit  %unalias  %unload_ext  %who  %who_ls  %whos  %xdel  %xmode\n",
       "\n",
       "Available cell magics:\n",
       "%%!  %%HTML  %%SVG  %%bash  %%capture  %%debug  %%file  %%html  %%javascript  %%js  %%latex  %%markdown  %%perl  %%prun  %%pypy  %%python  %%python2  %%python3  %%ruby  %%script  %%sh  %%svg  %%sx  %%system  %%time  %%timeit  %%writefile\n",
       "\n",
       "Automagic is ON, % prefix IS NOT needed for line magics."
      ]
     },
     "execution_count": 7,
     "metadata": {},
     "output_type": "execute_result"
    }
   ],
   "source": [
    "lsmagic # esto no es un ejemplo de magics, no utiliza %"
   ]
  },
  {
   "cell_type": "code",
   "execution_count": 8,
   "metadata": {},
   "outputs": [
    {
     "ename": "SyntaxError",
     "evalue": "invalid syntax (<ipython-input-8-217ec361902b>, line 1)",
     "output_type": "error",
     "traceback": [
      "\u001b[0;36m  File \u001b[0;32m\"<ipython-input-8-217ec361902b>\"\u001b[0;36m, line \u001b[0;32m1\u001b[0m\n\u001b[0;31m    $\\alpha$\u001b[0m\n\u001b[0m    ^\u001b[0m\n\u001b[0;31mSyntaxError\u001b[0m\u001b[0;31m:\u001b[0m invalid syntax\n"
     ]
    }
   ],
   "source": [
    "$\\alpha$"
   ]
  },
  {
   "cell_type": "code",
   "execution_count": 10,
   "metadata": {},
   "outputs": [
    {
     "data": {
      "text/latex": [
       "\n",
       "$$\\alpha+\\beta$$\n",
       "$$\\int_{-\\infty}^{\\infty} e^{-x^2} dx = \\sqrt{\\pi}$$\n"
      ],
      "text/plain": [
       "<IPython.core.display.Latex object>"
      ]
     },
     "metadata": {},
     "output_type": "display_data"
    }
   ],
   "source": [
    "%%latex # Con este magics, código en latex puede ir en una celda tipo `Code`\n",
    "\n",
    "$$\\alpha+\\beta$$\n",
    "$$\\int_{-\\infty}^{\\infty} e^{-x^2} dx = \\sqrt{\\pi}$$"
   ]
  },
  {
   "cell_type": "markdown",
   "metadata": {},
   "source": [
    "Yo puedo escribir lo mismo en `Markdown`\n",
    "\n",
    "$$\\alpha+\\beta$$\n",
    "\n",
    "$$\\int_{-\\infty}^{\\infty} e^{-x^2} dx = \\sqrt{\\pi}$$"
   ]
  },
  {
   "cell_type": "markdown",
   "metadata": {},
   "source": [
    "## Introducción a *pandas*\n",
    "\n",
    "`pandas` es una biblioteca desarrollada para la manipulación y el análisis de datos para el lenguaje de programación Python. "
   ]
  },
  {
   "cell_type": "code",
   "execution_count": 11,
   "metadata": {},
   "outputs": [],
   "source": [
    "import pandas as pd\n",
    "\n",
    "import numpy as np # Explicación detallada más adelante\n",
    "import matplotlib.pylab as plt # \" \" \" \""
   ]
  },
  {
   "cell_type": "markdown",
   "metadata": {},
   "source": [
    "### Ejemplo\n",
    "Fuente: wikipedia (https://es.wikipedia.org/wiki/Pandas_(software)) \n",
    "\n",
    "**Curvas**\n",
    "\n",
    "Comenzamos creando 5 series de 100 numeros aleatorios (*random*) y creamos curvas acumulando esos números"
   ]
  },
  {
   "cell_type": "code",
   "execution_count": 12,
   "metadata": {},
   "outputs": [
    {
     "data": {
      "text/plain": [
       "['A', 'B', 'C', 'D', 'E']"
      ]
     },
     "execution_count": 12,
     "metadata": {},
     "output_type": "execute_result"
    }
   ],
   "source": [
    "list('ABCDE')"
   ]
  },
  {
   "cell_type": "code",
   "execution_count": 13,
   "metadata": {},
   "outputs": [
    {
     "data": {
      "image/png": "[encoded data removed]",
      "text/plain": [
       "<Figure size 432x288 with 1 Axes>"
      ]
     },
     "metadata": {
      "needs_background": "light"
     },
     "output_type": "display_data"
    }
   ],
   "source": [
    "df = pd.DataFrame(np.random.randn(100, 5), columns = list('ABCDE')) # “standard normal”\n",
    "df = df.cumsum() # Devuelve la suma acumulada sobre un eje de un DataFrame o una Series\n",
    "\n",
    "df.plot()\n",
    "plt.show()"
   ]
  },
  {
   "cell_type": "code",
   "execution_count": 14,
   "metadata": {},
   "outputs": [
    {
     "data": {
      "text/html": [
       "<div>\n",
       "<style scoped>\n",
       "    .dataframe tbody tr th:only-of-type {\n",
       "        vertical-align: middle;\n",
       "    }\n",
       "\n",
       "    .dataframe tbody tr th {\n",
       "        vertical-align: top;\n",
       "    }\n",
       "\n",
       "    .dataframe thead th {\n",
       "        text-align: right;\n",
       "    }\n",
       "</style>\n",
       "<table border=\"1\" class=\"dataframe\">\n",
       "  <thead>\n",
       "    <tr style=\"text-align: right;\">\n",
       "      <th></th>\n",
       "      <th>A</th>\n",
       "      <th>B</th>\n",
       "      <th>C</th>\n",
       "      <th>D</th>\n",
       "      <th>E</th>\n",
       "    </tr>\n",
       "  </thead>\n",
       "  <tbody>\n",
       "    <tr>\n",
       "      <th>0</th>\n",
       "      <td>-0.525240</td>\n",
       "      <td>-0.593008</td>\n",
       "      <td>2.189300</td>\n",
       "      <td>0.316745</td>\n",
       "      <td>-0.010412</td>\n",
       "    </tr>\n",
       "    <tr>\n",
       "      <th>1</th>\n",
       "      <td>-1.147800</td>\n",
       "      <td>-1.639871</td>\n",
       "      <td>1.602693</td>\n",
       "      <td>-0.251910</td>\n",
       "      <td>0.766901</td>\n",
       "    </tr>\n",
       "    <tr>\n",
       "      <th>2</th>\n",
       "      <td>-0.289290</td>\n",
       "      <td>-2.087978</td>\n",
       "      <td>0.707091</td>\n",
       "      <td>0.193836</td>\n",
       "      <td>1.681697</td>\n",
       "    </tr>\n",
       "    <tr>\n",
       "      <th>3</th>\n",
       "      <td>1.176977</td>\n",
       "      <td>-2.239063</td>\n",
       "      <td>0.858158</td>\n",
       "      <td>0.665827</td>\n",
       "      <td>0.537833</td>\n",
       "    </tr>\n",
       "    <tr>\n",
       "      <th>4</th>\n",
       "      <td>2.638113</td>\n",
       "      <td>-1.988407</td>\n",
       "      <td>-1.241220</td>\n",
       "      <td>-0.247652</td>\n",
       "      <td>0.962121</td>\n",
       "    </tr>\n",
       "    <tr>\n",
       "      <th>...</th>\n",
       "      <td>...</td>\n",
       "      <td>...</td>\n",
       "      <td>...</td>\n",
       "      <td>...</td>\n",
       "      <td>...</td>\n",
       "    </tr>\n",
       "    <tr>\n",
       "      <th>95</th>\n",
       "      <td>-3.059120</td>\n",
       "      <td>-6.661732</td>\n",
       "      <td>-9.495689</td>\n",
       "      <td>-8.989251</td>\n",
       "      <td>-2.940766</td>\n",
       "    </tr>\n",
       "    <tr>\n",
       "      <th>96</th>\n",
       "      <td>-4.500841</td>\n",
       "      <td>-5.822681</td>\n",
       "      <td>-8.924174</td>\n",
       "      <td>-9.150797</td>\n",
       "      <td>-3.582233</td>\n",
       "    </tr>\n",
       "    <tr>\n",
       "      <th>97</th>\n",
       "      <td>-4.534851</td>\n",
       "      <td>-4.421092</td>\n",
       "      <td>-7.355458</td>\n",
       "      <td>-7.803506</td>\n",
       "      <td>-4.280689</td>\n",
       "    </tr>\n",
       "    <tr>\n",
       "      <th>98</th>\n",
       "      <td>-5.034094</td>\n",
       "      <td>-4.235710</td>\n",
       "      <td>-7.457594</td>\n",
       "      <td>-9.110031</td>\n",
       "      <td>-4.977417</td>\n",
       "    </tr>\n",
       "    <tr>\n",
       "      <th>99</th>\n",
       "      <td>-4.985624</td>\n",
       "      <td>-5.656389</td>\n",
       "      <td>-5.797975</td>\n",
       "      <td>-8.612225</td>\n",
       "      <td>-4.201356</td>\n",
       "    </tr>\n",
       "  </tbody>\n",
       "</table>\n",
       "<p>100 rows × 5 columns</p>\n",
       "</div>"
      ],
      "text/plain": [
       "           A         B         C         D         E\n",
       "0  -0.525240 -0.593008  2.189300  0.316745 -0.010412\n",
       "1  -1.147800 -1.639871  1.602693 -0.251910  0.766901\n",
       "2  -0.289290 -2.087978  0.707091  0.193836  1.681697\n",
       "3   1.176977 -2.239063  0.858158  0.665827  0.537833\n",
       "4   2.638113 -1.988407 -1.241220 -0.247652  0.962121\n",
       "..       ...       ...       ...       ...       ...\n",
       "95 -3.059120 -6.661732 -9.495689 -8.989251 -2.940766\n",
       "96 -4.500841 -5.822681 -8.924174 -9.150797 -3.582233\n",
       "97 -4.534851 -4.421092 -7.355458 -7.803506 -4.280689\n",
       "98 -5.034094 -4.235710 -7.457594 -9.110031 -4.977417\n",
       "99 -4.985624 -5.656389 -5.797975 -8.612225 -4.201356\n",
       "\n",
       "[100 rows x 5 columns]"
      ]
     },
     "execution_count": 14,
     "metadata": {},
     "output_type": "execute_result"
    }
   ],
   "source": [
    "df # Creamos un DataFrame"
   ]
  },
  {
   "cell_type": "code",
   "execution_count": 15,
   "metadata": {},
   "outputs": [
    {
     "data": {
      "text/html": [
       "<div>\n",
       "<style scoped>\n",
       "    .dataframe tbody tr th:only-of-type {\n",
       "        vertical-align: middle;\n",
       "    }\n",
       "\n",
       "    .dataframe tbody tr th {\n",
       "        vertical-align: top;\n",
       "    }\n",
       "\n",
       "    .dataframe thead th {\n",
       "        text-align: right;\n",
       "    }\n",
       "</style>\n",
       "<table border=\"1\" class=\"dataframe\">\n",
       "  <thead>\n",
       "    <tr style=\"text-align: right;\">\n",
       "      <th></th>\n",
       "      <th>A</th>\n",
       "      <th>B</th>\n",
       "      <th>C</th>\n",
       "      <th>D</th>\n",
       "      <th>E</th>\n",
       "    </tr>\n",
       "  </thead>\n",
       "  <tbody>\n",
       "    <tr>\n",
       "      <th>0</th>\n",
       "      <td>-0.525240</td>\n",
       "      <td>-0.593008</td>\n",
       "      <td>2.189300</td>\n",
       "      <td>0.316745</td>\n",
       "      <td>-0.010412</td>\n",
       "    </tr>\n",
       "    <tr>\n",
       "      <th>1</th>\n",
       "      <td>-1.147800</td>\n",
       "      <td>-1.639871</td>\n",
       "      <td>1.602693</td>\n",
       "      <td>-0.251910</td>\n",
       "      <td>0.766901</td>\n",
       "    </tr>\n",
       "    <tr>\n",
       "      <th>2</th>\n",
       "      <td>-0.289290</td>\n",
       "      <td>-2.087978</td>\n",
       "      <td>0.707091</td>\n",
       "      <td>0.193836</td>\n",
       "      <td>1.681697</td>\n",
       "    </tr>\n",
       "    <tr>\n",
       "      <th>3</th>\n",
       "      <td>1.176977</td>\n",
       "      <td>-2.239063</td>\n",
       "      <td>0.858158</td>\n",
       "      <td>0.665827</td>\n",
       "      <td>0.537833</td>\n",
       "    </tr>\n",
       "    <tr>\n",
       "      <th>4</th>\n",
       "      <td>2.638113</td>\n",
       "      <td>-1.988407</td>\n",
       "      <td>-1.241220</td>\n",
       "      <td>-0.247652</td>\n",
       "      <td>0.962121</td>\n",
       "    </tr>\n",
       "  </tbody>\n",
       "</table>\n",
       "</div>"
      ],
      "text/plain": [
       "          A         B         C         D         E\n",
       "0 -0.525240 -0.593008  2.189300  0.316745 -0.010412\n",
       "1 -1.147800 -1.639871  1.602693 -0.251910  0.766901\n",
       "2 -0.289290 -2.087978  0.707091  0.193836  1.681697\n",
       "3  1.176977 -2.239063  0.858158  0.665827  0.537833\n",
       "4  2.638113 -1.988407 -1.241220 -0.247652  0.962121"
      ]
     },
     "execution_count": 15,
     "metadata": {},
     "output_type": "execute_result"
    }
   ],
   "source": [
    "df.head() # Muestra los primeros 5 renglones"
   ]
  },
  {
   "cell_type": "code",
   "execution_count": 16,
   "metadata": {},
   "outputs": [
    {
     "data": {
      "text/html": [
       "<div>\n",
       "<style scoped>\n",
       "    .dataframe tbody tr th:only-of-type {\n",
       "        vertical-align: middle;\n",
       "    }\n",
       "\n",
       "    .dataframe tbody tr th {\n",
       "        vertical-align: top;\n",
       "    }\n",
       "\n",
       "    .dataframe thead th {\n",
       "        text-align: right;\n",
       "    }\n",
       "</style>\n",
       "<table border=\"1\" class=\"dataframe\">\n",
       "  <thead>\n",
       "    <tr style=\"text-align: right;\">\n",
       "      <th></th>\n",
       "      <th>A</th>\n",
       "      <th>B</th>\n",
       "      <th>C</th>\n",
       "      <th>D</th>\n",
       "      <th>E</th>\n",
       "    </tr>\n",
       "  </thead>\n",
       "  <tbody>\n",
       "    <tr>\n",
       "      <th>95</th>\n",
       "      <td>-3.059120</td>\n",
       "      <td>-6.661732</td>\n",
       "      <td>-9.495689</td>\n",
       "      <td>-8.989251</td>\n",
       "      <td>-2.940766</td>\n",
       "    </tr>\n",
       "    <tr>\n",
       "      <th>96</th>\n",
       "      <td>-4.500841</td>\n",
       "      <td>-5.822681</td>\n",
       "      <td>-8.924174</td>\n",
       "      <td>-9.150797</td>\n",
       "      <td>-3.582233</td>\n",
       "    </tr>\n",
       "    <tr>\n",
       "      <th>97</th>\n",
       "      <td>-4.534851</td>\n",
       "      <td>-4.421092</td>\n",
       "      <td>-7.355458</td>\n",
       "      <td>-7.803506</td>\n",
       "      <td>-4.280689</td>\n",
       "    </tr>\n",
       "    <tr>\n",
       "      <th>98</th>\n",
       "      <td>-5.034094</td>\n",
       "      <td>-4.235710</td>\n",
       "      <td>-7.457594</td>\n",
       "      <td>-9.110031</td>\n",
       "      <td>-4.977417</td>\n",
       "    </tr>\n",
       "    <tr>\n",
       "      <th>99</th>\n",
       "      <td>-4.985624</td>\n",
       "      <td>-5.656389</td>\n",
       "      <td>-5.797975</td>\n",
       "      <td>-8.612225</td>\n",
       "      <td>-4.201356</td>\n",
       "    </tr>\n",
       "  </tbody>\n",
       "</table>\n",
       "</div>"
      ],
      "text/plain": [
       "           A         B         C         D         E\n",
       "95 -3.059120 -6.661732 -9.495689 -8.989251 -2.940766\n",
       "96 -4.500841 -5.822681 -8.924174 -9.150797 -3.582233\n",
       "97 -4.534851 -4.421092 -7.355458 -7.803506 -4.280689\n",
       "98 -5.034094 -4.235710 -7.457594 -9.110031 -4.977417\n",
       "99 -4.985624 -5.656389 -5.797975 -8.612225 -4.201356"
      ]
     },
     "execution_count": 16,
     "metadata": {},
     "output_type": "execute_result"
    }
   ],
   "source": [
    "df.tail() # Muestra los últimos 5 renglones"
   ]
  },
  {
   "cell_type": "code",
   "execution_count": 17,
   "metadata": {},
   "outputs": [
    {
     "data": {
      "text/plain": [
       "['A', 'B', 'C', 'D', 'E']"
      ]
     },
     "execution_count": 17,
     "metadata": {},
     "output_type": "execute_result"
    }
   ],
   "source": [
    "list('ABCDE') # El nombre de las columnas que asigné en celdas anteriores"
   ]
  },
  {
   "cell_type": "code",
   "execution_count": 18,
   "metadata": {},
   "outputs": [
    {
     "data": {
      "text/html": [
       "<div>\n",
       "<style scoped>\n",
       "    .dataframe tbody tr th:only-of-type {\n",
       "        vertical-align: middle;\n",
       "    }\n",
       "\n",
       "    .dataframe tbody tr th {\n",
       "        vertical-align: top;\n",
       "    }\n",
       "\n",
       "    .dataframe thead th {\n",
       "        text-align: right;\n",
       "    }\n",
       "</style>\n",
       "<table border=\"1\" class=\"dataframe\">\n",
       "  <thead>\n",
       "    <tr style=\"text-align: right;\">\n",
       "      <th></th>\n",
       "      <th>Serie A</th>\n",
       "      <th>Serie B</th>\n",
       "      <th>Serie C</th>\n",
       "      <th>Serie D</th>\n",
       "      <th>Serie E</th>\n",
       "    </tr>\n",
       "  </thead>\n",
       "  <tbody>\n",
       "    <tr>\n",
       "      <th>0</th>\n",
       "      <td>-0.525240</td>\n",
       "      <td>-0.593008</td>\n",
       "      <td>2.189300</td>\n",
       "      <td>0.316745</td>\n",
       "      <td>-0.010412</td>\n",
       "    </tr>\n",
       "    <tr>\n",
       "      <th>1</th>\n",
       "      <td>-1.147800</td>\n",
       "      <td>-1.639871</td>\n",
       "      <td>1.602693</td>\n",
       "      <td>-0.251910</td>\n",
       "      <td>0.766901</td>\n",
       "    </tr>\n",
       "    <tr>\n",
       "      <th>2</th>\n",
       "      <td>-0.289290</td>\n",
       "      <td>-2.087978</td>\n",
       "      <td>0.707091</td>\n",
       "      <td>0.193836</td>\n",
       "      <td>1.681697</td>\n",
       "    </tr>\n",
       "    <tr>\n",
       "      <th>3</th>\n",
       "      <td>1.176977</td>\n",
       "      <td>-2.239063</td>\n",
       "      <td>0.858158</td>\n",
       "      <td>0.665827</td>\n",
       "      <td>0.537833</td>\n",
       "    </tr>\n",
       "    <tr>\n",
       "      <th>4</th>\n",
       "      <td>2.638113</td>\n",
       "      <td>-1.988407</td>\n",
       "      <td>-1.241220</td>\n",
       "      <td>-0.247652</td>\n",
       "      <td>0.962121</td>\n",
       "    </tr>\n",
       "  </tbody>\n",
       "</table>\n",
       "</div>"
      ],
      "text/plain": [
       "    Serie A   Serie B   Serie C   Serie D   Serie E\n",
       "0 -0.525240 -0.593008  2.189300  0.316745 -0.010412\n",
       "1 -1.147800 -1.639871  1.602693 -0.251910  0.766901\n",
       "2 -0.289290 -2.087978  0.707091  0.193836  1.681697\n",
       "3  1.176977 -2.239063  0.858158  0.665827  0.537833\n",
       "4  2.638113 -1.988407 -1.241220 -0.247652  0.962121"
      ]
     },
     "execution_count": 18,
     "metadata": {},
     "output_type": "execute_result"
    }
   ],
   "source": [
    "# Para cambiar nombre de columnas\n",
    "df.columns = [\"Serie A\", \"Serie B\", \"Serie C\", \"Serie D\", \"Serie E\"]\n",
    "\n",
    "df.head()"
   ]
  },
  {
   "cell_type": "code",
   "execution_count": 19,
   "metadata": {},
   "outputs": [
    {
     "data": {
      "text/html": [
       "<div>\n",
       "<style scoped>\n",
       "    .dataframe tbody tr th:only-of-type {\n",
       "        vertical-align: middle;\n",
       "    }\n",
       "\n",
       "    .dataframe tbody tr th {\n",
       "        vertical-align: top;\n",
       "    }\n",
       "\n",
       "    .dataframe thead th {\n",
       "        text-align: right;\n",
       "    }\n",
       "</style>\n",
       "<table border=\"1\" class=\"dataframe\">\n",
       "  <thead>\n",
       "    <tr style=\"text-align: right;\">\n",
       "      <th></th>\n",
       "      <th>Serie A</th>\n",
       "      <th>Serie B</th>\n",
       "      <th>Serie C</th>\n",
       "      <th>Serie D</th>\n",
       "      <th>Serie E</th>\n",
       "    </tr>\n",
       "  </thead>\n",
       "  <tbody>\n",
       "    <tr>\n",
       "      <th>0</th>\n",
       "      <td>-0.525240</td>\n",
       "      <td>-0.593008</td>\n",
       "      <td>2.189300</td>\n",
       "      <td>0.316745</td>\n",
       "      <td>-0.010412</td>\n",
       "    </tr>\n",
       "    <tr>\n",
       "      <th>1</th>\n",
       "      <td>-1.147800</td>\n",
       "      <td>-1.639871</td>\n",
       "      <td>1.602693</td>\n",
       "      <td>-0.251910</td>\n",
       "      <td>0.766901</td>\n",
       "    </tr>\n",
       "    <tr>\n",
       "      <th>2</th>\n",
       "      <td>-0.289290</td>\n",
       "      <td>-2.087978</td>\n",
       "      <td>0.707091</td>\n",
       "      <td>0.193836</td>\n",
       "      <td>1.681697</td>\n",
       "    </tr>\n",
       "    <tr>\n",
       "      <th>3</th>\n",
       "      <td>1.176977</td>\n",
       "      <td>-2.239063</td>\n",
       "      <td>0.858158</td>\n",
       "      <td>0.665827</td>\n",
       "      <td>0.537833</td>\n",
       "    </tr>\n",
       "    <tr>\n",
       "      <th>4</th>\n",
       "      <td>2.638113</td>\n",
       "      <td>-1.988407</td>\n",
       "      <td>-1.241220</td>\n",
       "      <td>-0.247652</td>\n",
       "      <td>0.962121</td>\n",
       "    </tr>\n",
       "  </tbody>\n",
       "</table>\n",
       "</div>"
      ],
      "text/plain": [
       "    Serie A   Serie B   Serie C   Serie D   Serie E\n",
       "0 -0.525240 -0.593008  2.189300  0.316745 -0.010412\n",
       "1 -1.147800 -1.639871  1.602693 -0.251910  0.766901\n",
       "2 -0.289290 -2.087978  0.707091  0.193836  1.681697\n",
       "3  1.176977 -2.239063  0.858158  0.665827  0.537833\n",
       "4  2.638113 -1.988407 -1.241220 -0.247652  0.962121"
      ]
     },
     "execution_count": 19,
     "metadata": {},
     "output_type": "execute_result"
    }
   ],
   "source": [
    "# O bien\n",
    "df.columns = [\"Serie %s\" %i  for i in list('ABCDE')]\n",
    "\n",
    "df.head()"
   ]
  },
  {
   "cell_type": "markdown",
   "metadata": {},
   "source": [
    "La primer columna de la izquierda es un índice que se colocó por default, comienza en 0 y termina en 99. Por el momento no tiene una interpretación real, no obstante, podemos hacer que ese índice nos diga información acerca de los datos en el DataFrame, por ejemplo:"
   ]
  },
  {
   "cell_type": "code",
   "execution_count": 20,
   "metadata": {},
   "outputs": [
    {
     "name": "stdout",
     "output_type": "stream",
     "text": [
      "Mi fecha inicial es: 2000-01-01\n"
     ]
    }
   ],
   "source": [
    "yyyy = '2000'\n",
    "mm = '01'\n",
    "dd = '01'\n",
    "\n",
    "fecha_inicial = yyyy + \"-\" + mm + \"-\" + dd # Concatenación de cadenas\n",
    "\n",
    "print(\"Mi fecha inicial es:\", fecha_inicial)"
   ]
  },
  {
   "cell_type": "markdown",
   "metadata": {},
   "source": [
    "`pandas` te permite crear un rango de fechas "
   ]
  },
  {
   "cell_type": "code",
   "execution_count": 21,
   "metadata": {},
   "outputs": [
    {
     "data": {
      "text/plain": [
       "DatetimeIndex(['2000-01-01', '2000-01-02', '2000-01-03', '2000-01-04',\n",
       "               '2000-01-05', '2000-01-06', '2000-01-07', '2000-01-08',\n",
       "               '2000-01-09', '2000-01-10', '2000-01-11', '2000-01-12',\n",
       "               '2000-01-13', '2000-01-14', '2000-01-15', '2000-01-16',\n",
       "               '2000-01-17', '2000-01-18', '2000-01-19', '2000-01-20',\n",
       "               '2000-01-21', '2000-01-22', '2000-01-23', '2000-01-24',\n",
       "               '2000-01-25', '2000-01-26', '2000-01-27', '2000-01-28',\n",
       "               '2000-01-29', '2000-01-30', '2000-01-31', '2000-02-01',\n",
       "               '2000-02-02', '2000-02-03', '2000-02-04', '2000-02-05',\n",
       "               '2000-02-06', '2000-02-07', '2000-02-08', '2000-02-09',\n",
       "               '2000-02-10', '2000-02-11', '2000-02-12', '2000-02-13',\n",
       "               '2000-02-14', '2000-02-15', '2000-02-16', '2000-02-17',\n",
       "               '2000-02-18', '2000-02-19', '2000-02-20', '2000-02-21',\n",
       "               '2000-02-22', '2000-02-23', '2000-02-24', '2000-02-25',\n",
       "               '2000-02-26', '2000-02-27', '2000-02-28', '2000-02-29',\n",
       "               '2000-03-01', '2000-03-02', '2000-03-03', '2000-03-04',\n",
       "               '2000-03-05', '2000-03-06', '2000-03-07', '2000-03-08',\n",
       "               '2000-03-09', '2000-03-10', '2000-03-11', '2000-03-12',\n",
       "               '2000-03-13', '2000-03-14', '2000-03-15', '2000-03-16',\n",
       "               '2000-03-17', '2000-03-18', '2000-03-19', '2000-03-20',\n",
       "               '2000-03-21', '2000-03-22', '2000-03-23', '2000-03-24',\n",
       "               '2000-03-25', '2000-03-26', '2000-03-27', '2000-03-28',\n",
       "               '2000-03-29', '2000-03-30', '2000-03-31', '2000-04-01',\n",
       "               '2000-04-02', '2000-04-03', '2000-04-04', '2000-04-05',\n",
       "               '2000-04-06', '2000-04-07', '2000-04-08', '2000-04-09'],\n",
       "              dtype='datetime64[ns]', freq='D')"
      ]
     },
     "execution_count": 21,
     "metadata": {},
     "output_type": "execute_result"
    }
   ],
   "source": [
    "fechas = pd.date_range(fecha_inicial, periods = 100, freq = \"D\")\n",
    "fechas"
   ]
  },
  {
   "cell_type": "markdown",
   "metadata": {},
   "source": [
    "y asignarlo como índice a nuestro DataFrame"
   ]
  },
  {
   "cell_type": "code",
   "execution_count": 22,
   "metadata": {},
   "outputs": [
    {
     "data": {
      "text/html": [
       "<div>\n",
       "<style scoped>\n",
       "    .dataframe tbody tr th:only-of-type {\n",
       "        vertical-align: middle;\n",
       "    }\n",
       "\n",
       "    .dataframe tbody tr th {\n",
       "        vertical-align: top;\n",
       "    }\n",
       "\n",
       "    .dataframe thead th {\n",
       "        text-align: right;\n",
       "    }\n",
       "</style>\n",
       "<table border=\"1\" class=\"dataframe\">\n",
       "  <thead>\n",
       "    <tr style=\"text-align: right;\">\n",
       "      <th></th>\n",
       "      <th>Serie A</th>\n",
       "      <th>Serie B</th>\n",
       "      <th>Serie C</th>\n",
       "      <th>Serie D</th>\n",
       "      <th>Serie E</th>\n",
       "    </tr>\n",
       "    <tr>\n",
       "      <th>Fecha</th>\n",
       "      <th></th>\n",
       "      <th></th>\n",
       "      <th></th>\n",
       "      <th></th>\n",
       "      <th></th>\n",
       "    </tr>\n",
       "  </thead>\n",
       "  <tbody>\n",
       "    <tr>\n",
       "      <th>2000-01-01</th>\n",
       "      <td>-0.525240</td>\n",
       "      <td>-0.593008</td>\n",
       "      <td>2.189300</td>\n",
       "      <td>0.316745</td>\n",
       "      <td>-0.010412</td>\n",
       "    </tr>\n",
       "    <tr>\n",
       "      <th>2000-01-02</th>\n",
       "      <td>-1.147800</td>\n",
       "      <td>-1.639871</td>\n",
       "      <td>1.602693</td>\n",
       "      <td>-0.251910</td>\n",
       "      <td>0.766901</td>\n",
       "    </tr>\n",
       "    <tr>\n",
       "      <th>2000-01-03</th>\n",
       "      <td>-0.289290</td>\n",
       "      <td>-2.087978</td>\n",
       "      <td>0.707091</td>\n",
       "      <td>0.193836</td>\n",
       "      <td>1.681697</td>\n",
       "    </tr>\n",
       "    <tr>\n",
       "      <th>2000-01-04</th>\n",
       "      <td>1.176977</td>\n",
       "      <td>-2.239063</td>\n",
       "      <td>0.858158</td>\n",
       "      <td>0.665827</td>\n",
       "      <td>0.537833</td>\n",
       "    </tr>\n",
       "    <tr>\n",
       "      <th>2000-01-05</th>\n",
       "      <td>2.638113</td>\n",
       "      <td>-1.988407</td>\n",
       "      <td>-1.241220</td>\n",
       "      <td>-0.247652</td>\n",
       "      <td>0.962121</td>\n",
       "    </tr>\n",
       "  </tbody>\n",
       "</table>\n",
       "</div>"
      ],
      "text/plain": [
       "             Serie A   Serie B   Serie C   Serie D   Serie E\n",
       "Fecha                                                       \n",
       "2000-01-01 -0.525240 -0.593008  2.189300  0.316745 -0.010412\n",
       "2000-01-02 -1.147800 -1.639871  1.602693 -0.251910  0.766901\n",
       "2000-01-03 -0.289290 -2.087978  0.707091  0.193836  1.681697\n",
       "2000-01-04  1.176977 -2.239063  0.858158  0.665827  0.537833\n",
       "2000-01-05  2.638113 -1.988407 -1.241220 -0.247652  0.962121"
      ]
     },
     "execution_count": 22,
     "metadata": {},
     "output_type": "execute_result"
    }
   ],
   "source": [
    "df.index = fechas\n",
    "df.index.name = 'Fecha'\n",
    "df.head()"
   ]
  },
  {
   "cell_type": "code",
   "execution_count": 23,
   "metadata": {},
   "outputs": [
    {
     "data": {
      "text/plain": [
       "Index(['Serie A', 'Serie B', 'Serie C', 'Serie D', 'Serie E'], dtype='object')"
      ]
     },
     "execution_count": 23,
     "metadata": {},
     "output_type": "execute_result"
    }
   ],
   "source": [
    "df.keys()"
   ]
  },
  {
   "cell_type": "code",
   "execution_count": 24,
   "metadata": {},
   "outputs": [
    {
     "name": "stdout",
     "output_type": "stream",
     "text": [
      "<class 'pandas.core.frame.DataFrame'>\n",
      "DatetimeIndex: 100 entries, 2000-01-01 to 2000-04-09\n",
      "Freq: D\n",
      "Data columns (total 5 columns):\n",
      " #   Column   Non-Null Count  Dtype  \n",
      "---  ------   --------------  -----  \n",
      " 0   Serie A  100 non-null    float64\n",
      " 1   Serie B  100 non-null    float64\n",
      " 2   Serie C  100 non-null    float64\n",
      " 3   Serie D  100 non-null    float64\n",
      " 4   Serie E  100 non-null    float64\n",
      "dtypes: float64(5)\n",
      "memory usage: 4.7 KB\n"
     ]
    }
   ],
   "source": [
    "df.info()"
   ]
  },
  {
   "cell_type": "code",
   "execution_count": 25,
   "metadata": {},
   "outputs": [
    {
     "data": {
      "text/html": [
       "<div>\n",
       "<style scoped>\n",
       "    .dataframe tbody tr th:only-of-type {\n",
       "        vertical-align: middle;\n",
       "    }\n",
       "\n",
       "    .dataframe tbody tr th {\n",
       "        vertical-align: top;\n",
       "    }\n",
       "\n",
       "    .dataframe thead th {\n",
       "        text-align: right;\n",
       "    }\n",
       "</style>\n",
       "<table border=\"1\" class=\"dataframe\">\n",
       "  <thead>\n",
       "    <tr style=\"text-align: right;\">\n",
       "      <th></th>\n",
       "      <th>Serie A</th>\n",
       "      <th>Serie B</th>\n",
       "      <th>Serie C</th>\n",
       "      <th>Serie D</th>\n",
       "      <th>Serie E</th>\n",
       "    </tr>\n",
       "  </thead>\n",
       "  <tbody>\n",
       "    <tr>\n",
       "      <th>count</th>\n",
       "      <td>100.000000</td>\n",
       "      <td>100.000000</td>\n",
       "      <td>100.000000</td>\n",
       "      <td>100.000000</td>\n",
       "      <td>100.000000</td>\n",
       "    </tr>\n",
       "    <tr>\n",
       "      <th>mean</th>\n",
       "      <td>-1.756700</td>\n",
       "      <td>-3.561534</td>\n",
       "      <td>-2.700422</td>\n",
       "      <td>-4.133862</td>\n",
       "      <td>-2.899850</td>\n",
       "    </tr>\n",
       "    <tr>\n",
       "      <th>std</th>\n",
       "      <td>3.334027</td>\n",
       "      <td>2.469697</td>\n",
       "      <td>2.981928</td>\n",
       "      <td>4.706680</td>\n",
       "      <td>2.327225</td>\n",
       "    </tr>\n",
       "    <tr>\n",
       "      <th>min</th>\n",
       "      <td>-7.145920</td>\n",
       "      <td>-9.283493</td>\n",
       "      <td>-9.495689</td>\n",
       "      <td>-13.570164</td>\n",
       "      <td>-8.910404</td>\n",
       "    </tr>\n",
       "    <tr>\n",
       "      <th>25%</th>\n",
       "      <td>-4.877931</td>\n",
       "      <td>-5.699989</td>\n",
       "      <td>-4.280754</td>\n",
       "      <td>-8.662314</td>\n",
       "      <td>-4.253709</td>\n",
       "    </tr>\n",
       "    <tr>\n",
       "      <th>50%</th>\n",
       "      <td>-1.934166</td>\n",
       "      <td>-3.031289</td>\n",
       "      <td>-2.806415</td>\n",
       "      <td>-3.481405</td>\n",
       "      <td>-2.707815</td>\n",
       "    </tr>\n",
       "    <tr>\n",
       "      <th>75%</th>\n",
       "      <td>1.362612</td>\n",
       "      <td>-1.499883</td>\n",
       "      <td>-0.680758</td>\n",
       "      <td>0.346620</td>\n",
       "      <td>-1.432863</td>\n",
       "    </tr>\n",
       "    <tr>\n",
       "      <th>max</th>\n",
       "      <td>4.262969</td>\n",
       "      <td>0.766921</td>\n",
       "      <td>3.146066</td>\n",
       "      <td>3.538130</td>\n",
       "      <td>1.681697</td>\n",
       "    </tr>\n",
       "  </tbody>\n",
       "</table>\n",
       "</div>"
      ],
      "text/plain": [
       "          Serie A     Serie B     Serie C     Serie D     Serie E\n",
       "count  100.000000  100.000000  100.000000  100.000000  100.000000\n",
       "mean    -1.756700   -3.561534   -2.700422   -4.133862   -2.899850\n",
       "std      3.334027    2.469697    2.981928    4.706680    2.327225\n",
       "min     -7.145920   -9.283493   -9.495689  -13.570164   -8.910404\n",
       "25%     -4.877931   -5.699989   -4.280754   -8.662314   -4.253709\n",
       "50%     -1.934166   -3.031289   -2.806415   -3.481405   -2.707815\n",
       "75%      1.362612   -1.499883   -0.680758    0.346620   -1.432863\n",
       "max      4.262969    0.766921    3.146066    3.538130    1.681697"
      ]
     },
     "execution_count": 25,
     "metadata": {},
     "output_type": "execute_result"
    }
   ],
   "source": [
    "df.describe()"
   ]
  },
  {
   "cell_type": "code",
   "execution_count": 26,
   "metadata": {},
   "outputs": [
    {
     "data": {
      "text/plain": [
       "-9.495689239016126"
      ]
     },
     "execution_count": 26,
     "metadata": {},
     "output_type": "execute_result"
    }
   ],
   "source": [
    "df.describe().min()['Serie C']"
   ]
  },
  {
   "cell_type": "code",
   "execution_count": 27,
   "metadata": {},
   "outputs": [
    {
     "data": {
      "text/plain": [
       "pandas.core.frame.DataFrame"
      ]
     },
     "execution_count": 27,
     "metadata": {},
     "output_type": "execute_result"
    }
   ],
   "source": [
    "type(df.describe())"
   ]
  },
  {
   "cell_type": "code",
   "execution_count": 28,
   "metadata": {},
   "outputs": [
    {
     "data": {
      "text/plain": [
       "'2000-01-01'"
      ]
     },
     "execution_count": 28,
     "metadata": {},
     "output_type": "execute_result"
    }
   ],
   "source": [
    "fecha_inicial\n",
    "#df.loc[fecha_inicial, 'Serie B']"
   ]
  },
  {
   "cell_type": "code",
   "execution_count": 29,
   "metadata": {},
   "outputs": [
    {
     "name": "stdout",
     "output_type": "stream",
     "text": [
      "['BooleanDtype', 'Categorical', 'CategoricalDtype', 'CategoricalIndex', 'DataFrame', 'DateOffset', 'DatetimeIndex', 'DatetimeTZDtype', 'ExcelFile', 'ExcelWriter', 'Float64Index', 'Grouper', 'HDFStore', 'Index', 'IndexSlice', 'Int16Dtype', 'Int32Dtype', 'Int64Dtype', 'Int64Index', 'Int8Dtype', 'Interval', 'IntervalDtype', 'IntervalIndex', 'MultiIndex', 'NA', 'NaT', 'NamedAgg', 'Period', 'PeriodDtype', 'PeriodIndex', 'RangeIndex', 'Series', 'SparseDtype', 'StringDtype', 'Timedelta', 'TimedeltaIndex', 'Timestamp', 'UInt16Dtype', 'UInt32Dtype', 'UInt64Dtype', 'UInt64Index', 'UInt8Dtype', '__builtins__', '__cached__', '__doc__', '__docformat__', '__file__', '__getattr__', '__git_version__', '__loader__', '__name__', '__package__', '__path__', '__spec__', '__version__', '_config', '_hashtable', '_is_numpy_dev', '_lib', '_libs', '_np_version_under1p14', '_np_version_under1p15', '_np_version_under1p16', '_np_version_under1p17', '_np_version_under1p18', '_testing', '_tslib', '_typing', '_version', 'api', 'array', 'arrays', 'bdate_range', 'compat', 'concat', 'core', 'crosstab', 'cut', 'date_range', 'describe_option', 'errors', 'eval', 'factorize', 'get_dummies', 'get_option', 'infer_freq', 'interval_range', 'io', 'isna', 'isnull', 'json_normalize', 'lreshape', 'melt', 'merge', 'merge_asof', 'merge_ordered', 'notna', 'notnull', 'offsets', 'option_context', 'options', 'pandas', 'period_range', 'pivot', 'pivot_table', 'plotting', 'qcut', 'read_clipboard', 'read_csv', 'read_excel', 'read_feather', 'read_fwf', 'read_gbq', 'read_hdf', 'read_html', 'read_json', 'read_orc', 'read_parquet', 'read_pickle', 'read_sas', 'read_spss', 'read_sql', 'read_sql_query', 'read_sql_table', 'read_stata', 'read_table', 'reset_option', 'set_eng_float_format', 'set_option', 'show_versions', 'test', 'testing', 'timedelta_range', 'to_datetime', 'to_numeric', 'to_pickle', 'to_timedelta', 'tseries', 'unique', 'util', 'value_counts', 'wide_to_long']\n"
     ]
    }
   ],
   "source": [
    "print(dir(pd))"
   ]
  },
  {
   "cell_type": "markdown",
   "metadata": {},
   "source": [
    "### Ingresar  a los elementos dentro de un DataFrame\n",
    "\n",
    "Un DataFrame está indexado como un arrleglo, especificando el número de renglón y la columna usando **.iloc** (*index location*). \n",
    "\n",
    "La locación puede ser llamado por número o por nombre"
   ]
  },
  {
   "cell_type": "code",
   "execution_count": 30,
   "metadata": {},
   "outputs": [
    {
     "name": "stdout",
     "output_type": "stream",
     "text": [
      "El elemento en el primer renglon y la segunda columna es:  -0.5930075141256681  o bien  -0.5930075141256681\n"
     ]
    }
   ],
   "source": [
    "print(\"El elemento en el primer renglon y la segunda columna es: \", \n",
    "      df.iloc[0, 1], \" o bien \", df.loc[fecha_inicial, 'Serie B'])\n"
   ]
  },
  {
   "cell_type": "markdown",
   "metadata": {},
   "source": [
    "**Importante**\n",
    "\n",
    "¿Qué objetos resultan de correr:\n",
    "- `df.iloc[2]` ?\n",
    "- `df.iloc[2].value` ?\n",
    "- `[d for d in df.iloc[2]]` ?"
   ]
  },
  {
   "cell_type": "code",
   "execution_count": 31,
   "metadata": {},
   "outputs": [],
   "source": [
    "import numpy as np"
   ]
  },
  {
   "cell_type": "code",
   "execution_count": 32,
   "metadata": {},
   "outputs": [
    {
     "data": {
      "text/plain": [
       "Serie A   -0.289290\n",
       "Serie B   -2.087978\n",
       "Serie C    0.707091\n",
       "Serie D    0.193836\n",
       "Serie E    1.681697\n",
       "Name: 2000-01-03 00:00:00, dtype: float64"
      ]
     },
     "execution_count": 32,
     "metadata": {},
     "output_type": "execute_result"
    }
   ],
   "source": [
    "df.iloc[2]"
   ]
  },
  {
   "cell_type": "code",
   "execution_count": 33,
   "metadata": {},
   "outputs": [
    {
     "data": {
      "text/plain": [
       "array([-0.2892898 , -2.08797752,  0.7070912 ,  0.19383635,  1.68169687])"
      ]
     },
     "execution_count": 33,
     "metadata": {},
     "output_type": "execute_result"
    }
   ],
   "source": [
    "df.iloc[2].values # NumPy array! "
   ]
  },
  {
   "cell_type": "code",
   "execution_count": 34,
   "metadata": {},
   "outputs": [
    {
     "data": {
      "text/plain": [
       "[-0.2892897954459972,\n",
       " -2.0879775213634595,\n",
       " 0.7070911955345736,\n",
       " 0.19383635329627347,\n",
       " 1.681696871885841]"
      ]
     },
     "execution_count": 34,
     "metadata": {},
     "output_type": "execute_result"
    }
   ],
   "source": [
    "[d for d in df.iloc[2]]"
   ]
  },
  {
   "cell_type": "code",
   "execution_count": 35,
   "metadata": {},
   "outputs": [
    {
     "data": {
      "text/html": [
       "<div>\n",
       "<style scoped>\n",
       "    .dataframe tbody tr th:only-of-type {\n",
       "        vertical-align: middle;\n",
       "    }\n",
       "\n",
       "    .dataframe tbody tr th {\n",
       "        vertical-align: top;\n",
       "    }\n",
       "\n",
       "    .dataframe thead th {\n",
       "        text-align: right;\n",
       "    }\n",
       "</style>\n",
       "<table border=\"1\" class=\"dataframe\">\n",
       "  <thead>\n",
       "    <tr style=\"text-align: right;\">\n",
       "      <th></th>\n",
       "      <th>Marianne</th>\n",
       "      <th>Eduardo</th>\n",
       "    </tr>\n",
       "  </thead>\n",
       "  <tbody>\n",
       "    <tr>\n",
       "      <th>Podructo A</th>\n",
       "      <td>Bueno.</td>\n",
       "      <td>Muy bueno.</td>\n",
       "    </tr>\n",
       "    <tr>\n",
       "      <th>Producto B</th>\n",
       "      <td>Excelente.</td>\n",
       "      <td>Deficiente.</td>\n",
       "    </tr>\n",
       "  </tbody>\n",
       "</table>\n",
       "</div>"
      ],
      "text/plain": [
       "              Marianne      Eduardo\n",
       "Podructo A      Bueno.   Muy bueno.\n",
       "Producto B  Excelente.  Deficiente."
      ]
     },
     "execution_count": 35,
     "metadata": {},
     "output_type": "execute_result"
    }
   ],
   "source": [
    "pd.DataFrame({'Marianne': ['Bueno.', 'Excelente.'],\n",
    "              'Eduardo': ['Muy bueno.', 'Deficiente.']},\n",
    "             index=['Podructo A', 'Producto B'])"
   ]
  },
  {
   "cell_type": "code",
   "execution_count": 36,
   "metadata": {},
   "outputs": [
    {
     "data": {
      "text/plain": [
       "Promedio 2019    8.1\n",
       "Promedio 2020    9.2\n",
       "Promedio 2021    7.8\n",
       "Name: MCF 9458, dtype: float64"
      ]
     },
     "execution_count": 36,
     "metadata": {},
     "output_type": "execute_result"
    }
   ],
   "source": [
    "pd.Series([8.1, 9.2, 7.8], \n",
    "          index=['Promedio 2019', 'Promedio 2020', 'Promedio 2021'], \n",
    "          name = 'MCF 9458')"
   ]
  },
  {
   "cell_type": "code",
   "execution_count": 37,
   "metadata": {},
   "outputs": [
    {
     "ename": "SyntaxError",
     "evalue": "invalid syntax (<ipython-input-37-a6f93c044b3f>, line 2)",
     "output_type": "error",
     "traceback": [
      "\u001b[0;36m  File \u001b[0;32m\"<ipython-input-37-a6f93c044b3f>\"\u001b[0;36m, line \u001b[0;32m2\u001b[0m\n\u001b[0;31m    columns=['Matematicos', 'Actuarios', MATEMATICOS APLICADOS 'Otro'],\u001b[0m\n\u001b[0m                                                     ^\u001b[0m\n\u001b[0;31mSyntaxError\u001b[0m\u001b[0;31m:\u001b[0m invalid syntax\n"
     ]
    }
   ],
   "source": [
    "clase_mcf = pd.DataFrame([[35, 21, 26], [49, 34, 15]], \n",
    "                           columns=['Matematicos', 'Actuarios', MATEMATICOS APLICADOS 'Otro'], \n",
    "                           index=['Grupo 2017', 'Grupo 2020'])\n",
    "\n",
    "clase_mcf"
   ]
  },
  {
   "cell_type": "code",
   "execution_count": 39,
   "metadata": {},
   "outputs": [
    {
     "data": {
      "text/html": [
       "<div>\n",
       "<style scoped>\n",
       "    .dataframe tbody tr th:only-of-type {\n",
       "        vertical-align: middle;\n",
       "    }\n",
       "\n",
       "    .dataframe tbody tr th {\n",
       "        vertical-align: top;\n",
       "    }\n",
       "\n",
       "    .dataframe thead th {\n",
       "        text-align: right;\n",
       "    }\n",
       "</style>\n",
       "<table border=\"1\" class=\"dataframe\">\n",
       "  <thead>\n",
       "    <tr style=\"text-align: right;\">\n",
       "      <th></th>\n",
       "      <th>Matematicos</th>\n",
       "      <th>Actuarios</th>\n",
       "      <th>Matematicos Aplicados</th>\n",
       "      <th>Otro</th>\n",
       "    </tr>\n",
       "  </thead>\n",
       "  <tbody>\n",
       "    <tr>\n",
       "      <th>Grupo 2017</th>\n",
       "      <td>35</td>\n",
       "      <td>21</td>\n",
       "      <td>2</td>\n",
       "      <td>26</td>\n",
       "    </tr>\n",
       "    <tr>\n",
       "      <th>Grupo 2020</th>\n",
       "      <td>49</td>\n",
       "      <td>34</td>\n",
       "      <td>2</td>\n",
       "      <td>15</td>\n",
       "    </tr>\n",
       "  </tbody>\n",
       "</table>\n",
       "</div>"
      ],
      "text/plain": [
       "            Matematicos  Actuarios  Matematicos Aplicados  Otro\n",
       "Grupo 2017           35         21                      2    26\n",
       "Grupo 2020           49         34                      2    15"
      ]
     },
     "execution_count": 39,
     "metadata": {},
     "output_type": "execute_result"
    }
   ],
   "source": [
    "clase_mcf = pd.DataFrame([[35, 21,2, 26], [49, 34,2, 15]], \n",
    "                           columns=['Matematicos', 'Actuarios','Matematicos Aplicados','Otro'], \n",
    "                           index=['Grupo 2017', 'Grupo 2020'])\n",
    "clase_mcf"
   ]
  },
  {
   "cell_type": "code",
   "execution_count": 40,
   "metadata": {},
   "outputs": [],
   "source": [
    "clase_mcf.to_csv(\"Estadisticas_carrera_mcf.csv\")"
   ]
  },
  {
   "cell_type": "code",
   "execution_count": 41,
   "metadata": {},
   "outputs": [
    {
     "ename": "AttributeError",
     "evalue": "'DataFrame' object has no attribute 'Matematicos_Aplicados'",
     "output_type": "error",
     "traceback": [
      "\u001b[0;31m---------------------------------------------------------------------------\u001b[0m",
      "\u001b[0;31mAttributeError\u001b[0m                            Traceback (most recent call last)",
      "\u001b[0;32m<ipython-input-41-029044f32eaf>\u001b[0m in \u001b[0;36m<module>\u001b[0;34m\u001b[0m\n\u001b[0;32m----> 1\u001b[0;31m \u001b[0mclase_mcf\u001b[0m\u001b[0;34m.\u001b[0m\u001b[0mMatematicos_Aplicados\u001b[0m\u001b[0;34m\u001b[0m\u001b[0;34m\u001b[0m\u001b[0m\n\u001b[0m",
      "\u001b[0;32m/usr/local/anaconda3/lib/python3.8/site-packages/pandas/core/generic.py\u001b[0m in \u001b[0;36m__getattr__\u001b[0;34m(self, name)\u001b[0m\n\u001b[1;32m   5272\u001b[0m             \u001b[0;32mif\u001b[0m \u001b[0mself\u001b[0m\u001b[0;34m.\u001b[0m\u001b[0m_info_axis\u001b[0m\u001b[0;34m.\u001b[0m\u001b[0m_can_hold_identifiers_and_holds_name\u001b[0m\u001b[0;34m(\u001b[0m\u001b[0mname\u001b[0m\u001b[0;34m)\u001b[0m\u001b[0;34m:\u001b[0m\u001b[0;34m\u001b[0m\u001b[0;34m\u001b[0m\u001b[0m\n\u001b[1;32m   5273\u001b[0m                 \u001b[0;32mreturn\u001b[0m \u001b[0mself\u001b[0m\u001b[0;34m[\u001b[0m\u001b[0mname\u001b[0m\u001b[0;34m]\u001b[0m\u001b[0;34m\u001b[0m\u001b[0;34m\u001b[0m\u001b[0m\n\u001b[0;32m-> 5274\u001b[0;31m             \u001b[0;32mreturn\u001b[0m \u001b[0mobject\u001b[0m\u001b[0;34m.\u001b[0m\u001b[0m__getattribute__\u001b[0m\u001b[0;34m(\u001b[0m\u001b[0mself\u001b[0m\u001b[0;34m,\u001b[0m \u001b[0mname\u001b[0m\u001b[0;34m)\u001b[0m\u001b[0;34m\u001b[0m\u001b[0;34m\u001b[0m\u001b[0m\n\u001b[0m\u001b[1;32m   5275\u001b[0m \u001b[0;34m\u001b[0m\u001b[0m\n\u001b[1;32m   5276\u001b[0m     \u001b[0;32mdef\u001b[0m \u001b[0m__setattr__\u001b[0m\u001b[0;34m(\u001b[0m\u001b[0mself\u001b[0m\u001b[0;34m,\u001b[0m \u001b[0mname\u001b[0m\u001b[0;34m:\u001b[0m \u001b[0mstr\u001b[0m\u001b[0;34m,\u001b[0m \u001b[0mvalue\u001b[0m\u001b[0;34m)\u001b[0m \u001b[0;34m->\u001b[0m \u001b[0;32mNone\u001b[0m\u001b[0;34m:\u001b[0m\u001b[0;34m\u001b[0m\u001b[0;34m\u001b[0m\u001b[0m\n",
      "\u001b[0;31mAttributeError\u001b[0m: 'DataFrame' object has no attribute 'Matematicos_Aplicados'"
     ]
    }
   ],
   "source": [
    "clase_mcf.Matematicos_Aplicados"
   ]
  },
  {
   "cell_type": "code",
   "execution_count": 42,
   "metadata": {},
   "outputs": [
    {
     "data": {
      "text/plain": [
       "Grupo 2017    2\n",
       "Grupo 2020    2\n",
       "Name: Matematicos Aplicados, dtype: int64"
      ]
     },
     "execution_count": 42,
     "metadata": {},
     "output_type": "execute_result"
    }
   ],
   "source": [
    "clase_mcf['Matematicos Aplicados']"
   ]
  },
  {
   "cell_type": "code",
   "execution_count": 43,
   "metadata": {},
   "outputs": [
    {
     "data": {
      "text/html": [
       "<div>\n",
       "<style scoped>\n",
       "    .dataframe tbody tr th:only-of-type {\n",
       "        vertical-align: middle;\n",
       "    }\n",
       "\n",
       "    .dataframe tbody tr th {\n",
       "        vertical-align: top;\n",
       "    }\n",
       "\n",
       "    .dataframe thead th {\n",
       "        text-align: right;\n",
       "    }\n",
       "</style>\n",
       "<table border=\"1\" class=\"dataframe\">\n",
       "  <thead>\n",
       "    <tr style=\"text-align: right;\">\n",
       "      <th></th>\n",
       "      <th>Matematicos</th>\n",
       "      <th>Actuarios</th>\n",
       "      <th>Matematicos Aplicados</th>\n",
       "      <th>Otro</th>\n",
       "    </tr>\n",
       "    <tr>\n",
       "      <th>Grupo</th>\n",
       "      <th></th>\n",
       "      <th></th>\n",
       "      <th></th>\n",
       "      <th></th>\n",
       "    </tr>\n",
       "  </thead>\n",
       "  <tbody>\n",
       "    <tr>\n",
       "      <th>Grupo 2017</th>\n",
       "      <td>35</td>\n",
       "      <td>21</td>\n",
       "      <td>2</td>\n",
       "      <td>26</td>\n",
       "    </tr>\n",
       "    <tr>\n",
       "      <th>Grupo 2020</th>\n",
       "      <td>49</td>\n",
       "      <td>34</td>\n",
       "      <td>2</td>\n",
       "      <td>15</td>\n",
       "    </tr>\n",
       "  </tbody>\n",
       "</table>\n",
       "</div>"
      ],
      "text/plain": [
       "            Matematicos  Actuarios  Matematicos Aplicados  Otro\n",
       "Grupo                                                          \n",
       "Grupo 2017           35         21                      2    26\n",
       "Grupo 2020           49         34                      2    15"
      ]
     },
     "execution_count": 43,
     "metadata": {},
     "output_type": "execute_result"
    }
   ],
   "source": [
    "clase_mcf.index.name = 'Grupo'\n",
    "clase_mcf"
   ]
  },
  {
   "cell_type": "code",
   "execution_count": 44,
   "metadata": {},
   "outputs": [
    {
     "data": {
      "text/html": [
       "<div>\n",
       "<style scoped>\n",
       "    .dataframe tbody tr th:only-of-type {\n",
       "        vertical-align: middle;\n",
       "    }\n",
       "\n",
       "    .dataframe tbody tr th {\n",
       "        vertical-align: top;\n",
       "    }\n",
       "\n",
       "    .dataframe thead th {\n",
       "        text-align: right;\n",
       "    }\n",
       "</style>\n",
       "<table border=\"1\" class=\"dataframe\">\n",
       "  <thead>\n",
       "    <tr style=\"text-align: right;\">\n",
       "      <th></th>\n",
       "      <th>Matematicos</th>\n",
       "      <th>Actuarios</th>\n",
       "      <th>Matematicos Aplicados</th>\n",
       "      <th>Otro</th>\n",
       "    </tr>\n",
       "    <tr>\n",
       "      <th>Grupo</th>\n",
       "      <th></th>\n",
       "      <th></th>\n",
       "      <th></th>\n",
       "      <th></th>\n",
       "    </tr>\n",
       "  </thead>\n",
       "  <tbody>\n",
       "    <tr>\n",
       "      <th>2017</th>\n",
       "      <td>35</td>\n",
       "      <td>21</td>\n",
       "      <td>2</td>\n",
       "      <td>26</td>\n",
       "    </tr>\n",
       "    <tr>\n",
       "      <th>2020</th>\n",
       "      <td>49</td>\n",
       "      <td>34</td>\n",
       "      <td>2</td>\n",
       "      <td>15</td>\n",
       "    </tr>\n",
       "  </tbody>\n",
       "</table>\n",
       "</div>"
      ],
      "text/plain": [
       "       Matematicos  Actuarios  Matematicos Aplicados  Otro\n",
       "Grupo                                                     \n",
       "2017            35         21                      2    26\n",
       "2020            49         34                      2    15"
      ]
     },
     "execution_count": 44,
     "metadata": {},
     "output_type": "execute_result"
    }
   ],
   "source": [
    "clase_mcf.index = [2017,2020]\n",
    "clase_mcf.index.name = 'Grupo'\n",
    "clase_mcf"
   ]
  },
  {
   "cell_type": "code",
   "execution_count": 45,
   "metadata": {},
   "outputs": [
    {
     "data": {
      "text/html": [
       "<div>\n",
       "<style scoped>\n",
       "    .dataframe tbody tr th:only-of-type {\n",
       "        vertical-align: middle;\n",
       "    }\n",
       "\n",
       "    .dataframe tbody tr th {\n",
       "        vertical-align: top;\n",
       "    }\n",
       "\n",
       "    .dataframe thead th {\n",
       "        text-align: right;\n",
       "    }\n",
       "</style>\n",
       "<table border=\"1\" class=\"dataframe\">\n",
       "  <thead>\n",
       "    <tr style=\"text-align: right;\">\n",
       "      <th></th>\n",
       "      <th>Serie A</th>\n",
       "      <th>Serie B</th>\n",
       "      <th>Serie C</th>\n",
       "      <th>Serie D</th>\n",
       "      <th>Serie E</th>\n",
       "    </tr>\n",
       "    <tr>\n",
       "      <th>Fecha</th>\n",
       "      <th></th>\n",
       "      <th></th>\n",
       "      <th></th>\n",
       "      <th></th>\n",
       "      <th></th>\n",
       "    </tr>\n",
       "  </thead>\n",
       "  <tbody>\n",
       "    <tr>\n",
       "      <th>2000-01-01</th>\n",
       "      <td>-0.525240</td>\n",
       "      <td>-0.593008</td>\n",
       "      <td>2.189300</td>\n",
       "      <td>0.316745</td>\n",
       "      <td>-0.010412</td>\n",
       "    </tr>\n",
       "    <tr>\n",
       "      <th>2000-01-02</th>\n",
       "      <td>-1.147800</td>\n",
       "      <td>-1.639871</td>\n",
       "      <td>1.602693</td>\n",
       "      <td>-0.251910</td>\n",
       "      <td>0.766901</td>\n",
       "    </tr>\n",
       "    <tr>\n",
       "      <th>2000-01-03</th>\n",
       "      <td>-0.289290</td>\n",
       "      <td>-2.087978</td>\n",
       "      <td>0.707091</td>\n",
       "      <td>0.193836</td>\n",
       "      <td>1.681697</td>\n",
       "    </tr>\n",
       "    <tr>\n",
       "      <th>2000-01-04</th>\n",
       "      <td>1.176977</td>\n",
       "      <td>-2.239063</td>\n",
       "      <td>0.858158</td>\n",
       "      <td>0.665827</td>\n",
       "      <td>0.537833</td>\n",
       "    </tr>\n",
       "    <tr>\n",
       "      <th>2000-01-05</th>\n",
       "      <td>2.638113</td>\n",
       "      <td>-1.988407</td>\n",
       "      <td>-1.241220</td>\n",
       "      <td>-0.247652</td>\n",
       "      <td>0.962121</td>\n",
       "    </tr>\n",
       "    <tr>\n",
       "      <th>...</th>\n",
       "      <td>...</td>\n",
       "      <td>...</td>\n",
       "      <td>...</td>\n",
       "      <td>...</td>\n",
       "      <td>...</td>\n",
       "    </tr>\n",
       "    <tr>\n",
       "      <th>2000-04-05</th>\n",
       "      <td>-3.059120</td>\n",
       "      <td>-6.661732</td>\n",
       "      <td>-9.495689</td>\n",
       "      <td>-8.989251</td>\n",
       "      <td>-2.940766</td>\n",
       "    </tr>\n",
       "    <tr>\n",
       "      <th>2000-04-06</th>\n",
       "      <td>-4.500841</td>\n",
       "      <td>-5.822681</td>\n",
       "      <td>-8.924174</td>\n",
       "      <td>-9.150797</td>\n",
       "      <td>-3.582233</td>\n",
       "    </tr>\n",
       "    <tr>\n",
       "      <th>2000-04-07</th>\n",
       "      <td>-4.534851</td>\n",
       "      <td>-4.421092</td>\n",
       "      <td>-7.355458</td>\n",
       "      <td>-7.803506</td>\n",
       "      <td>-4.280689</td>\n",
       "    </tr>\n",
       "    <tr>\n",
       "      <th>2000-04-08</th>\n",
       "      <td>-5.034094</td>\n",
       "      <td>-4.235710</td>\n",
       "      <td>-7.457594</td>\n",
       "      <td>-9.110031</td>\n",
       "      <td>-4.977417</td>\n",
       "    </tr>\n",
       "    <tr>\n",
       "      <th>2000-04-09</th>\n",
       "      <td>-4.985624</td>\n",
       "      <td>-5.656389</td>\n",
       "      <td>-5.797975</td>\n",
       "      <td>-8.612225</td>\n",
       "      <td>-4.201356</td>\n",
       "    </tr>\n",
       "  </tbody>\n",
       "</table>\n",
       "<p>100 rows × 5 columns</p>\n",
       "</div>"
      ],
      "text/plain": [
       "             Serie A   Serie B   Serie C   Serie D   Serie E\n",
       "Fecha                                                       \n",
       "2000-01-01 -0.525240 -0.593008  2.189300  0.316745 -0.010412\n",
       "2000-01-02 -1.147800 -1.639871  1.602693 -0.251910  0.766901\n",
       "2000-01-03 -0.289290 -2.087978  0.707091  0.193836  1.681697\n",
       "2000-01-04  1.176977 -2.239063  0.858158  0.665827  0.537833\n",
       "2000-01-05  2.638113 -1.988407 -1.241220 -0.247652  0.962121\n",
       "...              ...       ...       ...       ...       ...\n",
       "2000-04-05 -3.059120 -6.661732 -9.495689 -8.989251 -2.940766\n",
       "2000-04-06 -4.500841 -5.822681 -8.924174 -9.150797 -3.582233\n",
       "2000-04-07 -4.534851 -4.421092 -7.355458 -7.803506 -4.280689\n",
       "2000-04-08 -5.034094 -4.235710 -7.457594 -9.110031 -4.977417\n",
       "2000-04-09 -4.985624 -5.656389 -5.797975 -8.612225 -4.201356\n",
       "\n",
       "[100 rows x 5 columns]"
      ]
     },
     "execution_count": 45,
     "metadata": {},
     "output_type": "execute_result"
    }
   ],
   "source": [
    "df"
   ]
  },
  {
   "cell_type": "code",
   "execution_count": 46,
   "metadata": {},
   "outputs": [
    {
     "data": {
      "text/plain": [
       "Serie A   -0.525240\n",
       "Serie B   -0.593008\n",
       "Serie C    2.189300\n",
       "Serie D    0.316745\n",
       "Serie E   -0.010412\n",
       "Name: 2000-01-01 00:00:00, dtype: float64"
      ]
     },
     "execution_count": 46,
     "metadata": {},
     "output_type": "execute_result"
    }
   ],
   "source": [
    "df.iloc[0] # el primer renglón de datos"
   ]
  },
  {
   "cell_type": "markdown",
   "metadata": {},
   "source": [
    "slices"
   ]
  },
  {
   "cell_type": "code",
   "execution_count": 47,
   "metadata": {},
   "outputs": [
    {
     "data": {
      "text/plain": [
       "Fecha\n",
       "2000-01-01   -0.525240\n",
       "2000-01-02   -1.147800\n",
       "2000-01-03   -0.289290\n",
       "2000-01-04    1.176977\n",
       "2000-01-05    2.638113\n",
       "                ...   \n",
       "2000-04-05   -3.059120\n",
       "2000-04-06   -4.500841\n",
       "2000-04-07   -4.534851\n",
       "2000-04-08   -5.034094\n",
       "2000-04-09   -4.985624\n",
       "Freq: D, Name: Serie A, Length: 100, dtype: float64"
      ]
     },
     "execution_count": 47,
     "metadata": {},
     "output_type": "execute_result"
    }
   ],
   "source": [
    "df.iloc[:, 0] # la primera columna de datos"
   ]
  },
  {
   "cell_type": "code",
   "execution_count": 48,
   "metadata": {},
   "outputs": [
    {
     "data": {
      "text/plain": [
       "Fecha\n",
       "2000-01-02   -1.14780\n",
       "2000-01-03   -0.28929\n",
       "Freq: D, Name: Serie A, dtype: float64"
      ]
     },
     "execution_count": 48,
     "metadata": {},
     "output_type": "execute_result"
    }
   ],
   "source": [
    "df.iloc[1:3,0] # segundo y tercer renglón de la primera columna"
   ]
  },
  {
   "cell_type": "code",
   "execution_count": 49,
   "metadata": {},
   "outputs": [
    {
     "data": {
      "text/plain": [
       "Fecha\n",
       "2000-01-01   -0.52524\n",
       "2000-01-02   -1.14780\n",
       "2000-01-03   -0.28929\n",
       "Freq: D, Name: Serie A, dtype: float64"
      ]
     },
     "execution_count": 49,
     "metadata": {},
     "output_type": "execute_result"
    }
   ],
   "source": [
    "df.iloc[:3,0] # primer, segundo y tercer renglon de la primera columna"
   ]
  },
  {
   "cell_type": "code",
   "execution_count": 50,
   "metadata": {},
   "outputs": [
    {
     "data": {
      "text/plain": [
       "Fecha\n",
       "2000-01-01   -0.52524\n",
       "2000-01-02   -1.14780\n",
       "2000-01-03   -0.28929\n",
       "Freq: D, Name: Serie A, dtype: float64"
      ]
     },
     "execution_count": 50,
     "metadata": {},
     "output_type": "execute_result"
    }
   ],
   "source": [
    "df.iloc[[0,1,2]    ,  0  ] # lo mismo"
   ]
  },
  {
   "cell_type": "code",
   "execution_count": 51,
   "metadata": {},
   "outputs": [
    {
     "data": {
      "text/plain": [
       "Fecha\n",
       "2000-01-28    0.201993\n",
       "2000-01-29   -1.173639\n",
       "2000-01-30   -1.127611\n",
       "Freq: D, Name: Serie B, dtype: float64"
      ]
     },
     "execution_count": 51,
     "metadata": {},
     "output_type": "execute_result"
    }
   ],
   "source": [
    "df.iloc[[27,28,29],1]"
   ]
  },
  {
   "cell_type": "code",
   "execution_count": 52,
   "metadata": {},
   "outputs": [
    {
     "data": {
      "text/plain": [
       "Fecha\n",
       "2000-01-27    0.766921\n",
       "2000-01-28    0.201993\n",
       "2000-01-29   -1.173639\n",
       "Freq: D, Name: Serie B, dtype: float64"
      ]
     },
     "execution_count": 52,
     "metadata": {},
     "output_type": "execute_result"
    }
   ],
   "source": [
    "df.iloc[26:29,1]"
   ]
  },
  {
   "cell_type": "code",
   "execution_count": 53,
   "metadata": {},
   "outputs": [
    {
     "data": {
      "text/html": [
       "<div>\n",
       "<style scoped>\n",
       "    .dataframe tbody tr th:only-of-type {\n",
       "        vertical-align: middle;\n",
       "    }\n",
       "\n",
       "    .dataframe tbody tr th {\n",
       "        vertical-align: top;\n",
       "    }\n",
       "\n",
       "    .dataframe thead th {\n",
       "        text-align: right;\n",
       "    }\n",
       "</style>\n",
       "<table border=\"1\" class=\"dataframe\">\n",
       "  <thead>\n",
       "    <tr style=\"text-align: right;\">\n",
       "      <th></th>\n",
       "      <th>Serie A</th>\n",
       "      <th>Serie B</th>\n",
       "      <th>Serie C</th>\n",
       "      <th>Serie D</th>\n",
       "      <th>Serie E</th>\n",
       "    </tr>\n",
       "    <tr>\n",
       "      <th>Fecha</th>\n",
       "      <th></th>\n",
       "      <th></th>\n",
       "      <th></th>\n",
       "      <th></th>\n",
       "      <th></th>\n",
       "    </tr>\n",
       "  </thead>\n",
       "  <tbody>\n",
       "    <tr>\n",
       "      <th>2000-04-05</th>\n",
       "      <td>-3.059120</td>\n",
       "      <td>-6.661732</td>\n",
       "      <td>-9.495689</td>\n",
       "      <td>-8.989251</td>\n",
       "      <td>-2.940766</td>\n",
       "    </tr>\n",
       "    <tr>\n",
       "      <th>2000-04-06</th>\n",
       "      <td>-4.500841</td>\n",
       "      <td>-5.822681</td>\n",
       "      <td>-8.924174</td>\n",
       "      <td>-9.150797</td>\n",
       "      <td>-3.582233</td>\n",
       "    </tr>\n",
       "    <tr>\n",
       "      <th>2000-04-07</th>\n",
       "      <td>-4.534851</td>\n",
       "      <td>-4.421092</td>\n",
       "      <td>-7.355458</td>\n",
       "      <td>-7.803506</td>\n",
       "      <td>-4.280689</td>\n",
       "    </tr>\n",
       "    <tr>\n",
       "      <th>2000-04-08</th>\n",
       "      <td>-5.034094</td>\n",
       "      <td>-4.235710</td>\n",
       "      <td>-7.457594</td>\n",
       "      <td>-9.110031</td>\n",
       "      <td>-4.977417</td>\n",
       "    </tr>\n",
       "    <tr>\n",
       "      <th>2000-04-09</th>\n",
       "      <td>-4.985624</td>\n",
       "      <td>-5.656389</td>\n",
       "      <td>-5.797975</td>\n",
       "      <td>-8.612225</td>\n",
       "      <td>-4.201356</td>\n",
       "    </tr>\n",
       "  </tbody>\n",
       "</table>\n",
       "</div>"
      ],
      "text/plain": [
       "             Serie A   Serie B   Serie C   Serie D   Serie E\n",
       "Fecha                                                       \n",
       "2000-04-05 -3.059120 -6.661732 -9.495689 -8.989251 -2.940766\n",
       "2000-04-06 -4.500841 -5.822681 -8.924174 -9.150797 -3.582233\n",
       "2000-04-07 -4.534851 -4.421092 -7.355458 -7.803506 -4.280689\n",
       "2000-04-08 -5.034094 -4.235710 -7.457594 -9.110031 -4.977417\n",
       "2000-04-09 -4.985624 -5.656389 -5.797975 -8.612225 -4.201356"
      ]
     },
     "execution_count": 53,
     "metadata": {},
     "output_type": "execute_result"
    }
   ],
   "source": [
    "df.iloc[-5:] # los últimos 5 elementos"
   ]
  },
  {
   "cell_type": "markdown",
   "metadata": {},
   "source": [
    "### `.loc`"
   ]
  },
  {
   "cell_type": "code",
   "execution_count": 54,
   "metadata": {},
   "outputs": [
    {
     "data": {
      "text/plain": [
       "-0.5930075141256681"
      ]
     },
     "execution_count": 54,
     "metadata": {},
     "output_type": "execute_result"
    }
   ],
   "source": [
    "df.loc[fecha_inicial, 'Serie B']"
   ]
  },
  {
   "cell_type": "code",
   "execution_count": 55,
   "metadata": {},
   "outputs": [
    {
     "data": {
      "text/plain": [
       "Serie B   -0.593008\n",
       "Serie D    0.316745\n",
       "Name: 2000-01-01 00:00:00, dtype: float64"
      ]
     },
     "execution_count": 55,
     "metadata": {},
     "output_type": "execute_result"
    }
   ],
   "source": [
    "df.loc[fecha_inicial, ['Serie B','Serie D']]"
   ]
  },
  {
   "cell_type": "markdown",
   "metadata": {},
   "source": [
    "### `.at` y `.iat`\n",
    "\n",
    "Estos dos comandos son muy similares a `.loc`y `.iloc`, y de hecho son más rápidos. La única desventaja es que no se pueden seleccionar fragmentos/slices del dataframe (solo puede tener índices enteros)"
   ]
  },
  {
   "cell_type": "code",
   "execution_count": 56,
   "metadata": {},
   "outputs": [
    {
     "name": "stdout",
     "output_type": "stream",
     "text": [
      "5.97 µs ± 297 ns per loop (mean ± std. dev. of 7 runs, 100000 loops each)\n",
      "3.35 µs ± 139 ns per loop (mean ± std. dev. of 7 runs, 100000 loops each)\n"
     ]
    }
   ],
   "source": [
    "%timeit df.iloc[10, 2] # line magics timeit\n",
    "%timeit df.iat[10, 2]"
   ]
  },
  {
   "cell_type": "code",
   "execution_count": 57,
   "metadata": {},
   "outputs": [
    {
     "data": {
      "text/plain": [
       "-0.5930075141256681"
      ]
     },
     "execution_count": 57,
     "metadata": {},
     "output_type": "execute_result"
    }
   ],
   "source": [
    "df.at[fecha_inicial, 'Serie B']"
   ]
  },
  {
   "cell_type": "code",
   "execution_count": 58,
   "metadata": {},
   "outputs": [
    {
     "ename": "ValueError",
     "evalue": "iAt based indexing can only have integer indexers",
     "output_type": "error",
     "traceback": [
      "\u001b[0;31m---------------------------------------------------------------------------\u001b[0m",
      "\u001b[0;31mValueError\u001b[0m                                Traceback (most recent call last)",
      "\u001b[0;32m<ipython-input-58-90e22f14f085>\u001b[0m in \u001b[0;36m<module>\u001b[0;34m\u001b[0m\n\u001b[0;32m----> 1\u001b[0;31m \u001b[0mdf\u001b[0m\u001b[0;34m.\u001b[0m\u001b[0miat\u001b[0m\u001b[0;34m[\u001b[0m\u001b[0;36m10\u001b[0m\u001b[0;34m,\u001b[0m \u001b[0;36m2\u001b[0m\u001b[0;34m:\u001b[0m\u001b[0;36m3\u001b[0m\u001b[0;34m]\u001b[0m\u001b[0;34m\u001b[0m\u001b[0;34m\u001b[0m\u001b[0m\n\u001b[0m",
      "\u001b[0;32m/usr/local/anaconda3/lib/python3.8/site-packages/pandas/core/indexing.py\u001b[0m in \u001b[0;36m__getitem__\u001b[0;34m(self, key)\u001b[0m\n\u001b[1;32m   2176\u001b[0m                 \u001b[0;32mraise\u001b[0m \u001b[0mValueError\u001b[0m\u001b[0;34m(\u001b[0m\u001b[0;34m\"Invalid call for scalar access (getting)!\"\u001b[0m\u001b[0;34m)\u001b[0m\u001b[0;34m\u001b[0m\u001b[0;34m\u001b[0m\u001b[0m\n\u001b[1;32m   2177\u001b[0m \u001b[0;34m\u001b[0m\u001b[0m\n\u001b[0;32m-> 2178\u001b[0;31m         \u001b[0mkey\u001b[0m \u001b[0;34m=\u001b[0m \u001b[0mself\u001b[0m\u001b[0;34m.\u001b[0m\u001b[0m_convert_key\u001b[0m\u001b[0;34m(\u001b[0m\u001b[0mkey\u001b[0m\u001b[0;34m)\u001b[0m\u001b[0;34m\u001b[0m\u001b[0;34m\u001b[0m\u001b[0m\n\u001b[0m\u001b[1;32m   2179\u001b[0m         \u001b[0;32mreturn\u001b[0m \u001b[0mself\u001b[0m\u001b[0;34m.\u001b[0m\u001b[0mobj\u001b[0m\u001b[0;34m.\u001b[0m\u001b[0m_get_value\u001b[0m\u001b[0;34m(\u001b[0m\u001b[0;34m*\u001b[0m\u001b[0mkey\u001b[0m\u001b[0;34m,\u001b[0m \u001b[0mtakeable\u001b[0m\u001b[0;34m=\u001b[0m\u001b[0mself\u001b[0m\u001b[0;34m.\u001b[0m\u001b[0m_takeable\u001b[0m\u001b[0;34m)\u001b[0m\u001b[0;34m\u001b[0m\u001b[0;34m\u001b[0m\u001b[0m\n\u001b[1;32m   2180\u001b[0m \u001b[0;34m\u001b[0m\u001b[0m\n",
      "\u001b[0;32m/usr/local/anaconda3/lib/python3.8/site-packages/pandas/core/indexing.py\u001b[0m in \u001b[0;36m_convert_key\u001b[0;34m(self, key, is_setter)\u001b[0m\n\u001b[1;32m   2235\u001b[0m         \u001b[0;32mfor\u001b[0m \u001b[0ma\u001b[0m\u001b[0;34m,\u001b[0m \u001b[0mi\u001b[0m \u001b[0;32min\u001b[0m \u001b[0mzip\u001b[0m\u001b[0;34m(\u001b[0m\u001b[0mself\u001b[0m\u001b[0;34m.\u001b[0m\u001b[0mobj\u001b[0m\u001b[0;34m.\u001b[0m\u001b[0maxes\u001b[0m\u001b[0;34m,\u001b[0m \u001b[0mkey\u001b[0m\u001b[0;34m)\u001b[0m\u001b[0;34m:\u001b[0m\u001b[0;34m\u001b[0m\u001b[0;34m\u001b[0m\u001b[0m\n\u001b[1;32m   2236\u001b[0m             \u001b[0;32mif\u001b[0m \u001b[0;32mnot\u001b[0m \u001b[0mis_integer\u001b[0m\u001b[0;34m(\u001b[0m\u001b[0mi\u001b[0m\u001b[0;34m)\u001b[0m\u001b[0;34m:\u001b[0m\u001b[0;34m\u001b[0m\u001b[0;34m\u001b[0m\u001b[0m\n\u001b[0;32m-> 2237\u001b[0;31m                 \u001b[0;32mraise\u001b[0m \u001b[0mValueError\u001b[0m\u001b[0;34m(\u001b[0m\u001b[0;34m\"iAt based indexing can only have integer indexers\"\u001b[0m\u001b[0;34m)\u001b[0m\u001b[0;34m\u001b[0m\u001b[0;34m\u001b[0m\u001b[0m\n\u001b[0m\u001b[1;32m   2238\u001b[0m         \u001b[0;32mreturn\u001b[0m \u001b[0mkey\u001b[0m\u001b[0;34m\u001b[0m\u001b[0;34m\u001b[0m\u001b[0m\n\u001b[1;32m   2239\u001b[0m \u001b[0;34m\u001b[0m\u001b[0m\n",
      "\u001b[0;31mValueError\u001b[0m: iAt based indexing can only have integer indexers"
     ]
    }
   ],
   "source": [
    "df.iat[10, 2:3]"
   ]
  },
  {
   "cell_type": "markdown",
   "metadata": {},
   "source": [
    " ### Extraer elementos con condiciones\n",
    " \n",
    " En un dataframe podemos usar condicionales para filtrar o extraer elementos"
   ]
  },
  {
   "cell_type": "code",
   "execution_count": null,
   "metadata": {},
   "outputs": [],
   "source": [
    "nombre_mi_serie = 'Serie C'\n",
    "df[df[nombre_mi_serie] > 5]"
   ]
  },
  {
   "cell_type": "code",
   "execution_count": null,
   "metadata": {},
   "outputs": [],
   "source": [
    "mi_serie =  df[nombre_mi_serie][df[nombre_mi_serie] > 9]\n",
    "mi_serie"
   ]
  },
  {
   "cell_type": "markdown",
   "metadata": {},
   "source": [
    "También podemos devolver los valores de `mi_serie`en una lista"
   ]
  },
  {
   "cell_type": "code",
   "execution_count": null,
   "metadata": {},
   "outputs": [],
   "source": [
    "print(mi_serie.values)"
   ]
  },
  {
   "cell_type": "code",
   "execution_count": null,
   "metadata": {},
   "outputs": [],
   "source": [
    "df[nombre_mi_serie]"
   ]
  },
  {
   "cell_type": "code",
   "execution_count": null,
   "metadata": {},
   "outputs": [],
   "source": [
    "def mi_funcion(x,param):\n",
    "    return 2. * np.sin(x)\n",
    "\n",
    "\n",
    "df[nombre_mi_serie] = df[nombre_mi_serie].apply(mi_funcion, args=(-10,)) # args: tuple - Positional arguments to pass to func in addition to the array/series.\n",
    "# DataFrame.apply(func, axis=0, raw=False, result_type=None, args=(), **kwargs)[source]\n",
    "# https://pandas.pydata.org/docs/reference/api/pandas.DataFrame.apply.html\n",
    "\n",
    "df.head()\n",
    "\n"
   ]
  },
  {
   "cell_type": "markdown",
   "metadata": {},
   "source": [
    "### NumPy Arrays\n",
    "\n",
    "Los arreglos de NumPy son una estructura de datos altamente conveniente para realizar operaciones algebraicas. Los arreglos de NumPy son de dos tipo, vectores o matrices. Los vectores son arreglos de una dimension estrictamente, en cambio, las matrices son de dos dimensiones (aunque una matriz puede tener solo un renglon o una columna)\n",
    "\n",
    "Desde una lista de python podemos crear un arreglo:\n"
   ]
  },
  {
   "cell_type": "code",
   "execution_count": null,
   "metadata": {},
   "outputs": [],
   "source": [
    "mi_lista = [1,2,3,4] \n",
    "mi_lista"
   ]
  },
  {
   "cell_type": "code",
   "execution_count": null,
   "metadata": {},
   "outputs": [],
   "source": [
    "np.array(mi_lista)"
   ]
  },
  {
   "cell_type": "code",
   "execution_count": null,
   "metadata": {},
   "outputs": [],
   "source": [
    "mi_matriz = [[1,5],[4,3]]\n",
    "mi_matriz"
   ]
  },
  {
   "cell_type": "code",
   "execution_count": null,
   "metadata": {},
   "outputs": [],
   "source": [
    "np.array(mi_matriz)"
   ]
  },
  {
   "cell_type": "markdown",
   "metadata": {},
   "source": [
    "También podemos usar métodos previamente programados para generar arreglos"
   ]
  },
  {
   "cell_type": "code",
   "execution_count": null,
   "metadata": {},
   "outputs": [],
   "source": [
    "np.arange(0,5) # Devuelve los valores de un intervalo"
   ]
  },
  {
   "cell_type": "code",
   "execution_count": null,
   "metadata": {},
   "outputs": [],
   "source": [
    "np.arange(0,10,2)"
   ]
  },
  {
   "cell_type": "code",
   "execution_count": null,
   "metadata": {},
   "outputs": [],
   "source": [
    "np.zeros(7)"
   ]
  },
  {
   "cell_type": "code",
   "execution_count": null,
   "metadata": {},
   "outputs": [],
   "source": [
    "np.zeros((4,3))"
   ]
  },
  {
   "cell_type": "code",
   "execution_count": null,
   "metadata": {},
   "outputs": [],
   "source": [
    "np.ones(5)"
   ]
  },
  {
   "cell_type": "code",
   "execution_count": null,
   "metadata": {},
   "outputs": [],
   "source": [
    "np.ones((6,3))"
   ]
  },
  {
   "cell_type": "code",
   "execution_count": null,
   "metadata": {},
   "outputs": [],
   "source": [
    "np.linspace(0,10,5) # Crea un arreglo de 5 elementos equidistantes en el rango de 0 a 10"
   ]
  },
  {
   "cell_type": "code",
   "execution_count": null,
   "metadata": {},
   "outputs": [],
   "source": [
    "np.linspace(0,100,101)"
   ]
  },
  {
   "cell_type": "code",
   "execution_count": null,
   "metadata": {},
   "outputs": [],
   "source": [
    "np.eye(3) # Crea una matriz identidad"
   ]
  },
  {
   "cell_type": "code",
   "execution_count": null,
   "metadata": {},
   "outputs": [],
   "source": [
    "np.random.rand(9) # Create an array of the given shape and populate it\n",
    "# with random samples from a uniform distribution over [0, 1)"
   ]
  },
  {
   "cell_type": "code",
   "execution_count": null,
   "metadata": {},
   "outputs": [],
   "source": [
    "np.random.rand(2,4) # Crea una matriz de números random"
   ]
  },
  {
   "cell_type": "code",
   "execution_count": null,
   "metadata": {},
   "outputs": [],
   "source": [
    "np.random.randint(0,80)"
   ]
  },
  {
   "cell_type": "code",
   "execution_count": null,
   "metadata": {},
   "outputs": [],
   "source": [
    "np.random.randint(1,80,5)"
   ]
  },
  {
   "cell_type": "markdown",
   "metadata": {},
   "source": [
    "Dentro de los atributos que un arreglo tiene, se encuentra `shape`"
   ]
  },
  {
   "cell_type": "code",
   "execution_count": null,
   "metadata": {},
   "outputs": [],
   "source": [
    "# Creamos las variables arreglo y arreglo_rand\n",
    "arreglo = np.arange(20)\n",
    "arreglo_rand = np.random.randint(1,100,15)"
   ]
  },
  {
   "cell_type": "code",
   "execution_count": null,
   "metadata": {},
   "outputs": [],
   "source": [
    "arreglo.shape"
   ]
  },
  {
   "cell_type": "code",
   "execution_count": null,
   "metadata": {},
   "outputs": [],
   "source": [
    "arreglo.reshape(4,5)"
   ]
  },
  {
   "cell_type": "code",
   "execution_count": null,
   "metadata": {},
   "outputs": [],
   "source": [
    "arreglo.reshape(4,5).shape"
   ]
  },
  {
   "cell_type": "markdown",
   "metadata": {},
   "source": [
    "También podemos usar métodos que te permiten conocer elementos mínimos, máximos o los índices de dichos elementos"
   ]
  },
  {
   "cell_type": "code",
   "execution_count": null,
   "metadata": {},
   "outputs": [],
   "source": [
    "arreglo_rand"
   ]
  },
  {
   "cell_type": "code",
   "execution_count": null,
   "metadata": {},
   "outputs": [],
   "source": [
    "print(arreglo_rand.max(),' es el máximo')\n",
    "print(arreglo_rand.argmax(), ' es el índice del máximo')\n",
    "print(arreglo_rand.min(), ' es el mínimo')\n",
    "print(arreglo_rand.argmin(), ' es el índice del mínimo')"
   ]
  },
  {
   "cell_type": "markdown",
   "metadata": {},
   "source": [
    "Por último, para conocer que tipos de datos tiene nuestro arreglo escribimos"
   ]
  },
  {
   "cell_type": "code",
   "execution_count": null,
   "metadata": {},
   "outputs": [],
   "source": [
    "arreglo.dtype"
   ]
  },
  {
   "cell_type": "markdown",
   "metadata": {},
   "source": [
    "### Indexar y seleccionar elementos de un NumPy array\n",
    "\n",
    "Podemos obtener un valor con un indice o en un rango"
   ]
  },
  {
   "cell_type": "code",
   "execution_count": null,
   "metadata": {},
   "outputs": [],
   "source": [
    "# no olvides quién es arreglo\n",
    "arreglo"
   ]
  },
  {
   "cell_type": "code",
   "execution_count": null,
   "metadata": {},
   "outputs": [],
   "source": [
    "arreglo[5]"
   ]
  },
  {
   "cell_type": "code",
   "execution_count": null,
   "metadata": {},
   "outputs": [],
   "source": [
    "arreglo[2:6]"
   ]
  },
  {
   "cell_type": "markdown",
   "metadata": {},
   "source": [
    "La principal diferencia de un np.array con un lista de python es que podemos hacer broadcasting"
   ]
  },
  {
   "cell_type": "code",
   "execution_count": null,
   "metadata": {},
   "outputs": [],
   "source": [
    "arreglo[0:5] = 100\n",
    "arreglo"
   ]
  },
  {
   "cell_type": "code",
   "execution_count": null,
   "metadata": {},
   "outputs": [],
   "source": [
    "arreglo = np.arange(20)\n",
    "arreglo"
   ]
  },
  {
   "cell_type": "code",
   "execution_count": null,
   "metadata": {},
   "outputs": [],
   "source": [
    "arreglo_slice = arreglo[0:11]\n",
    "arreglo_slice"
   ]
  },
  {
   "cell_type": "code",
   "execution_count": null,
   "metadata": {},
   "outputs": [],
   "source": [
    "# Podemos cambiar una parte (slice) del arreglo\n",
    "arreglo_slice[:] = 55\n",
    "arreglo_slice"
   ]
  },
  {
   "cell_type": "code",
   "execution_count": null,
   "metadata": {},
   "outputs": [],
   "source": [
    "# El arreglo original CAMBIOOOOO!\n",
    "arreglo"
   ]
  },
  {
   "cell_type": "markdown",
   "metadata": {},
   "source": [
    "Los datos no son copiados, al hacer un `slice`, es una vista del arreglo orignal. Para **copiar** de verdad tenemos que"
   ]
  },
  {
   "cell_type": "code",
   "execution_count": null,
   "metadata": {},
   "outputs": [],
   "source": [
    "arreglo_copia = arreglo.copy()\n",
    "arreglo_copia"
   ]
  },
  {
   "attachments": {
    "image.png": {
     "image/png": "[encoded data removed]"
    }
   },
   "cell_type": "markdown",
   "metadata": {},
   "source": [
    "El siguiente esquema puede ser bastante útil para entender mejor cómo se asignan índices en un arreglo de dos dimensiones\n",
    "\n",
    "![image.png](attachment:image.png)\n",
    "\n",
    "Fuente: https://images.app.goo.gl/aXTGWddUJd8s1n7SA"
   ]
  },
  {
   "cell_type": "markdown",
   "metadata": {},
   "source": [
    "### Numpy on dataframe\n",
    "\n",
    "Y aquí es donde la mágia de estas estructuras se ve"
   ]
  },
  {
   "cell_type": "code",
   "execution_count": null,
   "metadata": {},
   "outputs": [],
   "source": [
    "letra = input(\"Letra de mi Serie \") # Comando input"
   ]
  },
  {
   "cell_type": "code",
   "execution_count": null,
   "metadata": {},
   "outputs": [],
   "source": [
    "ser = 'Serie ' + letra\n",
    "ser"
   ]
  },
  {
   "cell_type": "code",
   "execution_count": null,
   "metadata": {},
   "outputs": [],
   "source": [
    "print('El valor máximo de mi serie:', df[ser].max())\n",
    "print('La fecha (el índice) cuando se alcanzó el máximo:', df[ser].argmax())\n",
    "print('La fecha en la que se alcanzó el máximo:', df[ser].idxmax())\n",
    "print('La media de mi serie:', df[ser].mean())"
   ]
  },
  {
   "cell_type": "code",
   "execution_count": null,
   "metadata": {},
   "outputs": [],
   "source": [
    "df.plot()"
   ]
  },
  {
   "cell_type": "markdown",
   "metadata": {},
   "source": [
    "También podemos obtener resultados para todo el dataframe"
   ]
  },
  {
   "cell_type": "code",
   "execution_count": null,
   "metadata": {},
   "outputs": [],
   "source": [
    "df.idxmax()"
   ]
  },
  {
   "cell_type": "markdown",
   "metadata": {},
   "source": [
    "Podemos renombrar columnas"
   ]
  },
  {
   "cell_type": "code",
   "execution_count": null,
   "metadata": {},
   "outputs": [],
   "source": [
    "df.rename(columns={'Serie A': '^SPX', \n",
    "                   'Serie B': 'TSLA', \n",
    "                   'Serie C': 'GOOGL', \n",
    "                   'Serie D': 'AAPL', \n",
    "                   'Serie E': 'MSFT'}, inplace=True)\n",
    "df.head()"
   ]
  },
  {
   "cell_type": "markdown",
   "metadata": {},
   "source": [
    "**EJERCICIO:**\n",
    "\n",
    "Descarga de Yahoo Finance los precios de las acciones de las emisoras que utilizamos para renombrar `df` del 2000 al 2005 (2000-01-01 a 2005-12-31 ) https://finance.yahoo.com/quote/AAPL/history?period1=315568800&period2=1647597599&interval=1d&frequency=1d&filter=history\n",
    "\n",
    "\n",
    "Importa los datos utilizando pandas (investiga cómo hacerlo pero este còdigo te puede servir `df = pd.read_csv(\"ejemplo.csv\")`), \n",
    "\n",
    "Calcula los rendimientos diarios de los precios, si te sirve usa `.pct_change()`\n",
    "\n",
    "\n",
    "Haz un dataframe conmo `df`y calcula:\n",
    "\n",
    "* El valor máximo de cada serie\n",
    "* El número del índice cuando se alcanzó el máximo de cada serie\n",
    "* La fecha en la que se alcanzó el máximo de cada serie\n",
    "* La media de cada serie serie"
   ]
  },
  {
   "cell_type": "markdown",
   "metadata": {},
   "source": [
    "## Trabajando con datos reales (desde python)\n",
    "\n",
    "Usaremos información financiera disponible en la red"
   ]
  },
  {
   "cell_type": "code",
   "execution_count": null,
   "metadata": {},
   "outputs": [],
   "source": [
    "import pandas as pd\n",
    "pd.core.common.is_list_like = pd.api.types.is_list_like\n",
    "\n",
    "import pandas_datareader as web\n",
    "from pandas_datareader import data as pdr\n",
    "from datetime import datetime"
   ]
  },
  {
   "cell_type": "markdown",
   "metadata": {},
   "source": [
    "Desde la página del FED https://fred.stlouisfed.org/categories\n",
    "\n"
   ]
  },
  {
   "cell_type": "code",
   "execution_count": null,
   "metadata": {},
   "outputs": [],
   "source": [
    "from datetime import date\n",
    "\n",
    "series_code = 'DGS10' # Tasa de interes de los Treasuries de 10 años\n",
    "# https://fred.stlouisfed.org/series/DGS10\n",
    "\n",
    "data_source = 'fred' # FED Economic Data Service \n",
    "\n",
    "start = date(1962, 1, 1)\n",
    "myData = pdr.DataReader(series_code, data_source, start)"
   ]
  },
  {
   "cell_type": "code",
   "execution_count": null,
   "metadata": {},
   "outputs": [],
   "source": [
    "myData.head()"
   ]
  },
  {
   "cell_type": "code",
   "execution_count": null,
   "metadata": {},
   "outputs": [],
   "source": [
    "myData = myData / 100.\n",
    "series_name = 'Nota del Tesoro de 10 años'\n",
    "myData = myData.rename(columns={series_code: series_name})\n",
    "myData.plot(title=series_name)\n",
    "plt.show() "
   ]
  },
  {
   "cell_type": "markdown",
   "metadata": {},
   "source": [
    "## Vizualización de datos (lo más básico primero)\n",
    "\n",
    "Empezamos por usar `matplotlib`"
   ]
  },
  {
   "cell_type": "code",
   "execution_count": null,
   "metadata": {},
   "outputs": [],
   "source": [
    "import matplotlib.pyplot as plt # https://matplotlib.org\n",
    "import numpy as np"
   ]
  },
  {
   "cell_type": "code",
   "execution_count": null,
   "metadata": {},
   "outputs": [],
   "source": [
    "aa = np.linspace(0, 20, 100)\n",
    "bb = np.exp(-aa)\n",
    "plt.plot(aa, bb)\n",
    "plt.show()"
   ]
  },
  {
   "cell_type": "code",
   "execution_count": null,
   "metadata": {},
   "outputs": [],
   "source": [
    "def f(x): \n",
    "    return np.exp(-x)\n",
    "\n",
    "aa = np.linspace(0, 10, 100) # Defino mi dominio\n",
    "bb = f(aa) # Aplico la función\n",
    "\n",
    "# Grafico\n",
    "plt.plot(aa, bb, 'r', linewidth = 3)\n",
    "plt.title('Función $ e^{-x}$')\n",
    "plt.xlabel(\"Valores de x\")\n",
    "plt.show()"
   ]
  },
  {
   "cell_type": "markdown",
   "metadata": {},
   "source": [
    "Grafica múltiples líneas y agregar leyenda"
   ]
  },
  {
   "cell_type": "code",
   "execution_count": null,
   "metadata": {},
   "outputs": [],
   "source": [
    "x=np.linspace(-4,4,30)\n",
    "y1=x**2\n",
    "y2=-x**2\n",
    "y3=(x-2)**2\n",
    "plt.plot(x,y1, label='$y=x^2$')\n",
    "plt.plot(x,y2, label=\"$y=-x^2$\")\n",
    "plt.plot(x,y3, label=\"$y=(x-2)^2$\")\n",
    "plt.legend()"
   ]
  },
  {
   "cell_type": "code",
   "execution_count": null,
   "metadata": {},
   "outputs": [],
   "source": [
    "x=np.linspace(-4,4,50)\n",
    "y=np.sin(x)\n",
    "plt.plot(x,y,'g*') "
   ]
  },
  {
   "cell_type": "code",
   "execution_count": null,
   "metadata": {},
   "outputs": [],
   "source": [
    "x=np.linspace(-4,4,50)\n",
    "y=np.sin(x)\n",
    "plt.plot(x,y,'b.')"
   ]
  },
  {
   "cell_type": "code",
   "execution_count": null,
   "metadata": {},
   "outputs": [],
   "source": [
    "x=np.linspace(-4,4,30)\n",
    "y1=x**2\n",
    "y2=-x**2\n",
    "y3=(x-2)**2\n",
    "\n",
    "plt.plot(x,y1, 'ro', label='$y=x^2$') # bolitas rojas\n",
    "plt.plot(x,y2, 'kH', label=\"$y=-x^2$\") # exágonos negros\n",
    "plt.plot(x,y3, 'c^', label=\"$y=(x-2)^2$\") # triángulos azul cielo\n",
    "plt.legend()\n",
    "\n",
    "# Guardar la gráfica\n",
    "plt.savefig('/Users/marianne/Desktop/plots.png') # saves to desktop"
   ]
  },
  {
   "cell_type": "markdown",
   "metadata": {},
   "source": [
    "# Continuará..."
   ]
  },
  {
   "cell_type": "markdown",
   "metadata": {},
   "source": [
    "***"
   ]
  },
  {
   "cell_type": "markdown",
   "metadata": {},
   "source": [
    "### La biblioteca `options` "
   ]
  },
  {
   "cell_type": "code",
   "execution_count": null,
   "metadata": {},
   "outputs": [],
   "source": [
    "from yahoo_fin import options"
   ]
  },
  {
   "cell_type": "code",
   "execution_count": null,
   "metadata": {},
   "outputs": [],
   "source": [
    "ticker = \"amzn\""
   ]
  },
  {
   "cell_type": "code",
   "execution_count": null,
   "metadata": {},
   "outputs": [],
   "source": [
    "maturities = options.get_expiration_dates(ticker)\n",
    "maturities"
   ]
  },
  {
   "cell_type": "code",
   "execution_count": null,
   "metadata": {},
   "outputs": [],
   "source": [
    "chain = options.get_options_chain(ticker)\n",
    "calls = chain[\"calls\"]\n",
    "puts = chain[\"puts\"]\n",
    "calls.tail()"
   ]
  },
  {
   "cell_type": "code",
   "execution_count": null,
   "metadata": {},
   "outputs": [],
   "source": [
    "T = maturities[4]"
   ]
  },
  {
   "cell_type": "code",
   "execution_count": null,
   "metadata": {},
   "outputs": [],
   "source": [
    "allOptionsT = options.get_options_chain(ticker, T)\n",
    "allCallsT = options.get_calls(ticker, T)\n",
    "allPutsT = options.get_puts(ticker, T)"
   ]
  },
  {
   "cell_type": "markdown",
   "metadata": {},
   "source": [
    "Este código toma tiempo en correr"
   ]
  },
  {
   "cell_type": "code",
   "execution_count": null,
   "metadata": {},
   "outputs": [],
   "source": [
    "info = {} \n",
    "for date in maturities:\n",
    "    info[date] = options.get_options_chain(ticker, date)"
   ]
  },
  {
   "cell_type": "code",
   "execution_count": null,
   "metadata": {
    "scrolled": true
   },
   "outputs": [],
   "source": [
    "info"
   ]
  },
  {
   "cell_type": "markdown",
   "metadata": {},
   "source": [
    "## Webscraping"
   ]
  },
  {
   "cell_type": "code",
   "execution_count": null,
   "metadata": {},
   "outputs": [],
   "source": [
    "from bs4 import BeautifulSoup\n",
    "import pandas as pd\n",
    "import requests"
   ]
  },
  {
   "cell_type": "code",
   "execution_count": null,
   "metadata": {},
   "outputs": [],
   "source": [
    "url = \"https://en.wikipedia.org/wiki/BNP_Paribas\"\n",
    "#url = \"https://es.wikipedia.org/wiki/Banco_Bilbao_Vizcaya_Argentaria\"\n",
    "\n",
    "content = requests.get(url).content\n",
    "soup = BeautifulSoup(content,'html.parser')"
   ]
  },
  {
   "cell_type": "markdown",
   "metadata": {},
   "source": [
    "Beautiful Soup es una librería Python que permite extraer información de contenido en formato HTML o XML. Para usarla, es necesario especificar un parser, que es responsable de transformar un documento HTML o XML en un árbol complejo de objetos Python.\n",
    "\n",
    "[https://j2logo.com/python/web-scraping-con-python-guia-inicio-beautifulsoup/]"
   ]
  },
  {
   "cell_type": "code",
   "execution_count": null,
   "metadata": {},
   "outputs": [],
   "source": [
    "soup"
   ]
  },
  {
   "cell_type": "code",
   "execution_count": null,
   "metadata": {},
   "outputs": [],
   "source": [
    "soup.title"
   ]
  },
  {
   "cell_type": "code",
   "execution_count": null,
   "metadata": {},
   "outputs": [],
   "source": [
    "atags = soup.find_all(\"a\") ## Viewing all data embedded in a tag"
   ]
  },
  {
   "cell_type": "markdown",
   "metadata": {},
   "source": [
    "El Elemento HTML Anchor `<a>` crea un enlace a otras páginas de internet, archivos o ubicaciones dentro de la misma página, direcciones de correo, o cualquier otra URL. [https://developer.mozilla.org/es/docs/Web/HTML/Element/a]"
   ]
  },
  {
   "cell_type": "code",
   "execution_count": null,
   "metadata": {},
   "outputs": [],
   "source": [
    "## Extracts only the relevant table\n",
    "table = soup.find_all(class_=\"wikitable\")[0]\n",
    "print(\"The html version of the table from the Wikipedia page reads: \")\n",
    "print(\"**********************\")\n",
    "print(table.prettify()) ##  The prettify command adds indentation\n",
    "print(\"**********************\")"
   ]
  },
  {
   "cell_type": "code",
   "execution_count": null,
   "metadata": {},
   "outputs": [],
   "source": [
    "index = [[th.text.strip() for th in tr.findChildren('th')] for tr in table.findChildren('tr')][0][1:]\n",
    "data = [[td.text.strip() for td in tr.findChildren('td')] for tr in table.findChildren('tr')][1:]"
   ]
  },
  {
   "cell_type": "code",
   "execution_count": null,
   "metadata": {},
   "outputs": [],
   "source": [
    "cols = [d[0] for d in data]\n",
    "values = np.transpose([d[1:] for d in data])\n",
    "df = pd.DataFrame (data = values, index = index, columns = cols)\n",
    "df.head()"
   ]
  },
  {
   "cell_type": "code",
   "execution_count": null,
   "metadata": {},
   "outputs": [],
   "source": [
    "index"
   ]
  },
  {
   "cell_type": "code",
   "execution_count": null,
   "metadata": {},
   "outputs": [],
   "source": []
  }
 ],
 "metadata": {
  "kernelspec": {
   "display_name": "Python 3",
   "language": "python",
   "name": "python3"
  },
  "language_info": {
   "codemirror_mode": {
    "name": "ipython",
    "version": 3
   },
   "file_extension": ".py",
   "mimetype": "text/x-python",
   "name": "python",
   "nbconvert_exporter": "python",
   "pygments_lexer": "ipython3",
   "version": "3.8.3"
  }
 },
 "nbformat": 4,
 "nbformat_minor": 4
}
