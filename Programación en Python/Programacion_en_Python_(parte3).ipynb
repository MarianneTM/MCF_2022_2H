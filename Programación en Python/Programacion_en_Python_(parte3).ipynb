{
 "cells": [
  {
   "cell_type": "markdown",
   "metadata": {},
   "source": [
    "<font color = #000066 size=6.5> Facultad de Ciencias</font> \n",
    "\n",
    "<br><font color = #CC9933 size=6.5> UNAM </font> \n",
    "\n",
    " <br><font color = silver size=7> Programación en Python</font> "
   ]
  },
  {
   "cell_type": "markdown",
   "metadata": {},
   "source": [
    "***"
   ]
  },
  {
   "cell_type": "markdown",
   "metadata": {},
   "source": [
    "# Notas del curso Métodos Cuantitativos en Finanzas (Parte 3)\n",
    "\n",
    "\n",
    "El presente curso de programación está dividido en partes para mantener más legible, entendible y ordenado el contenido. \n",
    "\n",
    "<br><font color = #708090 size=1> El contenido de este documento fue inspirado en las notas de los cursos *Python for Finance* e *Introduction to Python Primer* impartidos por los doctores Antoine Jacquier, Aitor Murguraza Gonzalez y Riaz Ahmad. Para cualquier duda o comentario del contenido, escribir a marianne.toscano@ciencias.unam.mx  </font>  "
   ]
  },
  {
   "cell_type": "code",
   "execution_count": null,
   "metadata": {},
   "outputs": [],
   "source": [
    "import numpy as np"
   ]
  },
  {
   "cell_type": "markdown",
   "metadata": {},
   "source": [
    "## Generación de números random\n",
    "\n",
    "NumPy a través de la sentencia numpy.random proporciona una forma eficiente de producir numelos aleatorios de distribuciones específicas:\n",
    "\n",
    "### Binomial"
   ]
  },
  {
   "cell_type": "code",
   "execution_count": null,
   "metadata": {},
   "outputs": [],
   "source": [
    "np.random.binomial(50,0.25) # distribución binomial(n,p) "
   ]
  },
  {
   "cell_type": "code",
   "execution_count": null,
   "metadata": {},
   "outputs": [],
   "source": [
    "np.random.binomial(50,0.25,(2,3,4)) # crea un np.array de simensiones 2, 3 renglones cada uno, 4 columnas "
   ]
  },
  {
   "cell_type": "markdown",
   "metadata": {},
   "source": [
    "### Uniforme"
   ]
  },
  {
   "cell_type": "code",
   "execution_count": null,
   "metadata": {},
   "outputs": [],
   "source": [
    "np.random.uniform(0,1) "
   ]
  },
  {
   "cell_type": "code",
   "execution_count": null,
   "metadata": {},
   "outputs": [],
   "source": [
    "np.random.uniform()"
   ]
  },
  {
   "cell_type": "code",
   "execution_count": null,
   "metadata": {},
   "outputs": [],
   "source": [
    "np.random.uniform(1,4) # U(1,4)"
   ]
  },
  {
   "cell_type": "code",
   "execution_count": null,
   "metadata": {},
   "outputs": [],
   "source": [
    "x=np.random.uniform(0,1,(2,2)) # matriz de 2x2 U(0,1)\n",
    "print(x)"
   ]
  },
  {
   "cell_type": "markdown",
   "metadata": {},
   "source": [
    "### Normal \n",
    "La función `normal()` genera, de una distribución normal estándar un numero aleatorio. Con dos parametros `normal(mu, sigma)` genera un numero aleatorio de una distribución normal con media $\\mu$ y desviación estándar $\\sigma$. Finalmente `normal(mu,sigma,(n,m))`genera un arreglo de dimensiones n por m de una distribución\n",
    "$\\mu+\\sigma\\phi$ que genera un vector aleatorio $X{\\sim}N(\\mu,{\\sigma^2})$."
   ]
  },
  {
   "cell_type": "code",
   "execution_count": null,
   "metadata": {},
   "outputs": [],
   "source": [
    "x=np.random.normal(0,1,(50))\n",
    "x"
   ]
  },
  {
   "cell_type": "code",
   "execution_count": null,
   "metadata": {},
   "outputs": [],
   "source": [
    "np.mean(x)"
   ]
  },
  {
   "cell_type": "code",
   "execution_count": null,
   "metadata": {},
   "outputs": [],
   "source": [
    "np.var(x)"
   ]
  },
  {
   "cell_type": "code",
   "execution_count": null,
   "metadata": {},
   "outputs": [],
   "source": [
    "np.std(x)"
   ]
  },
  {
   "cell_type": "markdown",
   "metadata": {},
   "source": [
    "### Lognormal \n",
    "\n",
    "La funciòn `lognormal()`simula numeros aleatorios de una distribución log normal de parámetros $\\mu = 0$ y $\\sigma = 1$"
   ]
  },
  {
   "cell_type": "code",
   "execution_count": null,
   "metadata": {},
   "outputs": [],
   "source": [
    "z = np.random.lognormal(0,1,(3,3)) # el tercer parametro es la dimensión del arreglo de la función\n",
    "z"
   ]
  },
  {
   "cell_type": "markdown",
   "metadata": {},
   "source": [
    "### Poisson $\\lambda$"
   ]
  },
  {
   "cell_type": "code",
   "execution_count": null,
   "metadata": {},
   "outputs": [],
   "source": [
    "np.random.poisson() # lambda = 1, por default"
   ]
  },
  {
   "cell_type": "code",
   "execution_count": null,
   "metadata": {},
   "outputs": [],
   "source": [
    "np.random.poisson(4) # lambda = 4"
   ]
  },
  {
   "cell_type": "code",
   "execution_count": null,
   "metadata": {},
   "outputs": [],
   "source": [
    "x = np.random.poisson(3,(2,2)) # 2 por 2 con valor esperado = 3\n",
    "print(x,np.mean(x))"
   ]
  },
  {
   "cell_type": "markdown",
   "metadata": {},
   "source": [
    "## Semillas\n",
    "\n",
    "La semilla es una función muy util para manejar numeros aleatorios. se puede utilizar de dos maneras: primero `seed()`inicializzará o reinicializará el. generador de numeros aleatorios, segundo, `seed(s)`servirá para inicializar el generador de numeros aleatorios en un estado particular. "
   ]
  },
  {
   "cell_type": "code",
   "execution_count": null,
   "metadata": {},
   "outputs": [],
   "source": [
    "np.random.seed(2)\n",
    "np.random.normal(0,1,(2,2))"
   ]
  },
  {
   "cell_type": "code",
   "execution_count": null,
   "metadata": {},
   "outputs": [],
   "source": [
    "np.random.normal(0,1,(2,2))"
   ]
  },
  {
   "cell_type": "markdown",
   "metadata": {},
   "source": [
    "**Consejo:** puedes usar el alias `npr`para acortar la sentencia completa"
   ]
  },
  {
   "cell_type": "code",
   "execution_count": null,
   "metadata": {},
   "outputs": [],
   "source": [
    "import numpy.random as npr\n",
    "\n",
    "npr.seed(7866)\n",
    "npr.normal(0,1,(2,2))"
   ]
  },
  {
   "cell_type": "markdown",
   "metadata": {},
   "source": [
    "# Visualización de datos\n",
    "\n",
    "## Graficando distribuciones"
   ]
  },
  {
   "cell_type": "code",
   "execution_count": null,
   "metadata": {},
   "outputs": [],
   "source": [
    "import matplotlib.pyplot as plt "
   ]
  },
  {
   "cell_type": "code",
   "execution_count": null,
   "metadata": {},
   "outputs": [],
   "source": [
    "### Normal estándar\n",
    "X = npr.standard_normal(50000)\n",
    "plt.hist(X, bins = 100, color = 'darkmagenta') # https://matplotlib.org/3.1.0/gallery/color/named_colors.html\n",
    "plt.title('$N(0,1)$')\n",
    "plt.show()"
   ]
  },
  {
   "cell_type": "code",
   "execution_count": null,
   "metadata": {},
   "outputs": [],
   "source": [
    "### Normal \n",
    "Y = npr.normal(-1, 3, (5000))\n",
    "plt.title('$N(-1,3)$')\n",
    "plt.hist(Y,bins=100, color = 'darkcyan')\n",
    "plt.show()"
   ]
  },
  {
   "cell_type": "code",
   "execution_count": null,
   "metadata": {},
   "outputs": [],
   "source": [
    "### uniform ###\n",
    "Z = npr.uniform(-3, 3, (5000)) \n",
    "plt.hist(Z,bins=100, color= 'darkred')\n",
    "plt.title('U(-3,3)')\n",
    "plt.show()"
   ]
  },
  {
   "cell_type": "code",
   "execution_count": null,
   "metadata": {},
   "outputs": [],
   "source": [
    "### lognormal\n",
    "\n",
    "W = npr.lognormal(0, 1, (5000))\n",
    "plt.hist(W,bins=100, color = 'darkseagreen')\n",
    "plt.title('Lognormal(0,1)')\n",
    "plt.autoscale(enable=True)\n",
    "plt.show()"
   ]
  },
  {
   "cell_type": "code",
   "execution_count": null,
   "metadata": {},
   "outputs": [],
   "source": [
    "### Normal acumulada\n",
    "X = npr.standard_normal(50000)\n",
    "plt.hist(X,bins=100, cumulative = True, color='grey')\n",
    "plt.title('$N(0,1)$')\n",
    "plt.show()"
   ]
  },
  {
   "cell_type": "code",
   "execution_count": null,
   "metadata": {},
   "outputs": [],
   "source": [
    "bins = np.linspace(-3,3,100) # define the width of the bins\n",
    "fig = plt.figure(figsize = (15,10)) # la medida de la figura\n",
    "\n",
    "\n",
    "sub1 = fig.add_subplot(221) # en una matriz de 2x2, el elemento 1\n",
    "plt.hist(X,bins,cumulative=True, color = 'indigo')\n",
    "plt.title('$N(0,1)$', fontsize = 14)\n",
    "plt.xlabel('Valor', fontsize=12)\n",
    "plt.ylabel('Frecuencia', fontsize=12)\n",
    "\n",
    "sub2 = fig.add_subplot(222)\n",
    "plt.hist(Y,bins, color = 'navy')\n",
    "plt.title('$N(-1,3)$', fontsize = 14)\n",
    "plt.xlabel('Valor', fontsize=12)\n",
    "plt.ylabel('Freqcuencia', fontsize=12)\n",
    "\n",
    "sub3 = fig.add_subplot(223)\n",
    "plt.hist(Z,bins)\n",
    "plt.title('$U(-3,3)$', fontsize = 14)\n",
    "plt.xlabel('Valor', fontsize=12)\n",
    "plt.ylabel('Frecuencia', fontsize=12)\n",
    "\n",
    "sub4 = fig.add_subplot(224)\n",
    "plt.hist(W,bins, color = 'rebeccapurple')\n",
    "plt.title('$LN(0,1)$', fontsize = 14)\n",
    "plt.xlabel('Valor', fontsize=12)\n",
    "plt.ylabel('Frecuencia', fontsize=12)\n",
    "\n",
    "plt.show()"
   ]
  },
  {
   "cell_type": "code",
   "execution_count": null,
   "metadata": {},
   "outputs": [],
   "source": [
    "# Obtener data de yahoo finance \n",
    "\n",
    "import yfinance as yf\n"
   ]
  },
  {
   "cell_type": "code",
   "execution_count": null,
   "metadata": {},
   "outputs": [],
   "source": [
    "symbols = ['TSLA', 'GOOGL','AAPL', 'MSFT']\n",
    "stocks = yf.download(symbols, start = '2017-01-01', end = '2021-12-31', progress = False)['Adj Close']\n",
    "stocks.to_csv('stocks.csv')"
   ]
  },
  {
   "cell_type": "code",
   "execution_count": null,
   "metadata": {},
   "outputs": [],
   "source": [
    "# !pip install cufflinks"
   ]
  },
  {
   "cell_type": "code",
   "execution_count": null,
   "metadata": {},
   "outputs": [],
   "source": [
    "# Import base libraries\n",
    "from numpy import *\n",
    "from numpy.linalg import multi_dot\n",
    "import pandas as pd\n",
    "\n",
    "# Import cufflinks\n",
    "import cufflinks as cf\n",
    "cf.set_config_file(\n",
    "    offline = True, \n",
    "    dimensions = ((800,600)),\n",
    "    theme = 'henanigans')\n",
    "\n",
    "# Import plotly express for EF plot\n",
    "import plotly.express as px\n",
    "px.defaults.template = \"plotly_dark\"\n",
    "px.defaults.width = 1000\n",
    "px.defaults.height = 600\n",
    "\n",
    "# Ignore warnings\n",
    "#import warnings\n",
    "#warnings.filterwarnings('ignore')"
   ]
  },
  {
   "cell_type": "code",
   "execution_count": null,
   "metadata": {},
   "outputs": [],
   "source": [
    "# Load locally stored data\n",
    "df = pd.read_csv('datos.csv', index_col=0, parse_dates=True)\n",
    "\n",
    "df.columns = [\"ETF_SPX\", \"MSCI_Europe\", \"MSCI_China\", \"NAFTRAC\"]\n",
    "\n",
    "# Verify the output\n",
    "df"
   ]
  },
  {
   "cell_type": "code",
   "execution_count": null,
   "metadata": {},
   "outputs": [],
   "source": [
    "df.plot()"
   ]
  },
  {
   "cell_type": "markdown",
   "metadata": {},
   "source": [
    "## ¿Gemelos? (Cufflinks)\n",
    "\n",
    "Visualización de datos avanzada. https://www.analyticsvidhya.com/blog/2021/06/advanced-python-data-visualization-libraries-plotly/\n"
   ]
  },
  {
   "cell_type": "code",
   "execution_count": null,
   "metadata": {},
   "outputs": [],
   "source": [
    "cf.help()"
   ]
  },
  {
   "cell_type": "code",
   "execution_count": null,
   "metadata": {},
   "outputs": [],
   "source": [
    "df['2021':].normalize().iplot(kind='line', title='Gráfica de Precios Normalizados')\n"
   ]
  },
  {
   "cell_type": "code",
   "execution_count": null,
   "metadata": {},
   "outputs": [],
   "source": [
    "# Calculate returns \n",
    "returns = df.pct_change().fillna(0)\n",
    "returns.tail()"
   ]
  },
  {
   "cell_type": "code",
   "execution_count": null,
   "metadata": {},
   "outputs": [],
   "source": [
    "# Plot annualized return and volatility\n",
    "pd.DataFrame({\n",
    "    'Retorno anualizado' : round(returns.mean() * 252 * 100,2),\n",
    "    'Volatilidad anualizada': round(returns.std()*sqrt(252) * 100,2)\n",
    "}).iplot(kind = 'bar', \n",
    "         title ='Retornos y Volatilidad Anualizados(%)', \n",
    "         shared_xaxes = True, subplots = True)"
   ]
  },
  {
   "cell_type": "code",
   "execution_count": null,
   "metadata": {},
   "outputs": [],
   "source": [
    "fig = px.scatter(\n",
    "    returns, x = 'MSCI_China', y='ETF_SPX', color='NAFTRAC', \n",
    "    title = \"Scatter plot con precios de ETF's\"\n",
    "     ).update_traces(mode = 'markers', marker = dict(symbol='cross'))\n",
    "\n",
    "fig.update_xaxes(showspikes=True)\n",
    "fig.update_yaxes(showspikes=True)\n",
    "fig.show()"
   ]
  },
  {
   "cell_type": "markdown",
   "metadata": {},
   "source": [
    "## Otros ejemplos"
   ]
  },
  {
   "cell_type": "markdown",
   "metadata": {},
   "source": [
    "1. Generamos números aleatorios de `cf`con la sentencia `datagen`\n",
    "2. Creamos una gráfica de caja y brazos (tipo de figura)\n",
    "3. Ponemos leyenda"
   ]
  },
  {
   "cell_type": "code",
   "execution_count": null,
   "metadata": {},
   "outputs": [],
   "source": [
    "cf.datagen.box(20).iplot(kind='box',legend= True)"
   ]
  },
  {
   "cell_type": "markdown",
   "metadata": {},
   "source": [
    "1. Gemelos utiliza `datage` para generar números aleatorios.\n",
    "\n",
    "2. La figura se define en forma de líneas (`lines()`) \n",
    "\n",
    "3. Luego, se usa `ta_plot` para dibujar este grupo de series de tiempo, el paràmetro study hace un analisis de medias moviles SMA tres ciclos diferentes (`periods = []`)."
   ]
  },
  {
   "cell_type": "code",
   "execution_count": null,
   "metadata": {},
   "outputs": [],
   "source": [
    "cf.datagen.lines(1,500).ta_plot(study='sma',periods=[13,21,55])"
   ]
  },
  {
   "cell_type": "markdown",
   "metadata": {},
   "source": [
    "***"
   ]
  },
  {
   "cell_type": "markdown",
   "metadata": {},
   "source": [
    " <b><font color = #5C15AA size=9> ¡Gracias! </font> \n",
    "    \n",
    "   <b><font color = #8A15AA size=4> Éxito en tu aprendizaje continuo. :) </font> "
   ]
  },
  {
   "cell_type": "markdown",
   "metadata": {},
   "source": [
    "***"
   ]
  }
 ],
 "metadata": {
  "kernelspec": {
   "display_name": "Python 3",
   "language": "python",
   "name": "python3"
  },
  "language_info": {
   "codemirror_mode": {
    "name": "ipython",
    "version": 3
   },
   "file_extension": ".py",
   "mimetype": "text/x-python",
   "name": "python",
   "nbconvert_exporter": "python",
   "pygments_lexer": "ipython3",
   "version": "3.8.3"
  }
 },
 "nbformat": 4,
 "nbformat_minor": 4
}
